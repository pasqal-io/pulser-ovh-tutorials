{
 "cells": [
  {
   "cell_type": "markdown",
   "id": "85ce5b59",
   "metadata": {
    "papermill": {
     "duration": 0.021888,
     "end_time": "2024-02-14T12:48:37.280392",
     "exception": false,
     "start_time": "2024-02-14T12:48:37.258504",
     "status": "completed"
    },
    "tags": []
   },
   "source": [
    "# Efficient estimation techniques for Variational Quantum Simulation"
   ]
  },
  {
   "cell_type": "markdown",
   "id": "a4c45d47",
   "metadata": {
    "papermill": {
     "duration": 0.004178,
     "end_time": "2024-02-14T12:48:37.297702",
     "exception": false,
     "start_time": "2024-02-14T12:48:37.293524",
     "status": "completed"
    },
    "tags": []
   },
   "source": [
    "## Introduction"
   ]
  },
  {
   "cell_type": "markdown",
   "id": "2b27273f",
   "metadata": {
    "papermill": {
     "duration": 0.003743,
     "end_time": "2024-02-14T12:48:37.305216",
     "exception": false,
     "start_time": "2024-02-14T12:48:37.301473",
     "status": "completed"
    },
    "tags": []
   },
   "source": [
    "$\\newcommand{\\ket}[1]{\\left|#1\\right>} \\newcommand{\\bra}[1]{\\left<#1\\right|}$\n",
    "This notebook's purpose is to introduce the concept of classical shadow estimation, as well as its use in **VQS** (**V**ariational **Q**uantum **S**imulation). This technique, introduced in [this article by Huang, Kueng and Preskill](https://arxiv.org/abs/2002.08953), is used for efficiently estimating multiple observables, and is extremely powerful in that regard, asymptotically reaching theoretical lower bounds of quantum information theory regarding the number of required samples of a given state for estimation ([see here for details](https://arxiv.org/abs/2101.02464)). \n",
    "\n",
    "The primary goal of this notebook is to estimate the groundstate energy of the $H_2$ molecule, using a VQS. We will first implement the method of random classical shadows in Python. Then, we'll introduce its derandomized counterpart, which is particularly useful in our setting. We'll finally describe the VQS, and benchmark the estimation methods we introduced for computing the molecule's energy. This notebook draws some inspiration from [this PennyLane Jupyter notebook](https://pennylane.ai/qml/demos/tutorial_classical_shadows.html) on quantum machine learning and classical shadows."
   ]
  },
  {
   "cell_type": "markdown",
   "id": "4599fd5e",
   "metadata": {
    "papermill": {
     "duration": 0.004086,
     "end_time": "2024-02-14T12:48:37.313100",
     "exception": false,
     "start_time": "2024-02-14T12:48:37.309014",
     "status": "completed"
    },
    "tags": []
   },
   "source": [
    "## Random classical shadows"
   ]
  },
  {
   "cell_type": "markdown",
   "id": "1332e0e9",
   "metadata": {
    "papermill": {
     "duration": 0.003681,
     "end_time": "2024-02-14T12:48:37.320636",
     "exception": false,
     "start_time": "2024-02-14T12:48:37.316955",
     "status": "completed"
    },
    "tags": []
   },
   "source": [
    "### Main ideas and implementation"
   ]
  },
  {
   "cell_type": "markdown",
   "id": "f52b95f4",
   "metadata": {
    "papermill": {
     "duration": 0.003612,
     "end_time": "2024-02-14T12:48:37.327905",
     "exception": false,
     "start_time": "2024-02-14T12:48:37.324293",
     "status": "completed"
    },
    "tags": []
   },
   "source": [
    "Classical shadow estimation relies on the fact that for a particular\n",
    "choice of measurement, we can efficiently store snapshots of the state\n",
    "that contain enough information to accurately predict linear functions\n",
    "of observables.\n",
    "\n",
    "Let us consider an $n$-qubit quantum state $\\rho$ (prepared by a\n",
    "pulse sequence) and apply a random unitary $U$ to the state:\n",
    "\n",
    "$$\\rho \\to U \\rho U^\\dagger.$$\n",
    "\n",
    "Next, we measure in the computational basis and obtain a bit string of\n",
    "outcomes $|b\\rangle = |0011\\ldots10\\rangle$. If the unitaries $U$ are\n",
    "chosen at random from a particular ensemble, then we can store the\n",
    "reverse operation $U^\\dagger |b\\rangle\\langle b| U$ efficiently in\n",
    "classical memory. We call this a *snapshot* of the state. Moreover, we\n",
    "can view the average over these snapshots as a measurement channel:\n",
    "\n",
    "$$\\mathbb{E}\\left[U^\\dagger |b\\rangle\\langle b| U\\right] = \\mathcal{M}(\\rho).$$\n",
    "\n",
    "We restrict ourselves to unitary ensembles that define a tomographically complete set of\n",
    "measurements (i.e $\\mathcal{M}$ is invertible), therefore :\n",
    "\n",
    "$$\\rho = \\mathbb{E}\\left[\\mathcal{M}^{-1}\\left(U^\\dagger |b\\rangle\\langle b| U \\right)\\right].$$\n",
    "\n",
    "If we apply the procedure outlined above $N$ times, then the collection\n",
    "of inverted snapshots is what we call the *classical shadow*\n",
    "\n",
    "$$S(\\rho,N) = \\left\\{\\hat{\\rho}_1= \\mathcal{M}^{-1}\\left(U_1^\\dagger |b_1\\rangle\\langle b_1| U_1 \\right)\n",
    ",\\ldots, \\hat{\\rho}_N= \\mathcal{M}^{-1}\\left(U_N^\\dagger |b_N\\rangle\\langle b_N| U_N \\right)\n",
    "\\right\\}.$$\n",
    "\n",
    "Since the shadow approximates $\\rho$, we can now estimate **any**\n",
    "observable with the empirical mean:\n",
    "\n",
    "$$\\langle O \\rangle = \\frac{1}{N}\\sum_i \\text{Tr}{\\hat{\\rho}_i O}.$$\n",
    "\n",
    "We will be using a median-of-means procedure in practice."
   ]
  },
  {
   "cell_type": "markdown",
   "id": "9118cddb",
   "metadata": {
    "papermill": {
     "duration": 0.003635,
     "end_time": "2024-02-14T12:48:37.335140",
     "exception": false,
     "start_time": "2024-02-14T12:48:37.331505",
     "status": "completed"
    },
    "tags": []
   },
   "source": [
    "We start by defining several useful quantities, such as the unitary matrices associated with Pauli measurements : the Hadamard matrix, change of basis from $\\{\\ket{0}, \\ket{1}\\}$ to the eigenbasis of $\\sigma_X$, $\\{\\ket{+}, \\ket{-}\\}$, and its $\\sigma_Y, \\sigma_Z$ counterparts. We will then draw randomly from this tomographically complete set of $3$ unitaries.\n",
    "\n",
    "Note that we will need $4$ qubits for our VQS problem : we will explain the mapping from the molecule to qubits later."
   ]
  },
  {
   "cell_type": "code",
   "execution_count": 1,
   "id": "3c293f9f",
   "metadata": {
    "execution": {
     "iopub.execute_input": "2024-02-14T12:48:37.343223Z",
     "iopub.status.busy": "2024-02-14T12:48:37.343096Z",
     "iopub.status.idle": "2024-02-14T12:48:38.336525Z",
     "shell.execute_reply": "2024-02-14T12:48:38.336162Z"
    },
    "papermill": {
     "duration": 1.010247,
     "end_time": "2024-02-14T12:48:38.349030",
     "exception": false,
     "start_time": "2024-02-14T12:48:37.338783",
     "status": "completed"
    },
    "tags": []
   },
   "outputs": [],
   "source": [
    "import numpy as np\n",
    "import qutip\n",
    "import matplotlib.pyplot as plt\n",
    "from scipy.optimize import minimize\n",
    "\n",
    "from pulser import Register, Sequence, Pulse\n",
    "from pulser.devices import Chadoq2\n",
    "from pulser_simulation import QutipEmulator"
   ]
  },
  {
   "cell_type": "code",
   "execution_count": 2,
   "id": "1c900ec3",
   "metadata": {
    "execution": {
     "iopub.execute_input": "2024-02-14T12:48:38.360427Z",
     "iopub.status.busy": "2024-02-14T12:48:38.360221Z",
     "iopub.status.idle": "2024-02-14T12:48:38.364510Z",
     "shell.execute_reply": "2024-02-14T12:48:38.364245Z"
    },
    "papermill": {
     "duration": 0.010176,
     "end_time": "2024-02-14T12:48:38.365411",
     "exception": false,
     "start_time": "2024-02-14T12:48:38.355235",
     "status": "completed"
    },
    "tags": []
   },
   "outputs": [],
   "source": [
    "num_qubits = 4\n",
    "zero_state = qutip.basis(2, 0).proj()\n",
    "one_state = qutip.basis(2, 1).proj()\n",
    "hadamard = 1 / np.sqrt(2) * qutip.Qobj([[1.0, 1.0], [1.0, -1.0]])\n",
    "h_mul_phase = qutip.Qobj(np.array([[1.0, 1], [1.0j, -1.0j]])) / np.sqrt(2)\n",
    "unitary_ensemble = [hadamard, h_mul_phase, qutip.qeye(2)]\n",
    "\n",
    "g = qutip.basis(2, 1)\n",
    "r = qutip.basis(2, 0)\n",
    "n = r * r.dag()\n",
    "\n",
    "sx = qutip.sigmax()\n",
    "sy = qutip.sigmay()\n",
    "sz = qutip.sigmaz()\n",
    "\n",
    "gggg = qutip.tensor([g, g, g, g])\n",
    "ggrr = qutip.tensor([g, g, r, r])"
   ]
  },
  {
   "cell_type": "markdown",
   "id": "eb7201e7",
   "metadata": {
    "papermill": {
     "duration": 0.00403,
     "end_time": "2024-02-14T12:48:38.373366",
     "exception": false,
     "start_time": "2024-02-14T12:48:38.369336",
     "status": "completed"
    },
    "tags": []
   },
   "source": [
    "We first define a function that spits out a random bitstring sampled from a given density matrix."
   ]
  },
  {
   "cell_type": "code",
   "execution_count": 3,
   "id": "3e34fb5d",
   "metadata": {
    "execution": {
     "iopub.execute_input": "2024-02-14T12:48:38.382049Z",
     "iopub.status.busy": "2024-02-14T12:48:38.381928Z",
     "iopub.status.idle": "2024-02-14T12:48:38.383969Z",
     "shell.execute_reply": "2024-02-14T12:48:38.383655Z"
    },
    "papermill": {
     "duration": 0.007221,
     "end_time": "2024-02-14T12:48:38.384751",
     "exception": false,
     "start_time": "2024-02-14T12:48:38.377530",
     "status": "completed"
    },
    "tags": []
   },
   "outputs": [],
   "source": [
    "def measure_bitstring(state):\n",
    "    \"\"\"Auxiliary function that returns a bitstring according to the measure of a quantum state.\"\"\"\n",
    "    probs = np.real(state.diag())\n",
    "    probs /= np.sum(probs)\n",
    "    x = np.nonzero(np.random.multinomial(1, probs))[0][0]\n",
    "    bitstring = np.binary_repr(x, num_qubits)\n",
    "    return bitstring"
   ]
  },
  {
   "cell_type": "markdown",
   "id": "4a9dadc4",
   "metadata": {
    "papermill": {
     "duration": 0.003974,
     "end_time": "2024-02-14T12:48:38.394968",
     "exception": false,
     "start_time": "2024-02-14T12:48:38.390994",
     "status": "completed"
    },
    "tags": []
   },
   "source": [
    "We will need to compute the number of shadows needed given :\n",
    "\n",
    "* A list of observables $o_i$\n",
    "* Desired precision on expectation values $\\epsilon$ : if $\\tilde{o}_i$ is the estimated expectation value for observable $o_i$, we wish for $|Tr(o_i \\rho) - \\tilde{o}_i| \\leq \\epsilon$\n",
    "* Failure probability $\\delta$ : we wish for the above equation to be satisfied with probability $1-\\delta$\n",
    "\n",
    "Precise formulae are given in [Huang et al.](https://arxiv.org/abs/2002.08953)\n",
    "The integer $K$ returned by the function will serve as the number of blocks in our median of means procedure afterwards."
   ]
  },
  {
   "cell_type": "code",
   "execution_count": 4,
   "id": "4d8df119",
   "metadata": {
    "execution": {
     "iopub.execute_input": "2024-02-14T12:48:38.403873Z",
     "iopub.status.busy": "2024-02-14T12:48:38.403543Z",
     "iopub.status.idle": "2024-02-14T12:48:38.406214Z",
     "shell.execute_reply": "2024-02-14T12:48:38.405920Z"
    },
    "papermill": {
     "duration": 0.008197,
     "end_time": "2024-02-14T12:48:38.407010",
     "exception": false,
     "start_time": "2024-02-14T12:48:38.398813",
     "status": "completed"
    },
    "tags": []
   },
   "outputs": [],
   "source": [
    "def compute_shadow_size(delta, epsilon, observables):\n",
    "    \"\"\"Helper function.\n",
    "\n",
    "    Computes both the number of shadows needed as well as the size of blocks needed\n",
    "    for the median_of_means method in order to approximate the expectation value of M\n",
    "    (linear) observables with additive error epsilon and fail probability delta.\n",
    "\n",
    "    Args:\n",
    "        delta (float): Failure probability.\n",
    "        epsilon (float): Additive error on expectation values.\n",
    "        observables (list[qutip.Qobj]): Observables the expectation value of which is to be computed.\n",
    "    \"\"\"\n",
    "    M = len(observables)\n",
    "    K = 2 * np.log(2 * M / delta)\n",
    "    shadow_norm = (\n",
    "        lambda op: np.linalg.norm(\n",
    "            op - np.trace(op) / 2 ** int(np.log2(op.shape[0])), ord=np.inf\n",
    "        )\n",
    "        ** 2\n",
    "    )\n",
    "    # Theoretical number of shadows per cluster in the median of means procedure :\n",
    "    # N = 34 * max(shadow_norm(o) for o in observables) / epsilon ** 2\n",
    "    # We use N = 20 here to allow for quick simulation\n",
    "    N = 20\n",
    "    return int(np.ceil(N * K)), int(K)"
   ]
  },
  {
   "cell_type": "markdown",
   "id": "d70a093e",
   "metadata": {
    "papermill": {
     "duration": 0.004538,
     "end_time": "2024-02-14T12:48:38.415953",
     "exception": false,
     "start_time": "2024-02-14T12:48:38.411415",
     "status": "completed"
    },
    "tags": []
   },
   "source": [
    "Next, we design a function that returns snapshots (bitstrings) of the rotated state as well as the sampled unitaries used to rotate the state $\\rho$."
   ]
  },
  {
   "cell_type": "code",
   "execution_count": 5,
   "id": "59e3b5e8",
   "metadata": {
    "execution": {
     "iopub.execute_input": "2024-02-14T12:48:38.424485Z",
     "iopub.status.busy": "2024-02-14T12:48:38.424375Z",
     "iopub.status.idle": "2024-02-14T12:48:38.426746Z",
     "shell.execute_reply": "2024-02-14T12:48:38.426456Z"
    },
    "papermill": {
     "duration": 0.007785,
     "end_time": "2024-02-14T12:48:38.427752",
     "exception": false,
     "start_time": "2024-02-14T12:48:38.419967",
     "status": "completed"
    },
    "tags": []
   },
   "outputs": [],
   "source": [
    "def calculate_classical_shadow(rho, shadow_size):\n",
    "    \"\"\"\n",
    "    Given a state rho, creates a collection of snapshots consisting of a bit string\n",
    "    and the index of a unitary operation.\n",
    "\n",
    "    Returns:\n",
    "        Tuple of two numpy arrays. The first array contains measurement outcomes as bitstrings\n",
    "        while the second array contains the index for the sampled Pauli's (0,1,2=X,Y,Z).\n",
    "    \"\"\"\n",
    "    # sample random Pauli measurements uniformly\n",
    "    unitary_ids = np.random.randint(0, 3, size=(shadow_size, num_qubits))\n",
    "    outcomes = []\n",
    "    for ns in range(shadow_size):\n",
    "        unitmat = qutip.tensor(\n",
    "            [unitary_ensemble[unitary_ids[ns, i]] for i in range(num_qubits)]\n",
    "        )\n",
    "        outcomes.append(measure_bitstring(unitmat.dag() * rho * unitmat))\n",
    "\n",
    "    # combine the computational basis outcomes and the sampled unitaries\n",
    "    return (outcomes, unitary_ids)"
   ]
  },
  {
   "cell_type": "markdown",
   "id": "501ec14d",
   "metadata": {
    "papermill": {
     "duration": 0.003787,
     "end_time": "2024-02-14T12:48:38.435552",
     "exception": false,
     "start_time": "2024-02-14T12:48:38.431765",
     "status": "completed"
    },
    "tags": []
   },
   "source": [
    "We then reconstruct an estimate of the quantum state from the sampled bitstrings, using the inverse quantum channel $\\mathcal{M}^{-1}$ defined above. In the particular case of Pauli measurements, we can actually compute the inverse channel : \n",
    "\n",
    "$$\\mathcal{M}^{-1} = \\otimes_{i=1}^n (3 U_i \\ket{b_i}\\bra{b_i} U^\\dagger_i - \\mathbb{1}_2)$$\n",
    "\n",
    "where $i$ runs over all qubits : $\\ket{b_i}$, $b_i \\in \\{0,1\\}$, is the single-bit snapshot of qubit $i$ and $U_i$ is the sampled unitary corresponding to the snapshot, acting on qubit $i$."
   ]
  },
  {
   "cell_type": "code",
   "execution_count": 6,
   "id": "f2e6f3ab",
   "metadata": {
    "execution": {
     "iopub.execute_input": "2024-02-14T12:48:38.443882Z",
     "iopub.status.busy": "2024-02-14T12:48:38.443752Z",
     "iopub.status.idle": "2024-02-14T12:48:38.445813Z",
     "shell.execute_reply": "2024-02-14T12:48:38.445578Z"
    },
    "papermill": {
     "duration": 0.007226,
     "end_time": "2024-02-14T12:48:38.446541",
     "exception": false,
     "start_time": "2024-02-14T12:48:38.439315",
     "status": "completed"
    },
    "tags": []
   },
   "outputs": [],
   "source": [
    "def snapshot_state(outcome_ns, unitary_ids_ns):\n",
    "    \"\"\"\n",
    "    Reconstructs an estimate of a state from a single snapshot in a shadow.\n",
    "\n",
    "    Implements Eq. (S44) from https://arxiv.org/pdf/2002.08953.pdf\n",
    "\n",
    "    Args:\n",
    "        outcome_ns: Bitstring at ns\n",
    "        unitary_ids_ns: Rotation applied at ns.\n",
    "\n",
    "    Returns:\n",
    "        Reconstructed snapshot.\n",
    "    \"\"\"\n",
    "    state_list = []\n",
    "\n",
    "    for k in range(num_qubits):\n",
    "        op = unitary_ensemble[unitary_ids_ns[k]]\n",
    "        b = zero_state if outcome_ns[k] == \"0\" else one_state\n",
    "        state_list.append(3 * op * b * op.dag() - qutip.qeye(2))\n",
    "\n",
    "    return qutip.tensor(state_list)"
   ]
  },
  {
   "cell_type": "markdown",
   "id": "b6b1caa0",
   "metadata": {
    "papermill": {
     "duration": 0.003827,
     "end_time": "2024-02-14T12:48:38.454258",
     "exception": false,
     "start_time": "2024-02-14T12:48:38.450431",
     "status": "completed"
    },
    "tags": []
   },
   "source": [
    "We finally write a median of means procedure. We feed it an observable, the list of snapshots computed above and the number of blocks needed. It returns the median of the means of the observable acting on the snapshots in each block."
   ]
  },
  {
   "cell_type": "code",
   "execution_count": 7,
   "id": "7bc2ee5f",
   "metadata": {
    "execution": {
     "iopub.execute_input": "2024-02-14T12:48:38.463805Z",
     "iopub.status.busy": "2024-02-14T12:48:38.463665Z",
     "iopub.status.idle": "2024-02-14T12:48:38.466009Z",
     "shell.execute_reply": "2024-02-14T12:48:38.465750Z"
    },
    "papermill": {
     "duration": 0.007889,
     "end_time": "2024-02-14T12:48:38.466854",
     "exception": false,
     "start_time": "2024-02-14T12:48:38.458965",
     "status": "completed"
    },
    "tags": []
   },
   "outputs": [],
   "source": [
    "def _median_of_means(obs, snap_list, K):\n",
    "    if K > len(snap_list):  # preventing the n_blocks > n_observations\n",
    "        K = int(np.ceil(len(snap_list) / 2))\n",
    "    # dividing seq in K random blocks\n",
    "    indic = np.array((list(range(K)) * int(len(snap_list) / K)))\n",
    "    np.random.shuffle(indic)\n",
    "    # computing and saving mean per block\n",
    "    means = []\n",
    "    for block in range(K):\n",
    "        states = [snap_list[i] for i in np.where(indic == block)[0]]\n",
    "        exp = qutip.expect(obs, states)\n",
    "        means.append(np.mean(exp))\n",
    "    return np.median(means)"
   ]
  },
  {
   "cell_type": "markdown",
   "id": "5d392a37",
   "metadata": {
    "papermill": {
     "duration": 0.004108,
     "end_time": "2024-02-14T12:48:38.475380",
     "exception": false,
     "start_time": "2024-02-14T12:48:38.471272",
     "status": "completed"
    },
    "tags": []
   },
   "source": [
    "### Reconstructing a given quantum state"
   ]
  },
  {
   "cell_type": "markdown",
   "id": "0451fc87",
   "metadata": {
    "papermill": {
     "duration": 0.004259,
     "end_time": "2024-02-14T12:48:38.483535",
     "exception": false,
     "start_time": "2024-02-14T12:48:38.479276",
     "status": "completed"
    },
    "tags": []
   },
   "source": [
    "Let us try out the efficiency of this method. We will reconstruct a given density matrix from classical shadows estimation, and observe the evolution of the trace distance between the original state and its reconstruction according to the number of shadows used."
   ]
  },
  {
   "cell_type": "code",
   "execution_count": 8,
   "id": "4a54054c",
   "metadata": {
    "execution": {
     "iopub.execute_input": "2024-02-14T12:48:38.492379Z",
     "iopub.status.busy": "2024-02-14T12:48:38.492250Z",
     "iopub.status.idle": "2024-02-14T12:48:38.494604Z",
     "shell.execute_reply": "2024-02-14T12:48:38.494198Z"
    },
    "papermill": {
     "duration": 0.008316,
     "end_time": "2024-02-14T12:48:38.495716",
     "exception": false,
     "start_time": "2024-02-14T12:48:38.487400",
     "status": "completed"
    },
    "tags": []
   },
   "outputs": [],
   "source": [
    "def state_reconstruction(snaps):\n",
    "    return sum(snaps) / len(snaps)"
   ]
  },
  {
   "cell_type": "code",
   "execution_count": 9,
   "id": "5bb06c9c",
   "metadata": {
    "execution": {
     "iopub.execute_input": "2024-02-14T12:48:38.504808Z",
     "iopub.status.busy": "2024-02-14T12:48:38.504694Z",
     "iopub.status.idle": "2024-02-14T12:48:48.761419Z",
     "shell.execute_reply": "2024-02-14T12:48:48.761083Z"
    },
    "papermill": {
     "duration": 10.262294,
     "end_time": "2024-02-14T12:48:48.762564",
     "exception": false,
     "start_time": "2024-02-14T12:48:38.500270",
     "status": "completed"
    },
    "scrolled": true,
    "tags": []
   },
   "outputs": [
    {
     "name": "stdout",
     "output_type": "stream",
     "text": [
      "Original density matrix :\n",
      "[[0.5+0.j 0.5+0.j 0. +0.j 0. +0.j]\n",
      " [0.5+0.j 0.5+0.j 0. +0.j 0. +0.j]\n",
      " [0. +0.j 0. +0.j 0. +0.j 0. +0.j]\n",
      " [0. +0.j 0. +0.j 0. +0.j 0. +0.j]]\n"
     ]
    },
    {
     "name": "stdout",
     "output_type": "stream",
     "text": [
      "Shadow reconstruction :\n"
     ]
    },
    {
     "name": "stdout",
     "output_type": "stream",
     "text": [
      "[[ 0.52+0.j    0.51-0.01j  0.01+0.02j -0.  +0.02j]\n",
      " [ 0.51+0.01j  0.48+0.j   -0.02+0.01j -0.02-0.01j]\n",
      " [ 0.01-0.02j -0.02-0.01j -0.01+0.j   -0.01+0.01j]\n",
      " [-0.  -0.02j -0.02+0.01j -0.01-0.01j  0.01+0.j  ]]\n"
     ]
    }
   ],
   "source": [
    "num_qubits = 2\n",
    "shadow_size = 10000\n",
    "rho_1 = (\n",
    "    (\n",
    "        qutip.tensor([qutip.basis(2, 0), qutip.basis(2, 0)])\n",
    "        + qutip.tensor([qutip.basis(2, 0), qutip.basis(2, 1)])\n",
    "    )\n",
    "    .proj()\n",
    "    .unit()\n",
    ")\n",
    "print(\"Original density matrix :\")\n",
    "print(rho_1.full())\n",
    "outcomes, unitary_ids = calculate_classical_shadow(rho_1, shadow_size)\n",
    "snapshots = [\n",
    "    snapshot_state(outcomes[ns], unitary_ids[ns]) for ns in range(shadow_size)\n",
    "]\n",
    "print(\"Shadow reconstruction :\")\n",
    "print(np.around(state_reconstruction(snapshots).full(), 2))\n",
    "\n",
    "dist = np.zeros(5)\n",
    "shadow_sizes = [100, 1000, 2000, 5000, 10000]\n",
    "for i, shadow_size in enumerate(shadow_sizes):\n",
    "    outcomes, unitary_ids = calculate_classical_shadow(rho_1, shadow_size)\n",
    "    snapshots = [\n",
    "        snapshot_state(outcomes[ns], unitary_ids[ns])\n",
    "        for ns in range(shadow_size)\n",
    "    ]\n",
    "    dist[i] = qutip.tracedist(state_reconstruction(snapshots), rho_1)\n",
    "num_qubits = 4"
   ]
  },
  {
   "cell_type": "code",
   "execution_count": 10,
   "id": "a2b59fa9",
   "metadata": {
    "execution": {
     "iopub.execute_input": "2024-02-14T12:48:48.772321Z",
     "iopub.status.busy": "2024-02-14T12:48:48.772122Z",
     "iopub.status.idle": "2024-02-14T12:48:48.976112Z",
     "shell.execute_reply": "2024-02-14T12:48:48.974833Z"
    },
    "papermill": {
     "duration": 0.212764,
     "end_time": "2024-02-14T12:48:48.980344",
     "exception": false,
     "start_time": "2024-02-14T12:48:48.767580",
     "status": "completed"
    },
    "tags": []
   },
   "outputs": [
    {
     "data": {
      "image/png": "[encoded data removed]",
      "text/plain": [
       "<Figure size 640x480 with 1 Axes>"
      ]
     },
     "metadata": {},
     "output_type": "display_data"
    }
   ],
   "source": [
    "plt.plot(shadow_sizes, dist)\n",
    "plt.xlabel(\"Shadow size\")\n",
    "plt.ylabel(r\"$||\\rho - \\hat{\\rho}||_1$\")\n",
    "plt.show()"
   ]
  },
  {
   "cell_type": "markdown",
   "id": "8e755875",
   "metadata": {
    "papermill": {
     "duration": 0.006618,
     "end_time": "2024-02-14T12:48:48.998078",
     "exception": false,
     "start_time": "2024-02-14T12:48:48.991460",
     "status": "completed"
    },
    "tags": []
   },
   "source": [
    "As we can expect, the estimation gets better and better as shadow size gets larger, with about $2$% accuracy at $10000$ shadows. This mostly serves as a reality check, as we will be using classical shadows to estimate observables acting on quantum states, not to reconstruct those states."
   ]
  },
  {
   "cell_type": "markdown",
   "id": "26c2d027",
   "metadata": {
    "papermill": {
     "duration": 0.018685,
     "end_time": "2024-02-14T12:48:49.033464",
     "exception": false,
     "start_time": "2024-02-14T12:48:49.014779",
     "status": "completed"
    },
    "tags": []
   },
   "source": [
    "## Derandomized Paulis"
   ]
  },
  {
   "cell_type": "markdown",
   "id": "fc952b25",
   "metadata": {
    "papermill": {
     "duration": 0.006994,
     "end_time": "2024-02-14T12:48:49.049997",
     "exception": false,
     "start_time": "2024-02-14T12:48:49.043003",
     "status": "completed"
    },
    "tags": []
   },
   "source": [
    "### Derandomization Algorithm"
   ]
  },
  {
   "cell_type": "markdown",
   "id": "e9b7a12b",
   "metadata": {
    "papermill": {
     "duration": 0.004114,
     "end_time": "2024-02-14T12:48:49.061130",
     "exception": false,
     "start_time": "2024-02-14T12:48:49.057016",
     "status": "completed"
    },
    "tags": []
   },
   "source": [
    "Randomized classical shadows are useful when dealing with low-weight, general observables. However, suppose, as is the case when estimating the Hamiltonian of the $H_2$ molecule written as a sum of Pauli strings, that we're dealing with Pauli observables of varying weights. In this setting, choosing wisely each Pauli measurement instead of randomly drawing a basis is particularly useful : indeed, say one wants to measure observable $\\sigma_x^1 \\otimes \\sigma_x^2 \\otimes \\dots \\otimes \\sigma_x^n$. Using random rotations in each Pauli $X,Y$ or $Z$ basis and projection in the $Z$ (computational) basis, there is a probability $\\frac{1}{3^n}$ to get each measurement basis right (i.e. rotate the system using the Hadamard matrix). This is extremely unlikely and unefficient as the number of qubits goes up. [Huang et al](https://arxiv.org/abs/2103.07510) outline an interesting greedy algorithm used for choosing suitable measurement bases for the efficient estimation of $L$ $n-$qubit Pauli strings, $\\{O_i\\}$. \n",
    "\n",
    "Feeding these observables and chosen Pauli measurements {P_i} as input, the algorithm aims at optimizing a certain cost function. This function, labeled $Conf_\\epsilon(O_i, P_j)$ is such that, if $Conf_\\epsilon(O_i, P_j) \\leq \\frac{\\delta}{2}$, then the empirical averages $\\tilde{\\omega_l}$ of each Pauli observable $O_l$ will be $\\epsilon$-close to its true average $Tr(\\rho O_l)$ with probability $1-\\delta$."
   ]
  },
  {
   "cell_type": "markdown",
   "id": "de24b8fd",
   "metadata": {
    "papermill": {
     "duration": 0.003886,
     "end_time": "2024-02-14T12:48:49.068945",
     "exception": false,
     "start_time": "2024-02-14T12:48:49.065059",
     "status": "completed"
    },
    "tags": []
   },
   "source": [
    "In order to implement this cost function, we first need to design two auxiliary functions. The first one decides if a given Pauli measurement $p$ is compatible with (\"hits\") a Pauli observable $o$. This means that each time $o$ acts non-trivially on a qubit $q_i$ with Pauli matrix $\\sigma \\in \\{\\sigma_X, \\sigma_Y, \\sigma_Z\\}, \\sigma \\neq \\mathbb{1}$, $p$ acts on $q_i$ with $\\sigma$. We denote it by $o \\triangleright p$."
   ]
  },
  {
   "cell_type": "code",
   "execution_count": 11,
   "id": "671936a9",
   "metadata": {
    "execution": {
     "iopub.execute_input": "2024-02-14T12:48:49.077267Z",
     "iopub.status.busy": "2024-02-14T12:48:49.077137Z",
     "iopub.status.idle": "2024-02-14T12:48:49.079112Z",
     "shell.execute_reply": "2024-02-14T12:48:49.078896Z"
    },
    "papermill": {
     "duration": 0.007068,
     "end_time": "2024-02-14T12:48:49.079836",
     "exception": false,
     "start_time": "2024-02-14T12:48:49.072768",
     "status": "completed"
    },
    "tags": []
   },
   "outputs": [],
   "source": [
    "def hits(p, o, end=-1):\n",
    "    \"\"\"Determines if measurement p hits observable o\n",
    "\n",
    "    Args:\n",
    "        p (str): Pauli string in str format (ex \"XYZ\"), measurement\n",
    "        o (str): same as above, observable (ex \"11ZY\")\n",
    "        end (int): index before which to check if p hits o\n",
    "    \"\"\"\n",
    "    if end != -1:\n",
    "        o = o[:end]\n",
    "    for i, x in enumerate(o):\n",
    "        if not (x == p[i] or x == \"1\"):\n",
    "            return False\n",
    "    return True"
   ]
  },
  {
   "cell_type": "markdown",
   "id": "7c1c4726",
   "metadata": {
    "papermill": {
     "duration": 0.003793,
     "end_time": "2024-02-14T12:48:49.087700",
     "exception": false,
     "start_time": "2024-02-14T12:48:49.083907",
     "status": "completed"
    },
    "tags": []
   },
   "source": [
    "The second function simply computes the number of qubits observable $o$ acts non-trivially upon."
   ]
  },
  {
   "cell_type": "code",
   "execution_count": 12,
   "id": "bc550eb6",
   "metadata": {
    "execution": {
     "iopub.execute_input": "2024-02-14T12:48:49.095935Z",
     "iopub.status.busy": "2024-02-14T12:48:49.095823Z",
     "iopub.status.idle": "2024-02-14T12:48:49.097558Z",
     "shell.execute_reply": "2024-02-14T12:48:49.097356Z"
    },
    "papermill": {
     "duration": 0.006758,
     "end_time": "2024-02-14T12:48:49.098237",
     "exception": false,
     "start_time": "2024-02-14T12:48:49.091479",
     "status": "completed"
    },
    "tags": []
   },
   "outputs": [],
   "source": [
    "def weight(o, start=0):\n",
    "    o_k = o[start:]\n",
    "    return len(o_k) - o_k.count(\"1\")"
   ]
  },
  {
   "cell_type": "markdown",
   "id": "50b16aea",
   "metadata": {
    "papermill": {
     "duration": 0.003807,
     "end_time": "2024-02-14T12:48:49.105893",
     "exception": false,
     "start_time": "2024-02-14T12:48:49.102086",
     "status": "completed"
    },
    "tags": []
   },
   "source": [
    "We now implement the conditioned cost function using these auxiliary functions. We call it \"conditioned\", since we feed it only the first $m \\times n + k$ single-qubit Pauli measurements, and average over the others, not yet determined ones."
   ]
  },
  {
   "cell_type": "code",
   "execution_count": 13,
   "id": "b43e6d48",
   "metadata": {
    "execution": {
     "iopub.execute_input": "2024-02-14T12:48:49.114041Z",
     "iopub.status.busy": "2024-02-14T12:48:49.113939Z",
     "iopub.status.idle": "2024-02-14T12:48:49.116328Z",
     "shell.execute_reply": "2024-02-14T12:48:49.116134Z"
    },
    "papermill": {
     "duration": 0.007299,
     "end_time": "2024-02-14T12:48:49.116974",
     "exception": false,
     "start_time": "2024-02-14T12:48:49.109675",
     "status": "completed"
    },
    "tags": []
   },
   "outputs": [],
   "source": [
    "def cond_conf(o, P_sharp):\n",
    "    \"\"\"Returns the (modified) conditionned expectation value of the cost function depending\n",
    "    on already chosen Paulis in P_sharp.\n",
    "\n",
    "    Args:\n",
    "        o (list[str]): list of Pauli strings to be measured\n",
    "        P_sharp (list[str]): list of already chosen Paulis\n",
    "    \"\"\"\n",
    "    # Hyperparameters : see Huang et al. for more details\n",
    "    eta = 0.9\n",
    "    nu = 1 - np.exp(-eta / 2)\n",
    "    L = len(o)\n",
    "    m = len(P_sharp) - 1  # index of last chosen Pauli string\n",
    "    k = (\n",
    "        len(P_sharp[-1]) - 1\n",
    "    )  # index of last chosen Pauli matrix in mth Pauli string\n",
    "    result = 0\n",
    "    for l in range(0, L):\n",
    "        v = 0\n",
    "        for m_prime in range(0, m):\n",
    "            v += (eta / 2) * int(hits(P_sharp[m_prime], o[l]))\n",
    "        v -= np.log(\n",
    "            1\n",
    "            - (nu / 3 ** (weight(o[l], start=k + 1)))\n",
    "            * hits(P_sharp[m], o[l], end=k + 1)\n",
    "        )\n",
    "        result += np.exp(-v)\n",
    "    return result"
   ]
  },
  {
   "cell_type": "markdown",
   "id": "bfcaaae7",
   "metadata": {
    "papermill": {
     "duration": 0.003743,
     "end_time": "2024-02-14T12:48:49.124514",
     "exception": false,
     "start_time": "2024-02-14T12:48:49.120771",
     "status": "completed"
    },
    "tags": []
   },
   "source": [
    "Finally, we design a simple greedy algorithm which purpose is to minimize this conditioned cost function, choosing one single-qubit Pauli at a time."
   ]
  },
  {
   "cell_type": "code",
   "execution_count": 14,
   "id": "27abeae3",
   "metadata": {
    "execution": {
     "iopub.execute_input": "2024-02-14T12:48:49.132564Z",
     "iopub.status.busy": "2024-02-14T12:48:49.132463Z",
     "iopub.status.idle": "2024-02-14T12:48:49.134801Z",
     "shell.execute_reply": "2024-02-14T12:48:49.134594Z"
    },
    "papermill": {
     "duration": 0.007226,
     "end_time": "2024-02-14T12:48:49.135464",
     "exception": false,
     "start_time": "2024-02-14T12:48:49.128238",
     "status": "completed"
    },
    "tags": []
   },
   "outputs": [],
   "source": [
    "def derandomization(M, o):\n",
    "    \"\"\"Derandomization algorithm returning best Pauli indices according to a greedy algorithm\n",
    "    that aims at minimizing the cost function above.\n",
    "\n",
    "    Args:\n",
    "        M (int): number of measurements\n",
    "        n (int): number of qubits (size of Pauli strings)\n",
    "        epsilon (float): desired accuracy on observable expectation values\n",
    "        o (list[str]): list of Pauli strings to be measured\n",
    "    \"\"\"\n",
    "    n = len(o[0])\n",
    "    P_sharp = []\n",
    "    for m in range(M):\n",
    "        P_sharp.append(\"\")\n",
    "        for k in range(n):\n",
    "            P_sharp_m = P_sharp[m]\n",
    "            P_sharp[m] += \"X\"\n",
    "            valmin = cond_conf(o, P_sharp)\n",
    "            argmin = \"X\"\n",
    "            for W in [\"Y\", \"Z\"]:\n",
    "                P_sharp[m] = P_sharp_m + W\n",
    "                val_W = cond_conf(o, P_sharp)\n",
    "                if val_W < valmin:\n",
    "                    valmin = val_W\n",
    "                    argmin = W\n",
    "            P_sharp[m] = P_sharp_m + argmin\n",
    "    return P_sharp"
   ]
  },
  {
   "cell_type": "markdown",
   "id": "bdf50762",
   "metadata": {
    "papermill": {
     "duration": 0.003727,
     "end_time": "2024-02-14T12:48:49.142932",
     "exception": false,
     "start_time": "2024-02-14T12:48:49.139205",
     "status": "completed"
    },
    "tags": []
   },
   "source": [
    "### Estimating expectation values from Pauli measurements"
   ]
  },
  {
   "cell_type": "markdown",
   "id": "6d292630",
   "metadata": {
    "papermill": {
     "duration": 0.00368,
     "end_time": "2024-02-14T12:48:49.150275",
     "exception": false,
     "start_time": "2024-02-14T12:48:49.146595",
     "status": "completed"
    },
    "tags": []
   },
   "source": [
    "Now that we have our Pauli measurements, we proceed differently from randomized classical shadows, where we gave an estimate of the actual quantum channels. Here, we're only interested in the Pauli averages $\\tilde{\\omega}_l$, that we can infer from Pauli measurements $p$ that **hit** observable $o_l$. Indeed, we have the following formula :\n",
    "\n",
    "$$\\tilde{\\omega}_{l}=\\frac{1}{h\\left(\\mathbf{o}_{l} ;\\left[\\mathbf{p}_{1}, \\ldots, \\mathbf{p}_{M}\\right]\\right)} \\sum_{m: \\mathbf{o}_{l} \\triangleright \\mathbf{p}_{m}} \\prod_{j: \\mathbf{o}_{l}[j] \\neq I} \\mathbf{q}_{m}[j]$$\n",
    "\n",
    "where $h\\left(\\mathbf{o}_{l} ;\\left[\\mathbf{p}_{1}, \\ldots, \\mathbf{p}_{M}\\right]\\right)$ is the number of times a Pauli measurement $p_i$ is such that $o \\triangleright p_i$, and $\\mathbf{q}_m$ is the output of the measurement of Pauli string $p_m$ ($\\mathbf{q}_m \\in \\{\\pm 1\\}^n$)."
   ]
  },
  {
   "cell_type": "code",
   "execution_count": 15,
   "id": "80e81db1",
   "metadata": {
    "execution": {
     "iopub.execute_input": "2024-02-14T12:48:49.158213Z",
     "iopub.status.busy": "2024-02-14T12:48:49.158110Z",
     "iopub.status.idle": "2024-02-14T12:48:49.159679Z",
     "shell.execute_reply": "2024-02-14T12:48:49.159469Z"
    },
    "papermill": {
     "duration": 0.006384,
     "end_time": "2024-02-14T12:48:49.160315",
     "exception": false,
     "start_time": "2024-02-14T12:48:49.153931",
     "status": "completed"
    },
    "tags": []
   },
   "outputs": [],
   "source": [
    "def _pauli_index(letter):\n",
    "    if letter == \"X\":\n",
    "        return 0\n",
    "    elif letter == \"Y\":\n",
    "        return 1\n",
    "    else:\n",
    "        return 2"
   ]
  },
  {
   "cell_type": "code",
   "execution_count": 16,
   "id": "83d47bad",
   "metadata": {
    "execution": {
     "iopub.execute_input": "2024-02-14T12:48:49.168287Z",
     "iopub.status.busy": "2024-02-14T12:48:49.168178Z",
     "iopub.status.idle": "2024-02-14T12:48:49.170121Z",
     "shell.execute_reply": "2024-02-14T12:48:49.169928Z"
    },
    "papermill": {
     "duration": 0.006741,
     "end_time": "2024-02-14T12:48:49.170777",
     "exception": false,
     "start_time": "2024-02-14T12:48:49.164036",
     "status": "completed"
    },
    "tags": []
   },
   "outputs": [],
   "source": [
    "def pauli_string_value(x, sigma):\n",
    "    \"\"\"Returns the evaluation of a Pauli string sigma in a bitstring state $|x>$,\n",
    "    assuming the state is already rotated in the needed eigenbases of all single-qubit Paulis.\n",
    "\n",
    "    NB : Faster than using qutip.measure due to not returning the eigenstates...\n",
    "\n",
    "    Args:\n",
    "        x (str): input bitstring\n",
    "        sigma (str): input Pauli string to be measured on |x>\n",
    "    \"\"\"\n",
    "    outcomes = []\n",
    "    for i, q in enumerate(x):\n",
    "        if q == \"0\":\n",
    "            outcomes.append((sigma[i], 1))\n",
    "        else:\n",
    "            outcomes.append((sigma[i], -1))\n",
    "    return outcomes"
   ]
  },
  {
   "cell_type": "code",
   "execution_count": 17,
   "id": "6f59615d",
   "metadata": {
    "execution": {
     "iopub.execute_input": "2024-02-14T12:48:49.178967Z",
     "iopub.status.busy": "2024-02-14T12:48:49.178867Z",
     "iopub.status.idle": "2024-02-14T12:48:49.180981Z",
     "shell.execute_reply": "2024-02-14T12:48:49.180779Z"
    },
    "papermill": {
     "duration": 0.007019,
     "end_time": "2024-02-14T12:48:49.181635",
     "exception": false,
     "start_time": "2024-02-14T12:48:49.174616",
     "status": "completed"
    },
    "tags": []
   },
   "outputs": [],
   "source": [
    "def classical_shadow_derand(rho, measurements):\n",
    "    \"\"\"Returns the n-strings of ±1 corresponding to measurements in the input list on state rho.\n",
    "\n",
    "    Args:\n",
    "        rho (qutip.Qobj): input state as a density matrix\n",
    "        measurements (list[str]): derandomized measurement bases in which to measure state rho\n",
    "\n",
    "    Returns:\n",
    "        Tuple of two numpy arrays. The first array contains measurement outcomes as bitstrings\n",
    "        while the second array contains the index for the derandomized Pauli's (0,1,2=X,Y,Z).\n",
    "    \"\"\"\n",
    "    # Fill the unitary ids with derandomized measurements ids\n",
    "    shadow_size = len(measurements)\n",
    "    outcomes = []\n",
    "    for ns in range(shadow_size):\n",
    "        # multi-qubit change of basis\n",
    "        unitmat = qutip.tensor(\n",
    "            [\n",
    "                unitary_ensemble[_pauli_index(measurements[ns][i])]\n",
    "                for i in range(num_qubits)\n",
    "            ]\n",
    "        )\n",
    "        x = measure_bitstring(unitmat.dag() * rho * unitmat)\n",
    "        outcomes.append(pauli_string_value(x, measurements[ns]))\n",
    "    # ±1 strings\n",
    "    return outcomes"
   ]
  },
  {
   "cell_type": "code",
   "execution_count": 18,
   "id": "00835331",
   "metadata": {
    "execution": {
     "iopub.execute_input": "2024-02-14T12:48:49.189649Z",
     "iopub.status.busy": "2024-02-14T12:48:49.189553Z",
     "iopub.status.idle": "2024-02-14T12:48:49.191675Z",
     "shell.execute_reply": "2024-02-14T12:48:49.191483Z"
    },
    "papermill": {
     "duration": 0.006907,
     "end_time": "2024-02-14T12:48:49.192298",
     "exception": false,
     "start_time": "2024-02-14T12:48:49.185391",
     "status": "completed"
    },
    "tags": []
   },
   "outputs": [],
   "source": [
    "def exp_value(input_pauli, pm_strings):\n",
    "    \"\"\"Computes an estimation of the expectation value of a given Pauli string given multiple ±1 bitstring\n",
    "    outcomes.\n",
    "    \"\"\"\n",
    "    sum_product, cnt_match = 0, 0\n",
    "\n",
    "    for single_measurement in pm_strings:\n",
    "        not_match = False\n",
    "        product = 1\n",
    "\n",
    "        for i, pauli in enumerate(input_pauli):\n",
    "            if pauli != single_measurement[i][0] and pauli != \"1\":\n",
    "                not_match = True\n",
    "                break\n",
    "            if pauli != \"1\":\n",
    "                product *= single_measurement[i][1]\n",
    "        if not_match:\n",
    "            continue\n",
    "\n",
    "        sum_product += product\n",
    "        cnt_match += 1\n",
    "    if cnt_match == 0:\n",
    "        return f\"No measurement given for {input_pauli}\"\n",
    "    return sum_product / cnt_match"
   ]
  },
  {
   "cell_type": "markdown",
   "id": "6f6bbdd0",
   "metadata": {
    "papermill": {
     "duration": 0.003721,
     "end_time": "2024-02-14T12:48:49.199832",
     "exception": false,
     "start_time": "2024-02-14T12:48:49.196111",
     "status": "completed"
    },
    "tags": []
   },
   "source": [
    "## Variational Quantum Simulation for the $H_2$ molecule"
   ]
  },
  {
   "cell_type": "markdown",
   "id": "e24b71d9",
   "metadata": {
    "papermill": {
     "duration": 0.003712,
     "end_time": "2024-02-14T12:48:49.207264",
     "exception": false,
     "start_time": "2024-02-14T12:48:49.203552",
     "status": "completed"
    },
    "tags": []
   },
   "source": [
    "The main problem with usual variational classical algorithms, the classical counterparts of VQS, is computing the value of the $2^n \\times 2^n$ matrix on the output state vector $\\bra{\\psi}H\\ket{\\psi}$ after each loop of the algorithm, which grows exponentially in the size of the system. The purpose of VQS algorithms is to offer a solution which time complexity only grows polynomially, thanks to reading all the important properties on the quantum state. Therefore, we need accurate and efficient methods to estimate these properties, which we'll present afterwards.\n",
    "\n",
    "For now, let's focus on what makes a VQS algorithm, specifically for computing the groundstate energy of the $H_2$ molecule."
   ]
  },
  {
   "cell_type": "markdown",
   "id": "1a3ab115",
   "metadata": {
    "papermill": {
     "duration": 0.003745,
     "end_time": "2024-02-14T12:48:49.214761",
     "exception": false,
     "start_time": "2024-02-14T12:48:49.211016",
     "status": "completed"
    },
    "tags": []
   },
   "source": [
    "### Jordan-Wigner Hamiltonian (cost function)"
   ]
  },
  {
   "cell_type": "markdown",
   "id": "b307692f",
   "metadata": {
    "papermill": {
     "duration": 0.003747,
     "end_time": "2024-02-14T12:48:49.222181",
     "exception": false,
     "start_time": "2024-02-14T12:48:49.218434",
     "status": "completed"
    },
    "tags": []
   },
   "source": [
    "We need to write the Hamiltonian in a way that's compatible with the formalism of quantum computing. We first second-quantize the Hamiltonian, obtaining an expression in terms of fermionic operators $a, a^\\dagger$. Then, we use the Jordan-Wigner transformation, which maps the fermionic operators to Pauli matrices. We obtain the Hamiltonian below, acting on $4$ qubits, decomposed in terms of the coefficients in front of the Pauli matrices.\n",
    "\n",
    "[This article by Seeley et al.](https://math.berkeley.edu/~linlin/2018Spring_290/SRL12.pdf) gives us the value of \n",
    "$H_{JW}$."
   ]
  },
  {
   "cell_type": "markdown",
   "id": "ffe83d9e",
   "metadata": {
    "papermill": {
     "duration": 0.003689,
     "end_time": "2024-02-14T12:48:49.229604",
     "exception": false,
     "start_time": "2024-02-14T12:48:49.225915",
     "status": "completed"
    },
    "tags": []
   },
   "source": [
    "$$H_{J W}=-0.81261 \\mathbb{1}+0.171201 \\sigma_{0}^{z}+0.171201 \\sigma_{1}^{z}-0.2227965 \\sigma_{2}^{z} \\\\\n",
    "-0.2227965 \\sigma_{3}^{z} +0.16862325 \\sigma_{1}^{z} \\sigma_{0}^{z}+0.12054625 \\sigma_{2}^{z} \\sigma_{0}^{z} \\\\\n",
    "+0.165868 \\sigma_{2}^{z} \\sigma_{1}^{z}+0.165868 \\sigma_{3}^{z} \\sigma_{0}^{z} +0.12054625 \\sigma_{3}^{z}\\sigma_{1}^{z} \\\\\n",
    "+0.17434925 \\sigma_{3}^{z} \\sigma_{2}^{z}-0.04532175 \\sigma_{3}^{x} \\sigma_{2}^{x} \\sigma_{1}^{y} \\sigma_{0}^{y}\\\\\n",
    "+0.04532175 \\sigma_{3}^{x} \\sigma_{2}^{y} \\sigma_{1}^{y} \\sigma_{0}^{x}+0.04532175 \\sigma_{3}^{y} \\sigma_{2}^{x}\n",
    "\\sigma_{1}^{x} \\sigma_{0}^{y} -0.04532175 \\sigma_{3}^{y} \\sigma_{2}^{y} \\sigma_{1}^{x} \\sigma_{0}^{x}$$"
   ]
  },
  {
   "cell_type": "code",
   "execution_count": 19,
   "id": "bf0c0763",
   "metadata": {
    "execution": {
     "iopub.execute_input": "2024-02-14T12:48:49.237583Z",
     "iopub.status.busy": "2024-02-14T12:48:49.237480Z",
     "iopub.status.idle": "2024-02-14T12:48:49.239295Z",
     "shell.execute_reply": "2024-02-14T12:48:49.239086Z"
    },
    "papermill": {
     "duration": 0.006734,
     "end_time": "2024-02-14T12:48:49.239993",
     "exception": false,
     "start_time": "2024-02-14T12:48:49.233259",
     "status": "completed"
    },
    "tags": []
   },
   "outputs": [],
   "source": [
    "def pauli(positions=[], operators=[]):\n",
    "    op_list = [\n",
    "        operators[positions.index(j)] if j in positions else qutip.qeye(2)\n",
    "        for j in range(num_qubits)\n",
    "    ]\n",
    "    return qutip.tensor(op_list)"
   ]
  },
  {
   "cell_type": "code",
   "execution_count": 20,
   "id": "9df26665",
   "metadata": {
    "execution": {
     "iopub.execute_input": "2024-02-14T12:48:49.248423Z",
     "iopub.status.busy": "2024-02-14T12:48:49.248318Z",
     "iopub.status.idle": "2024-02-14T12:48:49.252789Z",
     "shell.execute_reply": "2024-02-14T12:48:49.252551Z"
    },
    "papermill": {
     "duration": 0.009447,
     "end_time": "2024-02-14T12:48:49.253467",
     "exception": false,
     "start_time": "2024-02-14T12:48:49.244020",
     "status": "completed"
    },
    "tags": []
   },
   "outputs": [],
   "source": [
    "coeff_fact = [\n",
    "    0.81261,\n",
    "    0.171201,\n",
    "    0.2227965,\n",
    "    0.16862325,\n",
    "    0.174349,\n",
    "    0.12054625,\n",
    "    0.165868,\n",
    "    0.04532175,\n",
    "]\n",
    "\n",
    "paulis = [\n",
    "    pauli(),\n",
    "    pauli([0], [sz]) + pauli([1], [sz]),\n",
    "    pauli([2], [sz]) + pauli([3], [sz]),\n",
    "    pauli([1, 0], [sz, sz]),\n",
    "    pauli([3, 2], [sz, sz]),\n",
    "    pauli([2, 0], [sz, sz]) + pauli([3, 1], [sz, sz]),\n",
    "    pauli([2, 1], [sz, sz]) + pauli([3, 0], [sz, sz]),\n",
    "    pauli([3, 2, 1, 0], [sx, sx, sy, sy])\n",
    "    + pauli([3, 2, 1, 0], [sy, sy, sx, sx]),\n",
    "    pauli([3, 2, 1, 0], [sx, sy, sy, sx])\n",
    "    + pauli([3, 2, 1, 0], [sy, sx, sx, sy]),\n",
    "]"
   ]
  },
  {
   "cell_type": "code",
   "execution_count": 21,
   "id": "be446292",
   "metadata": {
    "execution": {
     "iopub.execute_input": "2024-02-14T12:48:49.261725Z",
     "iopub.status.busy": "2024-02-14T12:48:49.261624Z",
     "iopub.status.idle": "2024-02-14T12:48:49.313481Z",
     "shell.execute_reply": "2024-02-14T12:48:49.313241Z"
    },
    "papermill": {
     "duration": 0.056946,
     "end_time": "2024-02-14T12:48:49.314280",
     "exception": false,
     "start_time": "2024-02-14T12:48:49.257334",
     "status": "completed"
    },
    "scrolled": true,
    "tags": []
   },
   "outputs": [
    {
     "data": {
      "image/png": "[encoded data removed]",
      "text/plain": [
       "<Figure size 250x433.013 with 1 Axes>"
      ]
     },
     "metadata": {},
     "output_type": "display_data"
    }
   ],
   "source": [
    "# H2 Molecule : 4 qubits in Jordan-Wigner mapping of the Hamiltonian\n",
    "a = 10\n",
    "reg = Register.from_coordinates(\n",
    "    [\n",
    "        [0, 0],\n",
    "        [a, 0],\n",
    "        [0.5 * a, a * np.sqrt(3) / 2],\n",
    "        [0.5 * a, -a * np.sqrt(3) / 2],\n",
    "    ]\n",
    ")\n",
    "reg.draw()"
   ]
  },
  {
   "cell_type": "markdown",
   "id": "1e3f8102",
   "metadata": {
    "papermill": {
     "duration": 0.003984,
     "end_time": "2024-02-14T12:48:49.322637",
     "exception": false,
     "start_time": "2024-02-14T12:48:49.318653",
     "status": "completed"
    },
    "tags": []
   },
   "source": [
    "Let us keep the exact ground-state energy of the molecule for future reference, by diagonalizing it exactly - this is possible for such a small system, however, this quickly becomes an intractable problem for large molecules."
   ]
  },
  {
   "cell_type": "code",
   "execution_count": 22,
   "id": "5c56855f",
   "metadata": {
    "execution": {
     "iopub.execute_input": "2024-02-14T12:48:49.331116Z",
     "iopub.status.busy": "2024-02-14T12:48:49.331000Z",
     "iopub.status.idle": "2024-02-14T12:48:49.334743Z",
     "shell.execute_reply": "2024-02-14T12:48:49.334512Z"
    },
    "papermill": {
     "duration": 0.008912,
     "end_time": "2024-02-14T12:48:49.335471",
     "exception": false,
     "start_time": "2024-02-14T12:48:49.326559",
     "status": "completed"
    },
    "tags": []
   },
   "outputs": [
    {
     "name": "stdout",
     "output_type": "stream",
     "text": [
      "-1.8510459284448646\n"
     ]
    }
   ],
   "source": [
    "def cost_hamiltonian_JW():\n",
    "    H = (\n",
    "        -coeff_fact[0] * paulis[0]\n",
    "        + coeff_fact[1] * paulis[1]\n",
    "        - coeff_fact[2] * paulis[2]\n",
    "        + coeff_fact[3] * paulis[3]\n",
    "        + coeff_fact[4] * paulis[4]\n",
    "        + coeff_fact[5] * paulis[5]\n",
    "        + coeff_fact[6] * paulis[6]\n",
    "        - coeff_fact[7] * paulis[7]\n",
    "        + coeff_fact[7] * paulis[8]\n",
    "    )\n",
    "    return H\n",
    "\n",
    "\n",
    "global H\n",
    "H = cost_hamiltonian_JW()\n",
    "exact_energy, ground_state = cost_hamiltonian_JW().groundstate()\n",
    "print(exact_energy)"
   ]
  },
  {
   "cell_type": "markdown",
   "id": "b3b07aac",
   "metadata": {
    "papermill": {
     "duration": 0.004049,
     "end_time": "2024-02-14T12:48:49.343648",
     "exception": false,
     "start_time": "2024-02-14T12:48:49.339599",
     "status": "completed"
    },
    "tags": []
   },
   "source": [
    "### Quantum Loop (VQS)"
   ]
  },
  {
   "cell_type": "markdown",
   "id": "553c094a",
   "metadata": {
    "papermill": {
     "duration": 0.003954,
     "end_time": "2024-02-14T12:48:49.351564",
     "exception": false,
     "start_time": "2024-02-14T12:48:49.347610",
     "status": "completed"
    },
    "tags": []
   },
   "source": [
    "Much like in the *Using QAOA to solve a QUBO problem* notebook, we will use a mixed classical-quantum approach for minimizing the energy. The quantum part will do the exploration in Hilbert space, according to a certain set of parameters $\\theta_i, \\tau_j$, and the classical part will find the optimal parameters given the value of the energy after each loop. For now, we will ignore sampling problems and simply compute the exact expectation value of $H_{JW}$. See [this article by Xiao Yuan et al.](https://arxiv.org/abs/1812.08767) for details about VQS algorithms."
   ]
  },
  {
   "cell_type": "markdown",
   "id": "6600f87f",
   "metadata": {
    "papermill": {
     "duration": 0.003944,
     "end_time": "2024-02-14T12:48:49.359386",
     "exception": false,
     "start_time": "2024-02-14T12:48:49.355442",
     "status": "completed"
    },
    "tags": []
   },
   "source": [
    "Two mixing Hamiltonians are used for the exploration of the solution space :\n",
    "$H_1 = \\hbar / 2 \\sum_i \\sigma_i^x + \\sum_{j<i}\\frac{C_6}{|\\textbf{r}_i-\\textbf{r}_j|^{6}} \\hat n_i \\hat n_j$ and $H_2 = H_1 + \\hbar / 2 \\sum_i \\sigma_i^z$.\n",
    "We apply them repeatedly one after the other in $p$ layers. In total, $2p$ unitaries $U(\\theta_i, H_1) = \\exp(-i \\theta_i H_1)$ and $U(\\tau_i, H_2) = \\exp(-i \\tau_i H_2)$ act on the initial state to produce state $|\\Psi(\\theta, \\tau)\\rangle$ and measure $H_{JW}$."
   ]
  },
  {
   "cell_type": "code",
   "execution_count": 23,
   "id": "51dd8b41",
   "metadata": {
    "execution": {
     "iopub.execute_input": "2024-02-14T12:48:49.367799Z",
     "iopub.status.busy": "2024-02-14T12:48:49.367697Z",
     "iopub.status.idle": "2024-02-14T12:48:49.370343Z",
     "shell.execute_reply": "2024-02-14T12:48:49.370120Z"
    },
    "papermill": {
     "duration": 0.007761,
     "end_time": "2024-02-14T12:48:49.371025",
     "exception": false,
     "start_time": "2024-02-14T12:48:49.363264",
     "status": "completed"
    },
    "tags": []
   },
   "outputs": [],
   "source": [
    "def quantum_loop(param, in_state, r=reg):\n",
    "    \"\"\"\n",
    "    Args:\n",
    "        param (np.array): time parameters for each mixing Hamiltonian. There are 2p time parameters in param.\n",
    "        in_state (qubit.Qobj): initial state.\n",
    "    \"\"\"\n",
    "    seq = Sequence(r, Chadoq2)\n",
    "    seq.declare_channel(\"ch0\", \"rydberg_global\")\n",
    "    middle = len(param) // 2\n",
    "\n",
    "    for tau, t in zip(param[middle:], param[:middle]):\n",
    "        pulse_1 = Pulse.ConstantPulse(tau, 1.0, 0, 0)\n",
    "        pulse_2 = Pulse.ConstantPulse(t, 1.0, 1.0, 0)\n",
    "        seq.add(pulse_1, \"ch0\")\n",
    "        seq.add(pulse_2, \"ch0\")\n",
    "\n",
    "    seq.measure(\"ground-rydberg\")\n",
    "    simul = QutipEmulator.from_sequence(seq, sampling_rate=0.05)\n",
    "    simul.set_initial_state(in_state)\n",
    "    results = simul.run()\n",
    "    return results.expect([H])[-1][-1]\n",
    "\n",
    "\n",
    "def loop_JW(param, in_state):\n",
    "    res = minimize(\n",
    "        quantum_loop,\n",
    "        param,\n",
    "        method=\"Nelder-Mead\",\n",
    "        args=in_state,\n",
    "        options={\"return_all\": True, \"maxiter\": 200, \"adaptive\": True},\n",
    "    )\n",
    "    return res"
   ]
  },
  {
   "cell_type": "markdown",
   "id": "a7865e71",
   "metadata": {
    "papermill": {
     "duration": 0.003941,
     "end_time": "2024-02-14T12:48:49.378977",
     "exception": false,
     "start_time": "2024-02-14T12:48:49.375036",
     "status": "completed"
    },
    "tags": []
   },
   "source": [
    "We choose to act on the quantum states with $5$ layers of noncommuting mixing Hamiltonians, and an initial set of parameters such that pulses with Hamiltonian $H_1$ last $2\\mu s$, and those with $H_2$ last $4\\mu s$."
   ]
  },
  {
   "cell_type": "code",
   "execution_count": 24,
   "id": "44a1f66f",
   "metadata": {
    "execution": {
     "iopub.execute_input": "2024-02-14T12:48:49.387335Z",
     "iopub.status.busy": "2024-02-14T12:48:49.387235Z",
     "iopub.status.idle": "2024-02-14T12:48:49.388882Z",
     "shell.execute_reply": "2024-02-14T12:48:49.388658Z"
    },
    "papermill": {
     "duration": 0.006701,
     "end_time": "2024-02-14T12:48:49.389552",
     "exception": false,
     "start_time": "2024-02-14T12:48:49.382851",
     "status": "completed"
    },
    "tags": []
   },
   "outputs": [],
   "source": [
    "# Setup for VQS\n",
    "layers = 5\n",
    "param = [2000] * layers + [4000] * layers"
   ]
  },
  {
   "cell_type": "markdown",
   "id": "73f055d9",
   "metadata": {
    "papermill": {
     "duration": 0.003929,
     "end_time": "2024-02-14T12:48:49.397464",
     "exception": false,
     "start_time": "2024-02-14T12:48:49.393535",
     "status": "completed"
    },
    "tags": []
   },
   "source": [
    "We now obtain the ground-state energy :"
   ]
  },
  {
   "cell_type": "code",
   "execution_count": 25,
   "id": "78186ace",
   "metadata": {
    "execution": {
     "iopub.execute_input": "2024-02-14T12:48:49.405790Z",
     "iopub.status.busy": "2024-02-14T12:48:49.405692Z",
     "iopub.status.idle": "2024-02-14T12:49:15.405756Z",
     "shell.execute_reply": "2024-02-14T12:49:15.405474Z"
    },
    "papermill": {
     "duration": 26.006528,
     "end_time": "2024-02-14T12:49:15.407836",
     "exception": false,
     "start_time": "2024-02-14T12:48:49.401308",
     "status": "completed"
    },
    "tags": []
   },
   "outputs": [
    {
     "name": "stdout",
     "output_type": "stream",
     "text": [
      "-1.840671156176493 -1.8510459284448646\n"
     ]
    }
   ],
   "source": [
    "import warnings\n",
    "\n",
    "# Ignore the warnings\n",
    "warnings.filterwarnings(\"ignore\", category=UserWarning)\n",
    "\n",
    "loop_ising_results = loop_JW(param, gggg)\n",
    "print(loop_ising_results.fun, exact_energy)"
   ]
  },
  {
   "cell_type": "markdown",
   "id": "269cb018",
   "metadata": {
    "papermill": {
     "duration": 0.004034,
     "end_time": "2024-02-14T12:49:15.417894",
     "exception": false,
     "start_time": "2024-02-14T12:49:15.413860",
     "status": "completed"
    },
    "tags": []
   },
   "source": [
    "As we can see, it's not so far off, since we're about $2$% off from the exact value. Adding more layers, tweaking the mixing Hamiltonians or the initial parameters can help with the accuracy. \n",
    "\n",
    "Let's see how well the optimizer did after each loop."
   ]
  },
  {
   "cell_type": "code",
   "execution_count": 26,
   "id": "4276943d",
   "metadata": {
    "execution": {
     "iopub.execute_input": "2024-02-14T12:49:15.430777Z",
     "iopub.status.busy": "2024-02-14T12:49:15.430124Z",
     "iopub.status.idle": "2024-02-14T12:49:29.834232Z",
     "shell.execute_reply": "2024-02-14T12:49:29.833978Z"
    },
    "papermill": {
     "duration": 14.413434,
     "end_time": "2024-02-14T12:49:29.835189",
     "exception": false,
     "start_time": "2024-02-14T12:49:15.421755",
     "status": "completed"
    },
    "tags": []
   },
   "outputs": [
    {
     "data": {
      "text/plain": [
       "<matplotlib.lines.Line2D at 0x12c8504d0>"
      ]
     },
     "execution_count": 26,
     "metadata": {},
     "output_type": "execute_result"
    },
    {
     "data": {
      "image/png": "[encoded data removed]",
      "text/plain": [
       "<Figure size 640x480 with 1 Axes>"
      ]
     },
     "metadata": {},
     "output_type": "display_data"
    }
   ],
   "source": [
    "plt.plot(\n",
    "    [quantum_loop(pars, gggg) for pars in loop_ising_results.allvecs], \"k\"\n",
    ")\n",
    "plt.axhline(exact_energy, color=\"red\")"
   ]
  },
  {
   "cell_type": "markdown",
   "id": "0b26ff5b",
   "metadata": {
    "papermill": {
     "duration": 0.004133,
     "end_time": "2024-02-14T12:49:29.844776",
     "exception": false,
     "start_time": "2024-02-14T12:49:29.840643",
     "status": "completed"
    },
    "tags": []
   },
   "source": [
    "Seems like we can cut on calculation time by only allowing $100$ iterations, since we don't get much more accurate afterwards."
   ]
  },
  {
   "cell_type": "markdown",
   "id": "fc4f2bc6",
   "metadata": {
    "papermill": {
     "duration": 0.003912,
     "end_time": "2024-02-14T12:49:29.852567",
     "exception": false,
     "start_time": "2024-02-14T12:49:29.848655",
     "status": "completed"
    },
    "tags": []
   },
   "source": [
    "## Estimating Jordan-Wigner $H_2$ Hamiltonian with classical shadows"
   ]
  },
  {
   "cell_type": "markdown",
   "id": "e07a0e0e",
   "metadata": {
    "papermill": {
     "duration": 0.00399,
     "end_time": "2024-02-14T12:49:29.860544",
     "exception": false,
     "start_time": "2024-02-14T12:49:29.856554",
     "status": "completed"
    },
    "tags": []
   },
   "source": [
    "### Randomized measurements"
   ]
  },
  {
   "cell_type": "markdown",
   "id": "d15fd79d",
   "metadata": {
    "papermill": {
     "duration": 0.004175,
     "end_time": "2024-02-14T12:49:29.868872",
     "exception": false,
     "start_time": "2024-02-14T12:49:29.864697",
     "status": "completed"
    },
    "tags": []
   },
   "source": [
    "We now consider the real-life problem where we don't have access to the exact value $\\bra{\\Psi(\\theta_i, \\tau_j)} H_{JW} \\ket{\\Psi(\\theta_i, \\tau_j)}$. It can be estimated with classical shadows.\n",
    "We modify the quantum loop to add classical shadow estimation of the several Pauli strings making up the $H_{JW}$ Hamiltonian : this is the perfect setting to do so, because we have multiple Pauli strings and most of them have low weight."
   ]
  },
  {
   "cell_type": "code",
   "execution_count": 27,
   "id": "459d689e",
   "metadata": {
    "execution": {
     "iopub.execute_input": "2024-02-14T12:49:29.878465Z",
     "iopub.status.busy": "2024-02-14T12:49:29.878353Z",
     "iopub.status.idle": "2024-02-14T12:49:29.880482Z",
     "shell.execute_reply": "2024-02-14T12:49:29.880265Z"
    },
    "papermill": {
     "duration": 0.008427,
     "end_time": "2024-02-14T12:49:29.881156",
     "exception": false,
     "start_time": "2024-02-14T12:49:29.872729",
     "status": "completed"
    },
    "tags": []
   },
   "outputs": [],
   "source": [
    "def exp_value_JW(exp_values):\n",
    "    return (\n",
    "        -coeff_fact[0] * exp_values[0]\n",
    "        + coeff_fact[1] * exp_values[1]\n",
    "        - coeff_fact[2] * exp_values[2]\n",
    "        + coeff_fact[3] * exp_values[3]\n",
    "        + coeff_fact[4] * exp_values[4]\n",
    "        + coeff_fact[5] * exp_values[5]\n",
    "        + coeff_fact[6] * exp_values[6]\n",
    "        - coeff_fact[7] * exp_values[7]\n",
    "        + coeff_fact[7] * exp_values[8]\n",
    "    )"
   ]
  },
  {
   "cell_type": "code",
   "execution_count": 28,
   "id": "807eb68d",
   "metadata": {
    "execution": {
     "iopub.execute_input": "2024-02-14T12:49:29.889496Z",
     "iopub.status.busy": "2024-02-14T12:49:29.889414Z",
     "iopub.status.idle": "2024-02-14T12:49:29.894009Z",
     "shell.execute_reply": "2024-02-14T12:49:29.893819Z"
    },
    "papermill": {
     "duration": 0.00961,
     "end_time": "2024-02-14T12:49:29.894704",
     "exception": false,
     "start_time": "2024-02-14T12:49:29.885094",
     "status": "completed"
    },
    "tags": []
   },
   "outputs": [],
   "source": [
    "def quantum_loop_shadows(param, in_state, shadow_size=20, r=reg):\n",
    "    \"\"\"\n",
    "    Args:\n",
    "        param (np.array): time parameters for each mixing Hamiltonian. There are 2p time parameters in param.\n",
    "        in_state (qubit.Qobj): initial state.\n",
    "    \"\"\"\n",
    "    seq = Sequence(r, Chadoq2)\n",
    "    seq.declare_channel(\"ch0\", \"rydberg_global\")\n",
    "    middle = len(param) // 2\n",
    "\n",
    "    for tau, t in zip(param[middle:], param[:middle]):\n",
    "        pulse_1 = Pulse.ConstantPulse(tau, 1.0, 0, 0)\n",
    "        pulse_2 = Pulse.ConstantPulse(t, 1.0, 1.0, 0)\n",
    "        seq.add(pulse_1, \"ch0\")\n",
    "        seq.add(pulse_2, \"ch0\")\n",
    "\n",
    "    seq.measure(\"ground-rydberg\")\n",
    "    simul = QutipEmulator.from_sequence(seq, sampling_rate=0.01)\n",
    "    simul.set_initial_state(in_state)\n",
    "\n",
    "    # Classical shadow estimation\n",
    "    # Theoretical shadow size and number of clusters :\n",
    "    # shadow_size, K = compute_shadow_size(0.1, 0.5, paulis)\n",
    "    # We use K=4 to allow for quick simulation\n",
    "    K = 4\n",
    "    rho = simul.run().get_final_state().proj()\n",
    "    outcomes, unitary_ids = calculate_classical_shadow(rho, shadow_size)\n",
    "    snapshots = [\n",
    "        snapshot_state(outcomes[ns], unitary_ids[ns])\n",
    "        for ns in range(shadow_size)\n",
    "    ]\n",
    "    meds = [_median_of_means(obs, snapshots, K) for obs in paulis]\n",
    "    return exp_value_JW(meds)\n",
    "\n",
    "\n",
    "def loop_JW_shadows(param, in_state, shadow_size=20):\n",
    "    res = minimize(\n",
    "        quantum_loop_shadows,\n",
    "        param,\n",
    "        method=\"Nelder-Mead\",\n",
    "        args=(in_state, shadow_size),\n",
    "        options={\"return_all\": True, \"maxiter\": 100, \"adaptive\": True},\n",
    "    )\n",
    "    return res"
   ]
  },
  {
   "cell_type": "code",
   "execution_count": 29,
   "id": "4da6e7d1",
   "metadata": {
    "execution": {
     "iopub.execute_input": "2024-02-14T12:49:29.902957Z",
     "iopub.status.busy": "2024-02-14T12:49:29.902881Z",
     "iopub.status.idle": "2024-02-14T12:51:06.202018Z",
     "shell.execute_reply": "2024-02-14T12:51:06.201448Z"
    },
    "papermill": {
     "duration": 96.305849,
     "end_time": "2024-02-14T12:51:06.204500",
     "exception": false,
     "start_time": "2024-02-14T12:49:29.898651",
     "status": "completed"
    },
    "tags": []
   },
   "outputs": [],
   "source": [
    "shadow_sizes = [10, 20, 40, 60, 80, 100]\n",
    "energies = []\n",
    "for shadow_size in shadow_sizes:\n",
    "    energies.append(\n",
    "        abs(\n",
    "            loop_JW_shadows(param, gggg, shadow_size=shadow_size).fun\n",
    "            - exact_energy\n",
    "        )\n",
    "    )"
   ]
  },
  {
   "cell_type": "code",
   "execution_count": 30,
   "id": "d95728f8",
   "metadata": {
    "execution": {
     "iopub.execute_input": "2024-02-14T12:51:06.217952Z",
     "iopub.status.busy": "2024-02-14T12:51:06.217654Z",
     "iopub.status.idle": "2024-02-14T12:51:06.298007Z",
     "shell.execute_reply": "2024-02-14T12:51:06.297720Z"
    },
    "papermill": {
     "duration": 0.086725,
     "end_time": "2024-02-14T12:51:06.298817",
     "exception": false,
     "start_time": "2024-02-14T12:51:06.212092",
     "status": "completed"
    },
    "tags": []
   },
   "outputs": [
    {
     "data": {
      "text/plain": [
       "[<matplotlib.lines.Line2D at 0x12c26b7d0>]"
      ]
     },
     "execution_count": 30,
     "metadata": {},
     "output_type": "execute_result"
    },
    {
     "data": {
      "image/png": "[encoded data removed]",
      "text/plain": [
       "<Figure size 800x500 with 1 Axes>"
      ]
     },
     "metadata": {},
     "output_type": "display_data"
    }
   ],
   "source": [
    "plt.figure(figsize=(8, 5))\n",
    "plt.xlabel(\"Shadow size\", fontsize=15)\n",
    "plt.ylabel(r\"$|\\frac{E - E_{ground}}{E_{ground}}|$\", fontsize=20)\n",
    "plt.plot(shadow_sizes, [-e / exact_energy for e in energies])"
   ]
  },
  {
   "cell_type": "markdown",
   "id": "8e700647",
   "metadata": {
    "papermill": {
     "duration": 0.004398,
     "end_time": "2024-02-14T12:51:06.308099",
     "exception": false,
     "start_time": "2024-02-14T12:51:06.303701",
     "status": "completed"
    },
    "tags": []
   },
   "source": [
    "As could be expected, the estimation can be worse than what we got before : we added both randomness and sampling issues to the problem. Raising shadow size will allow more and more precise results. However, it can also be closer to the exact value for the same reasons."
   ]
  },
  {
   "cell_type": "markdown",
   "id": "02ee69e3",
   "metadata": {
    "papermill": {
     "duration": 0.004304,
     "end_time": "2024-02-14T12:51:06.316794",
     "exception": false,
     "start_time": "2024-02-14T12:51:06.312490",
     "status": "completed"
    },
    "tags": []
   },
   "source": [
    "### Derandomized measurements"
   ]
  },
  {
   "cell_type": "markdown",
   "id": "55c1766f",
   "metadata": {
    "papermill": {
     "duration": 0.004582,
     "end_time": "2024-02-14T12:51:06.325584",
     "exception": false,
     "start_time": "2024-02-14T12:51:06.321002",
     "status": "completed"
    },
    "tags": []
   },
   "source": [
    "Finally, we try out the derandomized measurements method. To implement this one, we need to decompose the Hamiltonian into individual Pauli strings, rather than group them when they share the same leading coefficient as we did before, as it reduced the number of estimations."
   ]
  },
  {
   "cell_type": "code",
   "execution_count": 31,
   "id": "5c4fe573",
   "metadata": {
    "execution": {
     "iopub.execute_input": "2024-02-14T12:51:06.334690Z",
     "iopub.status.busy": "2024-02-14T12:51:06.334580Z",
     "iopub.status.idle": "2024-02-14T12:51:06.336622Z",
     "shell.execute_reply": "2024-02-14T12:51:06.336399Z"
    },
    "papermill": {
     "duration": 0.007569,
     "end_time": "2024-02-14T12:51:06.337366",
     "exception": false,
     "start_time": "2024-02-14T12:51:06.329797",
     "status": "completed"
    },
    "tags": []
   },
   "outputs": [],
   "source": [
    "coeff_non_fact = [\n",
    "    -0.81261,\n",
    "    0.171201,\n",
    "    0.171201,\n",
    "    -0.2227965,\n",
    "    -0.2227965,\n",
    "    0.16862325,\n",
    "    0.174349,\n",
    "    0.12054625,\n",
    "    0.12054625,\n",
    "    0.165868,\n",
    "    0.165868,\n",
    "    -0.04532175,\n",
    "    -0.04532175,\n",
    "    0.04532175,\n",
    "    0.04532175,\n",
    "]\n",
    "\n",
    "paulis_str = [\n",
    "    \"1111\",\n",
    "    \"Z111\",\n",
    "    \"1Z11\",\n",
    "    \"11Z1\",\n",
    "    \"111Z\",\n",
    "    \"ZZ11\",\n",
    "    \"11ZZ\",\n",
    "    \"Z1Z1\",\n",
    "    \"1Z1Z\",\n",
    "    \"1ZZ1\",\n",
    "    \"Z11Z\",\n",
    "    \"YYXX\",\n",
    "    \"XXYY\",\n",
    "    \"XYYX\",\n",
    "    \"YXXY\",\n",
    "]"
   ]
  },
  {
   "cell_type": "code",
   "execution_count": 32,
   "id": "bdacfc3d",
   "metadata": {
    "execution": {
     "iopub.execute_input": "2024-02-14T12:51:06.348494Z",
     "iopub.status.busy": "2024-02-14T12:51:06.348291Z",
     "iopub.status.idle": "2024-02-14T12:51:06.350367Z",
     "shell.execute_reply": "2024-02-14T12:51:06.350121Z"
    },
    "papermill": {
     "duration": 0.007812,
     "end_time": "2024-02-14T12:51:06.351119",
     "exception": false,
     "start_time": "2024-02-14T12:51:06.343307",
     "status": "completed"
    },
    "tags": []
   },
   "outputs": [],
   "source": [
    "def exp_value_JW_non_fact(outcomes):\n",
    "    return sum(\n",
    "        [\n",
    "            c * exp_value(sigma, outcomes)\n",
    "            for c, sigma in zip(coeff_non_fact, paulis_str)\n",
    "        ]\n",
    "    )"
   ]
  },
  {
   "cell_type": "markdown",
   "id": "b7c88134",
   "metadata": {
    "papermill": {
     "duration": 0.00538,
     "end_time": "2024-02-14T12:51:06.361397",
     "exception": false,
     "start_time": "2024-02-14T12:51:06.356017",
     "status": "completed"
    },
    "tags": []
   },
   "source": [
    "Then, we ask the derandomization algorithm to return $60$ suitable Pauli measurements regarding our input Pauli observables. $60$ is arbitrary, but is small enough that the algorithm runs quickly and large enough that it gives good results."
   ]
  },
  {
   "cell_type": "code",
   "execution_count": 33,
   "id": "3a282d24",
   "metadata": {
    "execution": {
     "iopub.execute_input": "2024-02-14T12:51:06.374773Z",
     "iopub.status.busy": "2024-02-14T12:51:06.374429Z",
     "iopub.status.idle": "2024-02-14T12:51:06.478878Z",
     "shell.execute_reply": "2024-02-14T12:51:06.478333Z"
    },
    "papermill": {
     "duration": 0.113582,
     "end_time": "2024-02-14T12:51:06.479962",
     "exception": false,
     "start_time": "2024-02-14T12:51:06.366380",
     "status": "completed"
    },
    "tags": []
   },
   "outputs": [
    {
     "name": "stdout",
     "output_type": "stream",
     "text": [
      "ZZZZ measurements : 18, XXYY measurements : 11, YXXY measurements : 11, XYYX measurements : 10, YYXX measurements : 10 : total = 60 measurements\n"
     ]
    }
   ],
   "source": [
    "measurements = derandomization(60, paulis_str)\n",
    "print(\n",
    "    f\"ZZZZ measurements : {measurements.count('ZZZZ')}, XXYY measurements : {measurements.count('XXYY')}, \"\n",
    "    + f\"YXXY measurements : {measurements.count('YXXY')}, XYYX measurements : {measurements.count('XYYX')}, \"\n",
    "    + f\"YYXX measurements : {measurements.count('YYXX')} : total = 60 measurements\"\n",
    ")"
   ]
  },
  {
   "cell_type": "markdown",
   "id": "e28cb403",
   "metadata": {
    "papermill": {
     "duration": 0.005697,
     "end_time": "2024-02-14T12:51:06.491411",
     "exception": false,
     "start_time": "2024-02-14T12:51:06.485714",
     "status": "completed"
    },
    "tags": []
   },
   "source": [
    "As we can see, since all Pauli observables appearing in the Jordan-Wigner Hamiltonian involving the $Z$-basis never involve another basis, we find that it is always worth it to measure Pauli string $ZZZZ$ rather than $ZZZX$, or $ZYZZ$, etc. This is a sign that our cost function is doing its job !"
   ]
  },
  {
   "cell_type": "code",
   "execution_count": 34,
   "id": "01d751b0",
   "metadata": {
    "execution": {
     "iopub.execute_input": "2024-02-14T12:51:06.501853Z",
     "iopub.status.busy": "2024-02-14T12:51:06.501731Z",
     "iopub.status.idle": "2024-02-14T12:51:06.504986Z",
     "shell.execute_reply": "2024-02-14T12:51:06.504724Z"
    },
    "papermill": {
     "duration": 0.009109,
     "end_time": "2024-02-14T12:51:06.505707",
     "exception": false,
     "start_time": "2024-02-14T12:51:06.496598",
     "status": "completed"
    },
    "tags": []
   },
   "outputs": [],
   "source": [
    "def quantum_loop_derand(param, in_state, r=reg):\n",
    "    \"\"\"\n",
    "    Args:\n",
    "        param (np.array): time parameters for each mixing Hamiltonian. There are 2p time parameters in param.\n",
    "        in_state (qubit.Qobj): initial state.\n",
    "    \"\"\"\n",
    "    seq = Sequence(r, Chadoq2)\n",
    "    seq.declare_channel(\"ch0\", \"rydberg_global\")\n",
    "    middle = len(param) // 2\n",
    "\n",
    "    for tau, t in zip(param[middle:], param[:middle]):\n",
    "        pulse_1 = Pulse.ConstantPulse(tau, 1.0, 0, 0)\n",
    "        pulse_2 = Pulse.ConstantPulse(t, 1.0, 1.0, 0)\n",
    "        seq.add(pulse_1, \"ch0\")\n",
    "        seq.add(pulse_2, \"ch0\")\n",
    "\n",
    "    seq.measure(\"ground-rydberg\")\n",
    "    simul = QutipEmulator.from_sequence(seq, sampling_rate=0.05)\n",
    "    simul.set_initial_state(in_state)\n",
    "\n",
    "    # Classical shadow estimation\n",
    "    rho = simul.run().get_final_state().proj()\n",
    "    outcomes = classical_shadow_derand(rho, measurements)\n",
    "    return exp_value_JW_non_fact(outcomes)\n",
    "\n",
    "\n",
    "def loop_JW_derand(param, in_state):\n",
    "    res = minimize(\n",
    "        quantum_loop_derand,\n",
    "        param,\n",
    "        method=\"Nelder-Mead\",\n",
    "        args=in_state,\n",
    "        options={\"return_all\": True, \"maxiter\": 150, \"adaptive\": True},\n",
    "    )\n",
    "    return res"
   ]
  },
  {
   "cell_type": "code",
   "execution_count": 35,
   "id": "fa28d269",
   "metadata": {
    "execution": {
     "iopub.execute_input": "2024-02-14T12:51:06.516227Z",
     "iopub.status.busy": "2024-02-14T12:51:06.516104Z",
     "iopub.status.idle": "2024-02-14T12:54:12.261806Z",
     "shell.execute_reply": "2024-02-14T12:54:12.260976Z"
    },
    "papermill": {
     "duration": 185.75438,
     "end_time": "2024-02-14T12:54:12.265263",
     "exception": false,
     "start_time": "2024-02-14T12:51:06.510883",
     "status": "completed"
    },
    "tags": []
   },
   "outputs": [],
   "source": [
    "measurement_sizes = [20, 30, 40, 60, 80, 100]\n",
    "energies_derand = []\n",
    "for meas_size in measurement_sizes:\n",
    "    measurements = derandomization(meas_size, paulis_str)\n",
    "    energies_derand.append(\n",
    "        abs(loop_JW_derand(param, gggg).fun - exact_energy) / abs(exact_energy)\n",
    "    )"
   ]
  },
  {
   "cell_type": "code",
   "execution_count": 36,
   "id": "6a5835c8",
   "metadata": {
    "execution": {
     "iopub.execute_input": "2024-02-14T12:54:12.280908Z",
     "iopub.status.busy": "2024-02-14T12:54:12.280610Z",
     "iopub.status.idle": "2024-02-14T12:54:12.348209Z",
     "shell.execute_reply": "2024-02-14T12:54:12.347975Z"
    },
    "papermill": {
     "duration": 0.074579,
     "end_time": "2024-02-14T12:54:12.349203",
     "exception": false,
     "start_time": "2024-02-14T12:54:12.274624",
     "status": "completed"
    },
    "tags": []
   },
   "outputs": [
    {
     "data": {
      "text/plain": [
       "[<matplotlib.lines.Line2D at 0x11fe42390>]"
      ]
     },
     "execution_count": 36,
     "metadata": {},
     "output_type": "execute_result"
    },
    {
     "data": {
      "image/png": "[encoded data removed]",
      "text/plain": [
       "<Figure size 800x500 with 1 Axes>"
      ]
     },
     "metadata": {},
     "output_type": "display_data"
    }
   ],
   "source": [
    "plt.figure(figsize=(8, 5))\n",
    "plt.xlabel(\"Measurement size\", fontsize=15)\n",
    "plt.ylabel(r\"$|\\frac{E - E_{ground}}{E_{ground}}|$\", fontsize=20)\n",
    "plt.plot(measurement_sizes, energies_derand)"
   ]
  },
  {
   "cell_type": "markdown",
   "id": "038f75d7",
   "metadata": {
    "papermill": {
     "duration": 0.00421,
     "end_time": "2024-02-14T12:54:12.358847",
     "exception": false,
     "start_time": "2024-02-14T12:54:12.354637",
     "status": "completed"
    },
    "tags": []
   },
   "source": [
    "We consistently obtain accurate results using this derandomized technique, and we obtain them far quicker than when dealing with randomized classical shadows. For roughly the same number of samples ($\\sim 60$ for each method, be it for shadow size or number of measurements), we experience much less computing time using the derandomized method. This was to be expected : by restricting the observables to Pauli strings, we allow for efficient estimation that can be easily computed in $O(M\\times n)$, as well as remove randomness problematic with higher-weight observables (such as $YYXX$ or $YXXY$).\n",
    "\n",
    "Note that we obtain $2\\%$ accuracy after about $50$ $Z-$ basis measurements (fluorescence) of the output state, rotated before each sampling in the bases returned by the derandomization algorithm."
   ]
  }
 ],
 "metadata": {
  "celltoolbar": "Tags",
  "kernelspec": {
   "display_name": "pulser-ovh",
   "language": "python",
   "name": "pulser-ovh"
  },
  "language_info": {
   "codemirror_mode": {
    "name": "ipython",
    "version": 3
   },
   "file_extension": ".py",
   "mimetype": "text/x-python",
   "name": "python",
   "nbconvert_exporter": "python",
   "pygments_lexer": "ipython3",
   "version": "3.11.7"
  },
  "papermill": {
   "duration": 336.048377,
   "end_time": "2024-02-14T12:54:12.584619",
   "exception": null,
   "input_path": "./5. Quantum simulation/5.5. Shadow estimation for VQS.ipynb",
   "output_path": "./5. Quantum simulation/5.5. Shadow estimation for VQS.ipynb",
   "parameters": {
    "product": "./5. Quantum simulation/5.5. Shadow estimation for VQS.ipynb"
   },
   "start_time": "2024-02-14T12:48:36.536242"
  }
 },
 "nbformat": 4,
 "nbformat_minor": 5
}