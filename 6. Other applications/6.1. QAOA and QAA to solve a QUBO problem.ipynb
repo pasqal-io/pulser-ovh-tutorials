{
 "cells": [
  {
   "attachments": {},
   "cell_type": "markdown",
   "id": "4ec2bc10",
   "metadata": {
    "papermill": {
     "duration": 0.012451,
     "end_time": "2024-02-14T13:04:56.247028",
     "exception": false,
     "start_time": "2024-02-14T13:04:56.234577",
     "status": "completed"
    },
    "tags": []
   },
   "source": [
    "# QAOA and QAA to solve a QUBO problem"
   ]
  },
  {
   "cell_type": "code",
   "execution_count": 1,
   "id": "60562c01",
   "metadata": {
    "execution": {
     "iopub.execute_input": "2024-02-14T13:04:56.271802Z",
     "iopub.status.busy": "2024-02-14T13:04:56.271552Z",
     "iopub.status.idle": "2024-02-14T13:04:57.067294Z",
     "shell.execute_reply": "2024-02-14T13:04:57.066939Z"
    },
    "papermill": {
     "duration": 0.810557,
     "end_time": "2024-02-14T13:04:57.069052",
     "exception": false,
     "start_time": "2024-02-14T13:04:56.258495",
     "status": "completed"
    },
    "tags": []
   },
   "outputs": [],
   "source": [
    "import numpy as np\n",
    "import matplotlib.pyplot as plt\n",
    "from pulser import Pulse, Sequence, Register\n",
    "from pulser_simulation import QutipEmulator\n",
    "from pulser.devices import Chadoq2\n",
    "from pulser.waveforms import InterpolatedWaveform\n",
    "from scipy.optimize import minimize\n",
    "from scipy.spatial.distance import pdist, squareform"
   ]
  },
  {
   "cell_type": "markdown",
   "id": "3bd55b1a",
   "metadata": {
    "papermill": {
     "duration": 0.002505,
     "end_time": "2024-02-14T13:04:57.075321",
     "exception": false,
     "start_time": "2024-02-14T13:04:57.072816",
     "status": "completed"
    },
    "tags": []
   },
   "source": [
    "## 1. Introduction "
   ]
  },
  {
   "cell_type": "markdown",
   "id": "2a65955c",
   "metadata": {
    "papermill": {
     "duration": 0.002507,
     "end_time": "2024-02-14T13:04:57.080273",
     "exception": false,
     "start_time": "2024-02-14T13:04:57.077766",
     "status": "completed"
    },
    "tags": []
   },
   "source": [
    "In this tutorial, we illustrate how to solve a Quadratic Unconstrained Binary Optimization (QUBO) instance using an ensemble of Rydberg atoms in analog mode.\n",
    "\n",
    "QUBO has been extensively studied [Glover, et al., 2018](https://arxiv.org/pdf/1811.11538.pdf) and is used to model and solve numerous categories of optimization problems including important instances of network flows, scheduling, max-cut, max-clique, vertex cover and other graph and management science problems, integrating them into a unified modeling framework.\n",
    "\n",
    "Mathematically, a QUBO instance consists of a symmetric matrix $Q$ of size $(N \\times N)$, and the optimization problem associated with it is to find the bitstring $z=(z_1, \\dots, z_N) \\in \\{0, 1 \\}^N$ that minimizes the quantity\n",
    "$$f(z) = z^{T}Qz$$ \n",
    "\n",
    "\n",
    "In this tutorial, we will demonstrate how a QUBO instance can be mapped and solved using neutral atoms."
   ]
  },
  {
   "cell_type": "markdown",
   "id": "779ccf5f",
   "metadata": {
    "papermill": {
     "duration": 0.003429,
     "end_time": "2024-02-14T13:04:57.086146",
     "exception": false,
     "start_time": "2024-02-14T13:04:57.082717",
     "status": "completed"
    },
    "tags": []
   },
   "source": [
    "Suppose we are given the following QUBO matrix $Q$:"
   ]
  },
  {
   "cell_type": "code",
   "execution_count": 2,
   "id": "01933e81",
   "metadata": {
    "execution": {
     "iopub.execute_input": "2024-02-14T13:04:57.092494Z",
     "iopub.status.busy": "2024-02-14T13:04:57.092312Z",
     "iopub.status.idle": "2024-02-14T13:04:57.094686Z",
     "shell.execute_reply": "2024-02-14T13:04:57.094424Z"
    },
    "papermill": {
     "duration": 0.006563,
     "end_time": "2024-02-14T13:04:57.095515",
     "exception": false,
     "start_time": "2024-02-14T13:04:57.088952",
     "status": "completed"
    },
    "tags": []
   },
   "outputs": [],
   "source": [
    "Q = np.array(\n",
    "    [\n",
    "        [-10.0, 19.7365809, 19.7365809, 5.42015853, 5.42015853],\n",
    "        [19.7365809, -10.0, 20.67626392, 0.17675796, 0.85604541],\n",
    "        [19.7365809, 20.67626392, -10.0, 0.85604541, 0.17675796],\n",
    "        [5.42015853, 0.17675796, 0.85604541, -10.0, 0.32306662],\n",
    "        [5.42015853, 0.85604541, 0.17675796, 0.32306662, -10.0],\n",
    "    ]\n",
    ")"
   ]
  },
  {
   "cell_type": "markdown",
   "id": "e220ba10",
   "metadata": {
    "papermill": {
     "duration": 0.002513,
     "end_time": "2024-02-14T13:04:57.101133",
     "exception": false,
     "start_time": "2024-02-14T13:04:57.098620",
     "status": "completed"
    },
    "tags": []
   },
   "source": [
    "Because the QUBO is small, we can classically check all solutions and mark the optimal ones. This will help us later in the tutorial to visualize the quality of our quantum approach."
   ]
  },
  {
   "cell_type": "code",
   "execution_count": 3,
   "id": "fbd7657f",
   "metadata": {
    "execution": {
     "iopub.execute_input": "2024-02-14T13:04:57.107154Z",
     "iopub.status.busy": "2024-02-14T13:04:57.107022Z",
     "iopub.status.idle": "2024-02-14T13:04:57.109917Z",
     "shell.execute_reply": "2024-02-14T13:04:57.109682Z"
    },
    "papermill": {
     "duration": 0.006545,
     "end_time": "2024-02-14T13:04:57.110592",
     "exception": false,
     "start_time": "2024-02-14T13:04:57.104047",
     "status": "completed"
    },
    "tags": []
   },
   "outputs": [
    {
     "name": "stdout",
     "output_type": "stream",
     "text": [
      "[('01011', -27.288260020000003), ('00111', -27.288260019999996), ('00101', -19.64648408)]\n"
     ]
    }
   ],
   "source": [
    "bitstrings = [np.binary_repr(i, len(Q)) for i in range(2 ** len(Q))]\n",
    "costs = []\n",
    "# this takes exponential time with the dimension of the QUBO\n",
    "for b in bitstrings:\n",
    "    z = np.array(list(b), dtype=int)\n",
    "    cost = z.T @ Q @ z\n",
    "    costs.append(cost)\n",
    "zipped = zip(bitstrings, costs)\n",
    "sort_zipped = sorted(zipped, key=lambda x: x[1])\n",
    "print(sort_zipped[:3])"
   ]
  },
  {
   "cell_type": "markdown",
   "id": "e64c8b3a",
   "metadata": {
    "papermill": {
     "duration": 0.002483,
     "end_time": "2024-02-14T13:04:57.115786",
     "exception": false,
     "start_time": "2024-02-14T13:04:57.113303",
     "status": "completed"
    },
    "tags": []
   },
   "source": [
    "This QUBO admits `01011` and `00111` as optimal solutions."
   ]
  },
  {
   "cell_type": "markdown",
   "id": "bf1c0598",
   "metadata": {
    "papermill": {
     "duration": 0.002393,
     "end_time": "2024-02-14T13:04:57.120575",
     "exception": false,
     "start_time": "2024-02-14T13:04:57.118182",
     "status": "completed"
    },
    "tags": []
   },
   "source": [
    "### Embedding a QUBO onto an atomic register"
   ]
  },
  {
   "cell_type": "markdown",
   "id": "abe00115",
   "metadata": {
    "papermill": {
     "duration": 0.002391,
     "end_time": "2024-02-14T13:04:57.125340",
     "exception": false,
     "start_time": "2024-02-14T13:04:57.122949",
     "status": "completed"
    },
    "tags": []
   },
   "source": [
    "We now illustrate how to use Pulser to embbed the QUBO matrix $Q$ on a neutral-atom device.\n",
    "\n",
    "The key idea is to encode the off-diagonal terms of $Q$ by using the Rydberg interaction between atoms. As the interaction $U$ depends on the pairwise distance ($U=C_6/r_{ij}^6$) between atoms $i$ and $j$, we attempt to find the optimal positions of the atoms in the Register that replicate best the off-diagonal terms of $Q$:"
   ]
  },
  {
   "cell_type": "code",
   "execution_count": 4,
   "id": "34e86c62",
   "metadata": {
    "execution": {
     "iopub.execute_input": "2024-02-14T13:04:57.130760Z",
     "iopub.status.busy": "2024-02-14T13:04:57.130655Z",
     "iopub.status.idle": "2024-02-14T13:04:57.132541Z",
     "shell.execute_reply": "2024-02-14T13:04:57.132313Z"
    },
    "papermill": {
     "duration": 0.005601,
     "end_time": "2024-02-14T13:04:57.133358",
     "exception": false,
     "start_time": "2024-02-14T13:04:57.127757",
     "status": "completed"
    },
    "tags": []
   },
   "outputs": [],
   "source": [
    "def evaluate_mapping(new_coords, *args):\n",
    "    \"\"\"Cost function to minimize. Ideally, the pairwise\n",
    "    distances are conserved\"\"\"\n",
    "    Q, shape = args\n",
    "    new_coords = np.reshape(new_coords, shape)\n",
    "    new_Q = squareform(Chadoq2.interaction_coeff / pdist(new_coords) ** 6)\n",
    "    return np.linalg.norm(new_Q - Q)"
   ]
  },
  {
   "cell_type": "code",
   "execution_count": 5,
   "id": "69b5ae2a",
   "metadata": {
    "execution": {
     "iopub.execute_input": "2024-02-14T13:04:57.139275Z",
     "iopub.status.busy": "2024-02-14T13:04:57.139158Z",
     "iopub.status.idle": "2024-02-14T13:04:57.283638Z",
     "shell.execute_reply": "2024-02-14T13:04:57.283284Z"
    },
    "papermill": {
     "duration": 0.149017,
     "end_time": "2024-02-14T13:04:57.285011",
     "exception": false,
     "start_time": "2024-02-14T13:04:57.135994",
     "status": "completed"
    },
    "tags": []
   },
   "outputs": [],
   "source": [
    "shape = (len(Q), 2)\n",
    "costs = []\n",
    "np.random.seed(0)\n",
    "x0 = np.random.random(shape).flatten()\n",
    "res = minimize(\n",
    "    evaluate_mapping,\n",
    "    x0,\n",
    "    args=(Q, shape),\n",
    "    method=\"Nelder-Mead\",\n",
    "    tol=1e-6,\n",
    "    options={\"maxiter\": 200000, \"maxfev\": None},\n",
    ")\n",
    "coords = np.reshape(res.x, (len(Q), 2))"
   ]
  },
  {
   "cell_type": "markdown",
   "id": "91615300",
   "metadata": {
    "papermill": {
     "duration": 0.003535,
     "end_time": "2024-02-14T13:04:57.292689",
     "exception": false,
     "start_time": "2024-02-14T13:04:57.289154",
     "status": "completed"
    },
    "tags": []
   },
   "source": [
    "We can then plot the obtained coordinates in a Register using:"
   ]
  },
  {
   "cell_type": "code",
   "execution_count": 6,
   "id": "5368ccf7",
   "metadata": {
    "execution": {
     "iopub.execute_input": "2024-02-14T13:04:57.303116Z",
     "iopub.status.busy": "2024-02-14T13:04:57.302609Z",
     "iopub.status.idle": "2024-02-14T13:04:57.580207Z",
     "shell.execute_reply": "2024-02-14T13:04:57.525523Z"
    },
    "papermill": {
     "duration": 0.296272,
     "end_time": "2024-02-14T13:04:57.594458",
     "exception": false,
     "start_time": "2024-02-14T13:04:57.298186",
     "status": "completed"
    },
    "tags": []
   },
   "outputs": [
    {
     "data": {
      "image/png": "[encoded data removed]",
      "text/plain": [
       "<Figure size 423.145x432.075 with 1 Axes>"
      ]
     },
     "metadata": {},
     "output_type": "display_data"
    }
   ],
   "source": [
    "qubits = dict(enumerate(coords))\n",
    "reg = Register(qubits)\n",
    "reg.draw(\n",
    "    blockade_radius=Chadoq2.rydberg_blockade_radius(1.0),\n",
    "    draw_graph=False,\n",
    "    draw_half_radius=True,\n",
    ")"
   ]
  },
  {
   "cell_type": "markdown",
   "id": "636e7498",
   "metadata": {
    "papermill": {
     "duration": 0.002969,
     "end_time": "2024-02-14T13:04:57.600694",
     "exception": false,
     "start_time": "2024-02-14T13:04:57.597725",
     "status": "completed"
    },
    "tags": []
   },
   "source": [
    "## 2. Building the quantum algorithm "
   ]
  },
  {
   "cell_type": "markdown",
   "id": "fa087445",
   "metadata": {
    "papermill": {
     "duration": 0.002909,
     "end_time": "2024-02-14T13:04:57.607676",
     "exception": false,
     "start_time": "2024-02-14T13:04:57.604767",
     "status": "completed"
    },
    "tags": []
   },
   "source": [
    "Now that the QUBO $Q$ is encoded in the Register, we can peprare the following Ising Hamiltonian $H_Q$:\n",
    "\n",
    "$$ H_Q= \\sum_{i=1}^N \\frac{\\hbar\\Omega}{2} \\sigma_i^x - \\sum_{i=1}^N \\frac{\\hbar \\delta}{2} \\sigma_i^z+\\sum_{j \\lt i}\\frac{C_6}{|\\textbf{r}_i-\\textbf{r}_j|^{6}} n_i n_j. $$\n",
    "\n",
    "In the case where our mapping of the atoms is perfect, the last sum replicates exactly the off-diagonal terms of $Q$. In that case, the next step is to prepare the ground-state of $H_Q$ to output the optimal bitstrings.\n",
    "\n",
    "To do so we present two different approaches, namely the Quantum Approximation Optimization Algorithm (QAOA) and the Quantum Adiabatic Algorithm (QAA) that have been introduced to prepare ground-states of Hamiltonians."
   ]
  },
  {
   "cell_type": "markdown",
   "id": "b116d06f",
   "metadata": {
    "papermill": {
     "duration": 0.002924,
     "end_time": "2024-02-14T13:04:57.613287",
     "exception": false,
     "start_time": "2024-02-14T13:04:57.610363",
     "status": "completed"
    },
    "tags": []
   },
   "source": [
    "### QAOA"
   ]
  },
  {
   "cell_type": "markdown",
   "id": "52e81d89",
   "metadata": {
    "papermill": {
     "duration": 0.00266,
     "end_time": "2024-02-14T13:04:57.618654",
     "exception": false,
     "start_time": "2024-02-14T13:04:57.615994",
     "status": "completed"
    },
    "tags": []
   },
   "source": [
    "This algorithm (see [Farhi, et al., 2014](https://arxiv.org/pdf/1411.4028.pdf)) has gained a lot of traction lately as a gate-based quantum algorithm. It has shown promising results in a number of applications and yields decent results for low-depth circuits.\n",
    "\n",
    "All atoms are initially in the groundstate $|00\\dots0\\rangle$ of the `ground-rydberg` basis.  We then apply $p$ layers of alternating non-commutative Hamiltonians. The first one, called the mixing Hamiltonian $H_M$, is realized by taking $\\Omega = 1$ rad/µs, and $\\delta = 0$ rad/µs in the Hamiltonian equation. The second Hamiltonian $H_Q$ is realized with $\\Omega =0$ rad/µs and $\\delta = 1.$ rad/µs. $H_M$ and $H_Q$ are applied turn in turn with parameters $\\tau$ and $t$ respectively. A classical optimizer is then used to estimate the optimal parameters. \n",
    "\n",
    "Instead of creating a new `Sequence` everytime the quantum loop is called, we are going to create a parametrized `Sequence` and give that to the quantum loop."
   ]
  },
  {
   "cell_type": "code",
   "execution_count": 7,
   "id": "0c8c0c36",
   "metadata": {
    "execution": {
     "iopub.execute_input": "2024-02-14T13:04:57.626332Z",
     "iopub.status.busy": "2024-02-14T13:04:57.626009Z",
     "iopub.status.idle": "2024-02-14T13:04:57.630435Z",
     "shell.execute_reply": "2024-02-14T13:04:57.629781Z"
    },
    "papermill": {
     "duration": 0.009869,
     "end_time": "2024-02-14T13:04:57.631755",
     "exception": false,
     "start_time": "2024-02-14T13:04:57.621886",
     "status": "completed"
    },
    "tags": []
   },
   "outputs": [],
   "source": [
    "LAYERS = 2\n",
    "\n",
    "# Parametrized sequence\n",
    "seq = Sequence(reg, Chadoq2)\n",
    "seq.declare_channel(\"ch0\", \"rydberg_global\")\n",
    "\n",
    "t_list = seq.declare_variable(\"t_list\", size=LAYERS)\n",
    "s_list = seq.declare_variable(\"s_list\", size=LAYERS)\n",
    "\n",
    "for t, s in zip(t_list, s_list):\n",
    "    pulse_1 = Pulse.ConstantPulse(1000 * t, 1.0, 0.0, 0)\n",
    "    pulse_2 = Pulse.ConstantPulse(1000 * s, 0.0, 1.0, 0)\n",
    "\n",
    "    seq.add(pulse_1, \"ch0\")\n",
    "    seq.add(pulse_2, \"ch0\")\n",
    "\n",
    "seq.measure(\"ground-rydberg\")"
   ]
  },
  {
   "cell_type": "markdown",
   "id": "8bdd45a6",
   "metadata": {
    "papermill": {
     "duration": 0.002769,
     "end_time": "2024-02-14T13:04:57.637563",
     "exception": false,
     "start_time": "2024-02-14T13:04:57.634794",
     "status": "completed"
    },
    "tags": []
   },
   "source": [
    "Once we have the parameters that we want to apply, we use the `.build()` method to assign these values into a `assigned_seq` sequence. It is this sequence which is simulated every time the quantum loop is called."
   ]
  },
  {
   "cell_type": "markdown",
   "id": "19cbeb67",
   "metadata": {
    "papermill": {
     "duration": 0.00343,
     "end_time": "2024-02-14T13:04:57.643849",
     "exception": false,
     "start_time": "2024-02-14T13:04:57.640419",
     "status": "completed"
    },
    "tags": []
   },
   "source": [
    "Experimentally, we don't have access to the state vector $|\\psi\\rangle$. We therefore make it more realistic by taking samples from the state vector that results from running the simulation with `simul.run()`. This is done with the built-in method `results.sample_final_state()`, in which we add the measurement basis which was declared at the end of the sequence, and the number of samples desired. Currently, the repetition rate of the machine is $5$ Hz."
   ]
  },
  {
   "cell_type": "code",
   "execution_count": 8,
   "id": "5a8a96d0",
   "metadata": {
    "execution": {
     "iopub.execute_input": "2024-02-14T13:04:57.651783Z",
     "iopub.status.busy": "2024-02-14T13:04:57.651636Z",
     "iopub.status.idle": "2024-02-14T13:04:57.653862Z",
     "shell.execute_reply": "2024-02-14T13:04:57.653608Z"
    },
    "papermill": {
     "duration": 0.006714,
     "end_time": "2024-02-14T13:04:57.654615",
     "exception": false,
     "start_time": "2024-02-14T13:04:57.647901",
     "status": "completed"
    },
    "tags": []
   },
   "outputs": [],
   "source": [
    "def quantum_loop(parameters):\n",
    "    params = np.array(parameters)\n",
    "    t_params, s_params = np.reshape(params.astype(int), (2, LAYERS))\n",
    "    assigned_seq = seq.build(t_list=t_params, s_list=s_params)\n",
    "    simul = QutipEmulator.from_sequence(assigned_seq, sampling_rate=0.01)\n",
    "    results = simul.run()\n",
    "    count_dict = results.sample_final_state()  # sample from the state vector\n",
    "    return count_dict"
   ]
  },
  {
   "cell_type": "code",
   "execution_count": 9,
   "id": "1790c75c",
   "metadata": {
    "execution": {
     "iopub.execute_input": "2024-02-14T13:04:57.660869Z",
     "iopub.status.busy": "2024-02-14T13:04:57.660745Z",
     "iopub.status.idle": "2024-02-14T13:04:57.662643Z",
     "shell.execute_reply": "2024-02-14T13:04:57.662432Z"
    },
    "papermill": {
     "duration": 0.00591,
     "end_time": "2024-02-14T13:04:57.663373",
     "exception": false,
     "start_time": "2024-02-14T13:04:57.657463",
     "status": "completed"
    },
    "tags": []
   },
   "outputs": [],
   "source": [
    "np.random.seed(123)  # ensures reproducibility of the tutorial\n",
    "guess = {\n",
    "    \"t\": np.random.uniform(8, 10, LAYERS),\n",
    "    \"s\": np.random.uniform(1, 3, LAYERS),\n",
    "}"
   ]
  },
  {
   "cell_type": "code",
   "execution_count": 10,
   "id": "7538db0a",
   "metadata": {
    "execution": {
     "iopub.execute_input": "2024-02-14T13:04:57.669671Z",
     "iopub.status.busy": "2024-02-14T13:04:57.669546Z",
     "iopub.status.idle": "2024-02-14T13:04:57.697342Z",
     "shell.execute_reply": "2024-02-14T13:04:57.697066Z"
    },
    "papermill": {
     "duration": 0.032067,
     "end_time": "2024-02-14T13:04:57.698327",
     "exception": false,
     "start_time": "2024-02-14T13:04:57.666260",
     "status": "completed"
    },
    "tags": []
   },
   "outputs": [],
   "source": [
    "example_dict = quantum_loop(np.r_[guess[\"t\"], guess[\"s\"]])"
   ]
  },
  {
   "cell_type": "markdown",
   "id": "9aade674",
   "metadata": {
    "papermill": {
     "duration": 0.002656,
     "end_time": "2024-02-14T13:04:57.703877",
     "exception": false,
     "start_time": "2024-02-14T13:04:57.701221",
     "status": "completed"
    },
    "tags": []
   },
   "source": [
    "We can then plot the distribution of the samples, to see the most frequent bitstrings sampled."
   ]
  },
  {
   "cell_type": "code",
   "execution_count": 11,
   "id": "0f1b880e",
   "metadata": {
    "execution": {
     "iopub.execute_input": "2024-02-14T13:04:57.709755Z",
     "iopub.status.busy": "2024-02-14T13:04:57.709649Z",
     "iopub.status.idle": "2024-02-14T13:04:57.711900Z",
     "shell.execute_reply": "2024-02-14T13:04:57.711676Z"
    },
    "papermill": {
     "duration": 0.006134,
     "end_time": "2024-02-14T13:04:57.712691",
     "exception": false,
     "start_time": "2024-02-14T13:04:57.706557",
     "status": "completed"
    },
    "tags": []
   },
   "outputs": [],
   "source": [
    "def plot_distribution(C):\n",
    "    C = dict(sorted(C.items(), key=lambda item: item[1], reverse=True))\n",
    "    indexes = [\"01011\", \"00111\"]  # QUBO solutions\n",
    "    color_dict = {key: \"r\" if key in indexes else \"g\" for key in C}\n",
    "    plt.figure(figsize=(12, 6))\n",
    "    plt.xlabel(\"bitstrings\")\n",
    "    plt.ylabel(\"counts\")\n",
    "    plt.bar(C.keys(), C.values(), width=0.5, color=color_dict.values())\n",
    "    plt.xticks(rotation=\"vertical\")\n",
    "    plt.show()"
   ]
  },
  {
   "cell_type": "code",
   "execution_count": 12,
   "id": "7850697b",
   "metadata": {
    "execution": {
     "iopub.execute_input": "2024-02-14T13:04:57.718739Z",
     "iopub.status.busy": "2024-02-14T13:04:57.718616Z",
     "iopub.status.idle": "2024-02-14T13:04:57.790632Z",
     "shell.execute_reply": "2024-02-14T13:04:57.790337Z"
    },
    "papermill": {
     "duration": 0.076179,
     "end_time": "2024-02-14T13:04:57.791597",
     "exception": false,
     "start_time": "2024-02-14T13:04:57.715418",
     "status": "completed"
    },
    "tags": []
   },
   "outputs": [
    {
     "data": {
      "image/png": "[encoded data removed]",
      "text/plain": [
       "<Figure size 1200x600 with 1 Axes>"
      ]
     },
     "metadata": {},
     "output_type": "display_data"
    }
   ],
   "source": [
    "plot_distribution(example_dict)"
   ]
  },
  {
   "cell_type": "markdown",
   "id": "11903aca",
   "metadata": {
    "papermill": {
     "duration": 0.002861,
     "end_time": "2024-02-14T13:04:57.797420",
     "exception": false,
     "start_time": "2024-02-14T13:04:57.794559",
     "status": "completed"
    },
    "tags": []
   },
   "source": [
    "The bitstrings `01011` and `00111` (in red) correspond to the two optimal solutions (calculated at the beginning of the notebook). The goal of QAOA is to choregraph interferences between the basis states, in order to maximize the frequency of the optimal solution states. "
   ]
  },
  {
   "cell_type": "markdown",
   "id": "9e3e00af",
   "metadata": {
    "papermill": {
     "duration": 0.002951,
     "end_time": "2024-02-14T13:04:57.803294",
     "exception": false,
     "start_time": "2024-02-14T13:04:57.800343",
     "status": "completed"
    },
    "tags": []
   },
   "source": [
    "## 3. Optimization "
   ]
  },
  {
   "cell_type": "markdown",
   "id": "b86964f1",
   "metadata": {
    "papermill": {
     "duration": 0.002819,
     "end_time": "2024-02-14T13:04:57.808948",
     "exception": false,
     "start_time": "2024-02-14T13:04:57.806129",
     "status": "completed"
    },
    "tags": []
   },
   "source": [
    "We estimate the cost of a sampled state vector by making an average over the samples. This is done by taking the corresponding bitstring ${\\bf z}=(z_1, \\ldots, z_N)$ and calculating\n",
    "\n",
    "$$\n",
    "C({\\bf z}) = {\\bf z}^\\top \\cdot Q \\cdot {\\bf z}\n",
    "$$\n",
    "\n",
    "Determining the cost of a given bitstring takes polynomial time. The average estimate is then used in the classical loop to optimize the variational parameters $\\tau$ and $t$."
   ]
  },
  {
   "cell_type": "code",
   "execution_count": 13,
   "id": "507c9ad2",
   "metadata": {
    "execution": {
     "iopub.execute_input": "2024-02-14T13:04:57.815924Z",
     "iopub.status.busy": "2024-02-14T13:04:57.815797Z",
     "iopub.status.idle": "2024-02-14T13:04:57.817938Z",
     "shell.execute_reply": "2024-02-14T13:04:57.817717Z"
    },
    "papermill": {
     "duration": 0.006586,
     "end_time": "2024-02-14T13:04:57.818649",
     "exception": false,
     "start_time": "2024-02-14T13:04:57.812063",
     "status": "completed"
    },
    "tags": []
   },
   "outputs": [],
   "source": [
    "def get_cost_colouring(bitstring, Q):\n",
    "    z = np.array(list(bitstring), dtype=int)\n",
    "    cost = z.T @ Q @ z\n",
    "    return cost\n",
    "\n",
    "\n",
    "def get_cost(counter, Q):\n",
    "    cost = sum(counter[key] * get_cost_colouring(key, Q) for key in counter)\n",
    "    return cost / sum(counter.values())  # Divide by total samples"
   ]
  },
  {
   "cell_type": "markdown",
   "id": "922f7148",
   "metadata": {
    "papermill": {
     "duration": 0.00304,
     "end_time": "2024-02-14T13:04:57.824619",
     "exception": false,
     "start_time": "2024-02-14T13:04:57.821579",
     "status": "completed"
    },
    "tags": []
   },
   "source": [
    "To perform a minimization loop, we define the following function that will be called at each step by SciPy. `*args` enables to pass the QUBO value, and `params` contains the trial value to score, which changes at each step."
   ]
  },
  {
   "cell_type": "code",
   "execution_count": 14,
   "id": "3ba3780d",
   "metadata": {
    "execution": {
     "iopub.execute_input": "2024-02-14T13:04:57.830726Z",
     "iopub.status.busy": "2024-02-14T13:04:57.830609Z",
     "iopub.status.idle": "2024-02-14T13:04:57.832269Z",
     "shell.execute_reply": "2024-02-14T13:04:57.832065Z"
    },
    "papermill": {
     "duration": 0.005589,
     "end_time": "2024-02-14T13:04:57.832964",
     "exception": false,
     "start_time": "2024-02-14T13:04:57.827375",
     "status": "completed"
    },
    "tags": []
   },
   "outputs": [],
   "source": [
    "def func(param, *args):\n",
    "    Q = args[0]\n",
    "    C = quantum_loop(param)\n",
    "    cost = get_cost(C, Q)\n",
    "    return cost"
   ]
  },
  {
   "cell_type": "markdown",
   "id": "d0ea3997",
   "metadata": {
    "papermill": {
     "duration": 0.00278,
     "end_time": "2024-02-14T13:04:57.838549",
     "exception": false,
     "start_time": "2024-02-14T13:04:57.835769",
     "status": "completed"
    },
    "tags": []
   },
   "source": [
    "### QAOA for depth $p = 2$"
   ]
  },
  {
   "cell_type": "markdown",
   "id": "a67822dc",
   "metadata": {
    "papermill": {
     "duration": 0.003831,
     "end_time": "2024-02-14T13:04:57.845144",
     "exception": false,
     "start_time": "2024-02-14T13:04:57.841313",
     "status": "completed"
    },
    "tags": []
   },
   "source": [
    "We now use a classical optimizer `minimize` in order to find the best variational parameters. This function takes as arguments `func`, the QUBO $Q$ and an initial point `x0` for the simplex in Nelder-Mead minimization. As the optimizer might get trapped in local minima, we repeat the optimization 20 times and select the parameters that yield the best approximation ratio."
   ]
  },
  {
   "cell_type": "code",
   "execution_count": 15,
   "id": "63031157",
   "metadata": {
    "execution": {
     "iopub.execute_input": "2024-02-14T13:04:57.852206Z",
     "iopub.status.busy": "2024-02-14T13:04:57.852089Z",
     "iopub.status.idle": "2024-02-14T13:05:10.223637Z",
     "shell.execute_reply": "2024-02-14T13:05:10.223036Z"
    },
    "papermill": {
     "duration": 12.376978,
     "end_time": "2024-02-14T13:05:10.225577",
     "exception": false,
     "start_time": "2024-02-14T13:04:57.848599",
     "status": "completed"
    },
    "tags": []
   },
   "outputs": [],
   "source": [
    "scores = []\n",
    "params = []\n",
    "for repetition in range(20):\n",
    "    guess = {\n",
    "        \"t\": np.random.uniform(1, 10, LAYERS),\n",
    "        \"s\": np.random.uniform(1, 10, LAYERS),\n",
    "    }\n",
    "\n",
    "    try:\n",
    "        res = minimize(\n",
    "            func,\n",
    "            args=Q,\n",
    "            x0=np.r_[guess[\"t\"], guess[\"s\"]],\n",
    "            method=\"Nelder-Mead\",\n",
    "            tol=1e-5,\n",
    "            options={\"maxiter\": 10},\n",
    "        )\n",
    "        scores.append(res.fun)\n",
    "        params.append(res.x)\n",
    "    except Exception as e:\n",
    "        pass"
   ]
  },
  {
   "cell_type": "markdown",
   "id": "873e2fce",
   "metadata": {
    "papermill": {
     "duration": 0.006999,
     "end_time": "2024-02-14T13:05:10.246244",
     "exception": false,
     "start_time": "2024-02-14T13:05:10.239245",
     "status": "completed"
    },
    "tags": []
   },
   "source": [
    "We can now plot the sample that we woud obtain using the optimal variational parameters."
   ]
  },
  {
   "cell_type": "code",
   "execution_count": 16,
   "id": "9751ae64",
   "metadata": {
    "execution": {
     "iopub.execute_input": "2024-02-14T13:05:10.253307Z",
     "iopub.status.busy": "2024-02-14T13:05:10.253138Z",
     "iopub.status.idle": "2024-02-14T13:05:10.373581Z",
     "shell.execute_reply": "2024-02-14T13:05:10.373280Z"
    },
    "papermill": {
     "duration": 0.126448,
     "end_time": "2024-02-14T13:05:10.375741",
     "exception": false,
     "start_time": "2024-02-14T13:05:10.249293",
     "status": "completed"
    },
    "tags": []
   },
   "outputs": [
    {
     "data": {
      "image/png": "[encoded data removed]",
      "text/plain": [
       "<Figure size 1200x600 with 1 Axes>"
      ]
     },
     "metadata": {},
     "output_type": "display_data"
    }
   ],
   "source": [
    "optimal_count_dict = quantum_loop(params[np.argmin(scores)])\n",
    "plot_distribution(optimal_count_dict)"
   ]
  },
  {
   "cell_type": "markdown",
   "id": "3870df2a",
   "metadata": {
    "papermill": {
     "duration": 0.003152,
     "end_time": "2024-02-14T13:05:10.382610",
     "exception": false,
     "start_time": "2024-02-14T13:05:10.379458",
     "status": "completed"
    },
    "tags": []
   },
   "source": [
    "QAOA is capable of finding good variational parameters $\\tau$ and $t$. Now, sampling from this final state $|\\psi(t_{f})\\rangle$ will return both optimal strings with high probability."
   ]
  },
  {
   "cell_type": "markdown",
   "id": "e2bba801",
   "metadata": {
    "papermill": {
     "duration": 0.003119,
     "end_time": "2024-02-14T13:05:10.388975",
     "exception": false,
     "start_time": "2024-02-14T13:05:10.385856",
     "status": "completed"
    },
    "tags": []
   },
   "source": [
    "However, using QAOA to solve the problem is not the best idea; it's difficult to yield a >90% quality solution without going to high depths of the QAOA, implying that the growing closed-loop optimization can rapidly become expensive, with no guarantee of convergence. We therefore propose another approach called the Quantum Adiabatic Algorithm (QAA). This fast, reliant and exclusively analog method shows optimal convergence to the solution."
   ]
  },
  {
   "cell_type": "markdown",
   "id": "8c4564ad",
   "metadata": {
    "papermill": {
     "duration": 0.003359,
     "end_time": "2024-02-14T13:05:10.395692",
     "exception": false,
     "start_time": "2024-02-14T13:05:10.392333",
     "status": "completed"
    },
    "tags": []
   },
   "source": [
    "## Quantum Adiabatic Algorithm"
   ]
  },
  {
   "cell_type": "markdown",
   "id": "147ee616",
   "metadata": {
    "papermill": {
     "duration": 0.003013,
     "end_time": "2024-02-14T13:05:10.401767",
     "exception": false,
     "start_time": "2024-02-14T13:05:10.398754",
     "status": "completed"
    },
    "tags": []
   },
   "source": [
    "The idea behind the adiabatic algorithm (see [Albash, Lidar, 2018](https://arxiv.org/pdf/1611.04471.pdf)) is to slowly evolve the system from an easy-to-prepare groundstate to the groundstate of $H_Q$. If done slowly enough, the system of atoms stays in the instantaneous ground-state.\n",
    "\n",
    "In our case, we continuously vary the parameters $\\Omega(t), \\delta(t)$ in time, starting with $\\Omega(0)=0, \\delta(0)<0$ and ending with $\\Omega(0)=0, \\delta>0$. The ground-state of $H(0)$ corresponds to the initial state $|00000\\rangle$ and the ground-state of $H(t_f)$ corresponds to the ground-state of $H_Q$."
   ]
  },
  {
   "cell_type": "markdown",
   "id": "cdab98ea",
   "metadata": {
    "papermill": {
     "duration": 0.003133,
     "end_time": "2024-02-14T13:05:10.407828",
     "exception": false,
     "start_time": "2024-02-14T13:05:10.404695",
     "status": "completed"
    },
    "tags": []
   },
   "source": [
    "The Rydberg blockade radius is directly linked to the Rabi frequency $\\Omega$ and is obtained using `Chadoq2.rydberg_blockade_radius()`. In this notebook, $\\Omega$ is initially fixed to a frequency of 1 rad/µs. We can therefore build the adjacency matrix $A$ of $G$ in the following way:"
   ]
  },
  {
   "cell_type": "markdown",
   "id": "f8fb8d88",
   "metadata": {
    "papermill": {
     "duration": 0.003017,
     "end_time": "2024-02-14T13:05:10.414153",
     "exception": false,
     "start_time": "2024-02-14T13:05:10.411136",
     "status": "completed"
    },
    "tags": []
   },
   "source": [
    "To ensure that we are not exciting the system to states that are too excited, we keep $\\Omega \\in [0, \\Omega_{\\text{max}}]$, and choose $\\Omega_{\\text{max}}$ as the median of the values of Q to ensures that the adiabatic path is efficient."
   ]
  },
  {
   "cell_type": "code",
   "execution_count": 17,
   "id": "9ebcf2d5",
   "metadata": {
    "execution": {
     "iopub.execute_input": "2024-02-14T13:05:10.420665Z",
     "iopub.status.busy": "2024-02-14T13:05:10.420540Z",
     "iopub.status.idle": "2024-02-14T13:05:10.422790Z",
     "shell.execute_reply": "2024-02-14T13:05:10.422562Z"
    },
    "papermill": {
     "duration": 0.006471,
     "end_time": "2024-02-14T13:05:10.423567",
     "exception": false,
     "start_time": "2024-02-14T13:05:10.417096",
     "status": "completed"
    },
    "tags": []
   },
   "outputs": [],
   "source": [
    "# We choose a median value between the min and the max\n",
    "Omega = np.median(Q[Q > 0].flatten())\n",
    "delta_0 = -5  # just has to be negative\n",
    "delta_f = -delta_0  # just has to be positive\n",
    "T = 4000  # time in ns, we choose a time long enough to ensure the propagation of information in the system"
   ]
  },
  {
   "cell_type": "code",
   "execution_count": 18,
   "id": "3de44b8f",
   "metadata": {
    "execution": {
     "iopub.execute_input": "2024-02-14T13:05:10.429923Z",
     "iopub.status.busy": "2024-02-14T13:05:10.429771Z",
     "iopub.status.idle": "2024-02-14T13:05:10.681636Z",
     "shell.execute_reply": "2024-02-14T13:05:10.681359Z"
    },
    "papermill": {
     "duration": 0.256014,
     "end_time": "2024-02-14T13:05:10.682478",
     "exception": false,
     "start_time": "2024-02-14T13:05:10.426464",
     "status": "completed"
    },
    "tags": []
   },
   "outputs": [
    {
     "data": {
      "image/png": "[encoded data removed]",
      "text/plain": [
       "<Figure size 2000x400 with 3 Axes>"
      ]
     },
     "metadata": {},
     "output_type": "display_data"
    }
   ],
   "source": [
    "adiabatic_pulse = Pulse(\n",
    "    InterpolatedWaveform(T, [1e-9, Omega, 1e-9]),\n",
    "    InterpolatedWaveform(T, [delta_0, 0, delta_f]),\n",
    "    0,\n",
    ")\n",
    "seq = Sequence(reg, Chadoq2)\n",
    "seq.declare_channel(\"ising\", \"rydberg_global\")\n",
    "seq.add(adiabatic_pulse, \"ising\")\n",
    "seq.draw()"
   ]
  },
  {
   "cell_type": "code",
   "execution_count": 19,
   "id": "f66756ea",
   "metadata": {
    "execution": {
     "iopub.execute_input": "2024-02-14T13:05:10.691169Z",
     "iopub.status.busy": "2024-02-14T13:05:10.691050Z",
     "iopub.status.idle": "2024-02-14T13:05:10.814484Z",
     "shell.execute_reply": "2024-02-14T13:05:10.814217Z"
    },
    "papermill": {
     "duration": 0.128419,
     "end_time": "2024-02-14T13:05:10.815343",
     "exception": false,
     "start_time": "2024-02-14T13:05:10.686924",
     "status": "completed"
    },
    "tags": []
   },
   "outputs": [],
   "source": [
    "simul = QutipEmulator.from_sequence(seq)\n",
    "results = simul.run()\n",
    "final = results.get_final_state()\n",
    "count_dict = results.sample_final_state()"
   ]
  },
  {
   "cell_type": "code",
   "execution_count": 20,
   "id": "f4ad6e9c",
   "metadata": {
    "execution": {
     "iopub.execute_input": "2024-02-14T13:05:10.824915Z",
     "iopub.status.busy": "2024-02-14T13:05:10.824772Z",
     "iopub.status.idle": "2024-02-14T13:05:10.890267Z",
     "shell.execute_reply": "2024-02-14T13:05:10.889960Z"
    },
    "papermill": {
     "duration": 0.071739,
     "end_time": "2024-02-14T13:05:10.891089",
     "exception": false,
     "start_time": "2024-02-14T13:05:10.819350",
     "status": "completed"
    },
    "tags": []
   },
   "outputs": [
    {
     "data": {
      "image/png": "[encoded data removed]",
      "text/plain": [
       "<Figure size 1200x600 with 1 Axes>"
      ]
     },
     "metadata": {},
     "output_type": "display_data"
    }
   ],
   "source": [
    "plot_distribution(count_dict)"
   ]
  },
  {
   "cell_type": "markdown",
   "id": "fd0cc86b",
   "metadata": {
    "papermill": {
     "duration": 0.003266,
     "end_time": "2024-02-14T13:05:10.897765",
     "exception": false,
     "start_time": "2024-02-14T13:05:10.894499",
     "status": "completed"
    },
    "tags": []
   },
   "source": [
    "See how fast and performant this method is! In only a few micro-seconds, we find an excellent solution."
   ]
  },
  {
   "cell_type": "markdown",
   "id": "134d1804",
   "metadata": {
    "papermill": {
     "duration": 0.003579,
     "end_time": "2024-02-14T13:05:10.905218",
     "exception": false,
     "start_time": "2024-02-14T13:05:10.901639",
     "status": "completed"
    },
    "tags": []
   },
   "source": [
    "### How does the time evolution affect the quality of the results?"
   ]
  },
  {
   "cell_type": "code",
   "execution_count": 21,
   "id": "c317390e",
   "metadata": {
    "execution": {
     "iopub.execute_input": "2024-02-14T13:05:10.912131Z",
     "iopub.status.busy": "2024-02-14T13:05:10.912017Z",
     "iopub.status.idle": "2024-02-14T13:05:12.828103Z",
     "shell.execute_reply": "2024-02-14T13:05:12.827766Z"
    },
    "papermill": {
     "duration": 1.921463,
     "end_time": "2024-02-14T13:05:12.829876",
     "exception": false,
     "start_time": "2024-02-14T13:05:10.908413",
     "status": "completed"
    },
    "tags": []
   },
   "outputs": [],
   "source": [
    "cost = []\n",
    "for T in 1000 * np.linspace(1, 10, 10):\n",
    "    seq = Sequence(reg, Chadoq2)\n",
    "    seq.declare_channel(\"ising\", \"rydberg_global\")\n",
    "    adiabatic_pulse = Pulse(\n",
    "        InterpolatedWaveform(T, [1e-9, Omega, 1e-9]),\n",
    "        InterpolatedWaveform(T, [delta_0, 0, delta_f]),\n",
    "        0,\n",
    "    )\n",
    "    seq.add(adiabatic_pulse, \"ising\")\n",
    "    simul = QutipEmulator.from_sequence(seq)\n",
    "    results = simul.run()\n",
    "    final = results.get_final_state()\n",
    "    count_dict = results.sample_final_state()\n",
    "    cost.append(get_cost(count_dict, Q) / 3)"
   ]
  },
  {
   "cell_type": "code",
   "execution_count": 22,
   "id": "a09114fb",
   "metadata": {
    "execution": {
     "iopub.execute_input": "2024-02-14T13:05:12.845145Z",
     "iopub.status.busy": "2024-02-14T13:05:12.844962Z",
     "iopub.status.idle": "2024-02-14T13:05:12.915356Z",
     "shell.execute_reply": "2024-02-14T13:05:12.915083Z"
    },
    "papermill": {
     "duration": 0.079942,
     "end_time": "2024-02-14T13:05:12.917954",
     "exception": false,
     "start_time": "2024-02-14T13:05:12.838012",
     "status": "completed"
    },
    "tags": []
   },
   "outputs": [
    {
     "data": {
      "image/png": "[encoded data removed]",
      "text/plain": [
       "<Figure size 1200x600 with 1 Axes>"
      ]
     },
     "metadata": {},
     "output_type": "display_data"
    }
   ],
   "source": [
    "plt.figure(figsize=(12, 6))\n",
    "plt.plot(range(1, 11), np.array(cost), \"--o\")\n",
    "plt.xlabel(\"total time evolution (µs)\", fontsize=14)\n",
    "plt.ylabel(\"cost\", fontsize=14)\n",
    "plt.show()"
   ]
  }
 ],
 "metadata": {
  "celltoolbar": "Tags",
  "interpreter": {
   "hash": "949777d72b0d2535278d3dc13498b2535136f6dfe0678499012e853ee9abcab1"
  },
  "kernelspec": {
   "display_name": "pulser-ovh",
   "language": "python",
   "name": "pulser-ovh"
  },
  "language_info": {
   "codemirror_mode": {
    "name": "ipython",
    "version": 3
   },
   "file_extension": ".py",
   "mimetype": "text/x-python",
   "name": "python",
   "nbconvert_exporter": "python",
   "pygments_lexer": "ipython3",
   "version": "3.11.7"
  },
  "papermill": {
   "duration": 17.542085,
   "end_time": "2024-02-14T13:05:13.239928",
   "exception": null,
   "input_path": "./6. Other applications/6.1. QAOA and QAA to solve a QUBO problem.ipynb",
   "output_path": "./6. Other applications/6.1. QAOA and QAA to solve a QUBO problem.ipynb",
   "parameters": {
    "product": "./6. Other applications/6.1. QAOA and QAA to solve a QUBO problem.ipynb"
   },
   "start_time": "2024-02-14T13:04:55.697843"
  },
  "vscode": {
   "interpreter": {
    "hash": "e088768f7ff7b4294439f8ed10f7eed9e3b885124bc20d9d06cc2a37b1883330"
   }
  }
 },
 "nbformat": 4,
 "nbformat_minor": 5
}