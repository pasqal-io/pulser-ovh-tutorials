{
 "cells": [
  {
   "cell_type": "code",
   "execution_count": 1,
   "id": "57bc1029",
   "metadata": {
    "execution": {
     "iopub.execute_input": "2023-10-31T09:29:05.785960Z",
     "iopub.status.busy": "2023-10-31T09:29:05.785538Z",
     "iopub.status.idle": "2023-10-31T09:29:05.791329Z",
     "shell.execute_reply": "2023-10-31T09:29:05.790232Z"
    },
    "papermill": {
     "duration": 0.036066,
     "end_time": "2023-10-31T09:29:05.796515",
     "exception": false,
     "start_time": "2023-10-31T09:29:05.760449",
     "status": "completed"
    },
    "tags": [
     "parameters"
    ]
   },
   "outputs": [],
   "source": [
    "# add default values for parameters here"
   ]
  },
  {
   "cell_type": "code",
   "execution_count": 2,
   "id": "0d8f91e1",
   "metadata": {
    "execution": {
     "iopub.execute_input": "2023-10-31T09:29:05.852614Z",
     "iopub.status.busy": "2023-10-31T09:29:05.852280Z",
     "iopub.status.idle": "2023-10-31T09:29:05.865872Z",
     "shell.execute_reply": "2023-10-31T09:29:05.864854Z"
    },
    "papermill": {
     "duration": 0.042928,
     "end_time": "2023-10-31T09:29:05.871515",
     "exception": false,
     "start_time": "2023-10-31T09:29:05.828587",
     "status": "completed"
    },
    "tags": [
     "injected-parameters"
    ]
   },
   "outputs": [],
   "source": [
    "# Parameters\n",
    "product = \"./6. Other applications/6.1. QAOA and QAA to solve a QUBO problem.ipynb\"\n"
   ]
  },
  {
   "attachments": {},
   "cell_type": "markdown",
   "id": "4ec2bc10",
   "metadata": {
    "papermill": {
     "duration": 0.018049,
     "end_time": "2023-10-31T09:29:05.909251",
     "exception": false,
     "start_time": "2023-10-31T09:29:05.891202",
     "status": "completed"
    },
    "tags": []
   },
   "source": [
    "# QAOA and QAA to solve a QUBO problem"
   ]
  },
  {
   "cell_type": "code",
   "execution_count": 3,
   "id": "60562c01",
   "metadata": {
    "execution": {
     "iopub.execute_input": "2023-10-31T09:29:06.019771Z",
     "iopub.status.busy": "2023-10-31T09:29:06.019427Z",
     "iopub.status.idle": "2023-10-31T09:29:08.348136Z",
     "shell.execute_reply": "2023-10-31T09:29:08.346939Z"
    },
    "papermill": {
     "duration": 2.384814,
     "end_time": "2023-10-31T09:29:08.350776",
     "exception": false,
     "start_time": "2023-10-31T09:29:05.965962",
     "status": "completed"
    },
    "tags": []
   },
   "outputs": [],
   "source": [
    "import numpy as np\n",
    "import matplotlib.pyplot as plt\n",
    "from pulser import Pulse, Sequence, Register\n",
    "from pulser_simulation import QutipEmulator\n",
    "from pulser.devices import Chadoq2\n",
    "from pulser.waveforms import InterpolatedWaveform\n",
    "from scipy.optimize import minimize\n",
    "from scipy.spatial.distance import pdist, squareform"
   ]
  },
  {
   "cell_type": "markdown",
   "id": "3bd55b1a",
   "metadata": {
    "papermill": {
     "duration": 0.017329,
     "end_time": "2023-10-31T09:29:08.417324",
     "exception": false,
     "start_time": "2023-10-31T09:29:08.399995",
     "status": "completed"
    },
    "tags": []
   },
   "source": [
    "## 1. Introduction "
   ]
  },
  {
   "cell_type": "markdown",
   "id": "2a65955c",
   "metadata": {
    "papermill": {
     "duration": 0.018025,
     "end_time": "2023-10-31T09:29:08.460078",
     "exception": false,
     "start_time": "2023-10-31T09:29:08.442053",
     "status": "completed"
    },
    "tags": []
   },
   "source": [
    "In this tutorial, we illustrate how to solve a Quadratic Unconstrained Binary Optimization (QUBO) instance using an ensemble of Rydberg atoms in analog mode.\n",
    "\n",
    "QUBO has been extensively studied [Glover, et al., 2018](https://arxiv.org/pdf/1811.11538.pdf) and is used to model and solve numerous categories of optimization problems including important instances of network flows, scheduling, max-cut, max-clique, vertex cover and other graph and management science problems, integrating them into a unified modeling framework.\n",
    "\n",
    "Mathematically, a QUBO instance consists of a symmetric matrix $Q$ of size $(N \\times N)$, and the optimization problem associated with it is to find the bitstring $z=(z_1, \\dots, z_N) \\in \\{0, 1 \\}^N$ that minimizes the quantity\n",
    "$$f(z) = z^{T}Qz$$ \n",
    "\n",
    "\n",
    "In this tutorial, we will demonstrate how a QUBO instance can be mapped and solved using neutral atoms."
   ]
  },
  {
   "cell_type": "markdown",
   "id": "779ccf5f",
   "metadata": {
    "papermill": {
     "duration": 0.019351,
     "end_time": "2023-10-31T09:29:08.496157",
     "exception": false,
     "start_time": "2023-10-31T09:29:08.476806",
     "status": "completed"
    },
    "tags": []
   },
   "source": [
    "Suppose we are given the following QUBO matrix $Q$:"
   ]
  },
  {
   "cell_type": "code",
   "execution_count": 4,
   "id": "01933e81",
   "metadata": {
    "execution": {
     "iopub.execute_input": "2023-10-31T09:29:08.536769Z",
     "iopub.status.busy": "2023-10-31T09:29:08.536335Z",
     "iopub.status.idle": "2023-10-31T09:29:08.555284Z",
     "shell.execute_reply": "2023-10-31T09:29:08.553618Z"
    },
    "papermill": {
     "duration": 0.051643,
     "end_time": "2023-10-31T09:29:08.566844",
     "exception": false,
     "start_time": "2023-10-31T09:29:08.515201",
     "status": "completed"
    },
    "tags": []
   },
   "outputs": [],
   "source": [
    "Q = np.array(\n",
    "    [\n",
    "        [-10.0, 19.7365809, 19.7365809, 5.42015853, 5.42015853],\n",
    "        [19.7365809, -10.0, 20.67626392, 0.17675796, 0.85604541],\n",
    "        [19.7365809, 20.67626392, -10.0, 0.85604541, 0.17675796],\n",
    "        [5.42015853, 0.17675796, 0.85604541, -10.0, 0.32306662],\n",
    "        [5.42015853, 0.85604541, 0.17675796, 0.32306662, -10.0],\n",
    "    ]\n",
    ")"
   ]
  },
  {
   "cell_type": "markdown",
   "id": "e220ba10",
   "metadata": {
    "papermill": {
     "duration": 0.026963,
     "end_time": "2023-10-31T09:29:08.622319",
     "exception": false,
     "start_time": "2023-10-31T09:29:08.595356",
     "status": "completed"
    },
    "tags": []
   },
   "source": [
    "Because the QUBO is small, we can classically check all solutions and mark the optimal ones. This will help us later in the tutorial to visualize the quality of our quantum approach."
   ]
  },
  {
   "cell_type": "code",
   "execution_count": 5,
   "id": "fbd7657f",
   "metadata": {
    "execution": {
     "iopub.execute_input": "2023-10-31T09:29:08.659812Z",
     "iopub.status.busy": "2023-10-31T09:29:08.659389Z",
     "iopub.status.idle": "2023-10-31T09:29:08.674384Z",
     "shell.execute_reply": "2023-10-31T09:29:08.673145Z"
    },
    "papermill": {
     "duration": 0.036099,
     "end_time": "2023-10-31T09:29:08.677440",
     "exception": false,
     "start_time": "2023-10-31T09:29:08.641341",
     "status": "completed"
    },
    "tags": []
   },
   "outputs": [
    {
     "name": "stdout",
     "output_type": "stream",
     "text": [
      "[('01011', -27.288260020000003), ('00111', -27.288260019999996), ('00101', -19.64648408)]\n"
     ]
    }
   ],
   "source": [
    "bitstrings = [np.binary_repr(i, len(Q)) for i in range(2 ** len(Q))]\n",
    "costs = []\n",
    "# this takes exponential time with the dimension of the QUBO\n",
    "for b in bitstrings:\n",
    "    z = np.array(list(b), dtype=int)\n",
    "    cost = z.T @ Q @ z\n",
    "    costs.append(cost)\n",
    "zipped = zip(bitstrings, costs)\n",
    "sort_zipped = sorted(zipped, key=lambda x: x[1])\n",
    "print(sort_zipped[:3])"
   ]
  },
  {
   "cell_type": "markdown",
   "id": "e64c8b3a",
   "metadata": {
    "papermill": {
     "duration": 0.030413,
     "end_time": "2023-10-31T09:29:08.739279",
     "exception": false,
     "start_time": "2023-10-31T09:29:08.708866",
     "status": "completed"
    },
    "tags": []
   },
   "source": [
    "This QUBO admits `01011` and `00111` as optimal solutions."
   ]
  },
  {
   "cell_type": "markdown",
   "id": "bf1c0598",
   "metadata": {
    "papermill": {
     "duration": 0.029817,
     "end_time": "2023-10-31T09:29:08.798322",
     "exception": false,
     "start_time": "2023-10-31T09:29:08.768505",
     "status": "completed"
    },
    "tags": []
   },
   "source": [
    "### Embedding a QUBO onto an atomic register"
   ]
  },
  {
   "cell_type": "markdown",
   "id": "abe00115",
   "metadata": {
    "papermill": {
     "duration": 0.019102,
     "end_time": "2023-10-31T09:29:08.875758",
     "exception": false,
     "start_time": "2023-10-31T09:29:08.856656",
     "status": "completed"
    },
    "tags": []
   },
   "source": [
    "We now illustrate how to use Pulser to embbed the QUBO matrix $Q$ on a neutral-atom device.\n",
    "\n",
    "The key idea is to encode the off-diagonal terms of $Q$ by using the Rydberg interaction between atoms. As the interaction $U$ depends on the pairwise distance ($U=C_6/r_{ij}^6$) between atoms $i$ and $j$, we attempt to find the optimal positions of the atoms in the Register that replicate best the off-diagonal terms of $Q$:"
   ]
  },
  {
   "cell_type": "code",
   "execution_count": 6,
   "id": "34e86c62",
   "metadata": {
    "execution": {
     "iopub.execute_input": "2023-10-31T09:29:08.923883Z",
     "iopub.status.busy": "2023-10-31T09:29:08.923493Z",
     "iopub.status.idle": "2023-10-31T09:29:08.932174Z",
     "shell.execute_reply": "2023-10-31T09:29:08.929905Z"
    },
    "papermill": {
     "duration": 0.039647,
     "end_time": "2023-10-31T09:29:08.940208",
     "exception": false,
     "start_time": "2023-10-31T09:29:08.900561",
     "status": "completed"
    },
    "tags": []
   },
   "outputs": [],
   "source": [
    "def evaluate_mapping(new_coords, *args):\n",
    "    \"\"\"Cost function to minimize. Ideally, the pairwise\n",
    "    distances are conserved\"\"\"\n",
    "    Q, shape = args\n",
    "    new_coords = np.reshape(new_coords, shape)\n",
    "    new_Q = squareform(Chadoq2.interaction_coeff / pdist(new_coords) ** 6)\n",
    "    return np.linalg.norm(new_Q - Q)"
   ]
  },
  {
   "cell_type": "code",
   "execution_count": 7,
   "id": "69b5ae2a",
   "metadata": {
    "execution": {
     "iopub.execute_input": "2023-10-31T09:29:09.013692Z",
     "iopub.status.busy": "2023-10-31T09:29:09.013290Z",
     "iopub.status.idle": "2023-10-31T09:29:10.900740Z",
     "shell.execute_reply": "2023-10-31T09:29:10.899701Z"
    },
    "papermill": {
     "duration": 1.936918,
     "end_time": "2023-10-31T09:29:10.903839",
     "exception": false,
     "start_time": "2023-10-31T09:29:08.966921",
     "status": "completed"
    },
    "tags": []
   },
   "outputs": [],
   "source": [
    "shape = (len(Q), 2)\n",
    "costs = []\n",
    "np.random.seed(0)\n",
    "x0 = np.random.random(shape).flatten()\n",
    "res = minimize(\n",
    "    evaluate_mapping,\n",
    "    x0,\n",
    "    args=(Q, shape),\n",
    "    method=\"Nelder-Mead\",\n",
    "    tol=1e-6,\n",
    "    options={\"maxiter\": 200000, \"maxfev\": None},\n",
    ")\n",
    "coords = np.reshape(res.x, (len(Q), 2))"
   ]
  },
  {
   "cell_type": "markdown",
   "id": "91615300",
   "metadata": {
    "papermill": {
     "duration": 0.018046,
     "end_time": "2023-10-31T09:29:10.959541",
     "exception": false,
     "start_time": "2023-10-31T09:29:10.941495",
     "status": "completed"
    },
    "tags": []
   },
   "source": [
    "We can then plot the obtained coordinates in a Register using:"
   ]
  },
  {
   "cell_type": "code",
   "execution_count": 8,
   "id": "5368ccf7",
   "metadata": {
    "execution": {
     "iopub.execute_input": "2023-10-31T09:29:11.012808Z",
     "iopub.status.busy": "2023-10-31T09:29:11.012378Z",
     "iopub.status.idle": "2023-10-31T09:29:11.822772Z",
     "shell.execute_reply": "2023-10-31T09:29:11.821800Z"
    },
    "papermill": {
     "duration": 0.847572,
     "end_time": "2023-10-31T09:29:11.825448",
     "exception": false,
     "start_time": "2023-10-31T09:29:10.977876",
     "status": "completed"
    },
    "tags": []
   },
   "outputs": [
    {
     "data": {
      "image/png": "[encoded data removed]",
      "text/plain": [
       "<Figure size 423.838x432.583 with 1 Axes>"
      ]
     },
     "metadata": {},
     "output_type": "display_data"
    }
   ],
   "source": [
    "qubits = dict(enumerate(coords))\n",
    "reg = Register(qubits)\n",
    "reg.draw(\n",
    "    blockade_radius=Chadoq2.rydberg_blockade_radius(1.0),\n",
    "    draw_graph=False,\n",
    "    draw_half_radius=True,\n",
    ")"
   ]
  },
  {
   "cell_type": "markdown",
   "id": "636e7498",
   "metadata": {
    "papermill": {
     "duration": 0.049718,
     "end_time": "2023-10-31T09:29:11.912229",
     "exception": false,
     "start_time": "2023-10-31T09:29:11.862511",
     "status": "completed"
    },
    "tags": []
   },
   "source": [
    "## 2. Building the quantum algorithm "
   ]
  },
  {
   "cell_type": "markdown",
   "id": "fa087445",
   "metadata": {
    "papermill": {
     "duration": 0.087933,
     "end_time": "2023-10-31T09:29:12.039251",
     "exception": false,
     "start_time": "2023-10-31T09:29:11.951318",
     "status": "completed"
    },
    "tags": []
   },
   "source": [
    "Now that the QUBO $Q$ is encoded in the Register, we can peprare the following Ising Hamiltonian $H_Q$:\n",
    "\n",
    "$$ H_Q= \\sum_{i=1}^N \\frac{\\hbar\\Omega}{2} \\sigma_i^x - \\sum_{i=1}^N \\frac{\\hbar \\delta}{2} \\sigma_i^z+\\sum_{j \\lt i}\\frac{C_6}{|\\textbf{r}_i-\\textbf{r}_j|^{6}} n_i n_j. $$\n",
    "\n",
    "In the case where our mapping of the atoms is perfect, the last sum replicates exactly the off-diagonal terms of $Q$. In that case, the next step is to prepare the ground-state of $H_Q$ to output the optimal bitstrings.\n",
    "\n",
    "To do so we present two different approaches, namely the Quantum Approximation Optimization Algorithm (QAOA) and the Quantum Adiabatic Algorithm (QAA) that have been introduced to prepare ground-states of Hamiltonians."
   ]
  },
  {
   "cell_type": "markdown",
   "id": "b116d06f",
   "metadata": {
    "papermill": {
     "duration": 0.018033,
     "end_time": "2023-10-31T09:29:12.098905",
     "exception": false,
     "start_time": "2023-10-31T09:29:12.080872",
     "status": "completed"
    },
    "tags": []
   },
   "source": [
    "### QAOA"
   ]
  },
  {
   "cell_type": "markdown",
   "id": "52e81d89",
   "metadata": {
    "papermill": {
     "duration": 0.021345,
     "end_time": "2023-10-31T09:29:12.139585",
     "exception": false,
     "start_time": "2023-10-31T09:29:12.118240",
     "status": "completed"
    },
    "tags": []
   },
   "source": [
    "This algorithm (see [Farhi, et al., 2014](https://arxiv.org/pdf/1411.4028.pdf)) has gained a lot of traction lately as a gate-based quantum algorithm. It has shown promising results in a number of applications and yields decent results for low-depth circuits.\n",
    "\n",
    "All atoms are initially in the groundstate $|00\\dots0\\rangle$ of the `ground-rydberg` basis.  We then apply $p$ layers of alternating non-commutative Hamiltonians. The first one, called the mixing Hamiltonian $H_M$, is realized by taking $\\Omega = 1$ rad/µs, and $\\delta = 0$ rad/µs in the Hamiltonian equation. The second Hamiltonian $H_Q$ is realized with $\\Omega =0$ rad/µs and $\\delta = 1.$ rad/µs. $H_M$ and $H_Q$ are applied turn in turn with parameters $\\tau$ and $t$ respectively. A classical optimizer is then used to estimate the optimal parameters. \n",
    "\n",
    "Instead of creating a new `Sequence` everytime the quantum loop is called, we are going to create a parametrized `Sequence` and give that to the quantum loop."
   ]
  },
  {
   "cell_type": "code",
   "execution_count": 9,
   "id": "0c8c0c36",
   "metadata": {
    "execution": {
     "iopub.execute_input": "2023-10-31T09:29:12.179142Z",
     "iopub.status.busy": "2023-10-31T09:29:12.178731Z",
     "iopub.status.idle": "2023-10-31T09:29:12.188386Z",
     "shell.execute_reply": "2023-10-31T09:29:12.187399Z"
    },
    "papermill": {
     "duration": 0.031187,
     "end_time": "2023-10-31T09:29:12.190835",
     "exception": false,
     "start_time": "2023-10-31T09:29:12.159648",
     "status": "completed"
    },
    "tags": []
   },
   "outputs": [],
   "source": [
    "LAYERS = 2\n",
    "\n",
    "# Parametrized sequence\n",
    "seq = Sequence(reg, Chadoq2)\n",
    "seq.declare_channel(\"ch0\", \"rydberg_global\")\n",
    "\n",
    "t_list = seq.declare_variable(\"t_list\", size=LAYERS)\n",
    "s_list = seq.declare_variable(\"s_list\", size=LAYERS)\n",
    "\n",
    "for t, s in zip(t_list, s_list):\n",
    "    pulse_1 = Pulse.ConstantPulse(1000 * t, 1.0, 0.0, 0)\n",
    "    pulse_2 = Pulse.ConstantPulse(1000 * s, 0.0, 1.0, 0)\n",
    "\n",
    "    seq.add(pulse_1, \"ch0\")\n",
    "    seq.add(pulse_2, \"ch0\")\n",
    "\n",
    "seq.measure(\"ground-rydberg\")"
   ]
  },
  {
   "cell_type": "markdown",
   "id": "8bdd45a6",
   "metadata": {
    "papermill": {
     "duration": 0.018921,
     "end_time": "2023-10-31T09:29:12.229421",
     "exception": false,
     "start_time": "2023-10-31T09:29:12.210500",
     "status": "completed"
    },
    "tags": []
   },
   "source": [
    "Once we have the parameters that we want to apply, we use the `.build()` method to assign these values into a `assigned_seq` sequence. It is this sequence which is simulated every time the quantum loop is called."
   ]
  },
  {
   "cell_type": "markdown",
   "id": "19cbeb67",
   "metadata": {
    "papermill": {
     "duration": 0.018629,
     "end_time": "2023-10-31T09:29:12.292443",
     "exception": false,
     "start_time": "2023-10-31T09:29:12.273814",
     "status": "completed"
    },
    "tags": []
   },
   "source": [
    "Experimentally, we don't have access to the state vector $|\\psi\\rangle$. We therefore make it more realistic by taking samples from the state vector that results from running the simulation with `simul.run()`. This is done with the built-in method `results.sample_final_state()`, in which we add the measurement basis which was declared at the end of the sequence, and the number of samples desired. Currently, the repetition rate of the machine is $5$ Hz."
   ]
  },
  {
   "cell_type": "code",
   "execution_count": 10,
   "id": "5a8a96d0",
   "metadata": {
    "execution": {
     "iopub.execute_input": "2023-10-31T09:29:12.337766Z",
     "iopub.status.busy": "2023-10-31T09:29:12.337385Z",
     "iopub.status.idle": "2023-10-31T09:29:12.344564Z",
     "shell.execute_reply": "2023-10-31T09:29:12.343500Z"
    },
    "papermill": {
     "duration": 0.030376,
     "end_time": "2023-10-31T09:29:12.348467",
     "exception": false,
     "start_time": "2023-10-31T09:29:12.318091",
     "status": "completed"
    },
    "tags": []
   },
   "outputs": [],
   "source": [
    "def quantum_loop(parameters):\n",
    "    params = np.array(parameters)\n",
    "    t_params, s_params = np.reshape(params.astype(int), (2, LAYERS))\n",
    "    assigned_seq = seq.build(t_list=t_params, s_list=s_params)\n",
    "    simul = QutipEmulator.from_sequence(assigned_seq, sampling_rate=0.01)\n",
    "    results = simul.run()\n",
    "    count_dict = results.sample_final_state()  # sample from the state vector\n",
    "    return count_dict"
   ]
  },
  {
   "cell_type": "code",
   "execution_count": 11,
   "id": "1790c75c",
   "metadata": {
    "execution": {
     "iopub.execute_input": "2023-10-31T09:29:12.391665Z",
     "iopub.status.busy": "2023-10-31T09:29:12.391265Z",
     "iopub.status.idle": "2023-10-31T09:29:12.399531Z",
     "shell.execute_reply": "2023-10-31T09:29:12.397854Z"
    },
    "papermill": {
     "duration": 0.043172,
     "end_time": "2023-10-31T09:29:12.410126",
     "exception": false,
     "start_time": "2023-10-31T09:29:12.366954",
     "status": "completed"
    },
    "tags": []
   },
   "outputs": [],
   "source": [
    "np.random.seed(123)  # ensures reproducibility of the tutorial\n",
    "guess = {\n",
    "    \"t\": np.random.uniform(8, 10, LAYERS),\n",
    "    \"s\": np.random.uniform(1, 3, LAYERS),\n",
    "}"
   ]
  },
  {
   "cell_type": "code",
   "execution_count": 12,
   "id": "7538db0a",
   "metadata": {
    "execution": {
     "iopub.execute_input": "2023-10-31T09:29:12.554209Z",
     "iopub.status.busy": "2023-10-31T09:29:12.553636Z",
     "iopub.status.idle": "2023-10-31T09:29:12.807206Z",
     "shell.execute_reply": "2023-10-31T09:29:12.801660Z"
    },
    "papermill": {
     "duration": 0.346945,
     "end_time": "2023-10-31T09:29:12.811091",
     "exception": false,
     "start_time": "2023-10-31T09:29:12.464146",
     "status": "completed"
    },
    "tags": []
   },
   "outputs": [],
   "source": [
    "example_dict = quantum_loop(np.r_[guess[\"t\"], guess[\"s\"]])"
   ]
  },
  {
   "cell_type": "markdown",
   "id": "9aade674",
   "metadata": {
    "papermill": {
     "duration": 0.030162,
     "end_time": "2023-10-31T09:29:12.866920",
     "exception": false,
     "start_time": "2023-10-31T09:29:12.836758",
     "status": "completed"
    },
    "tags": []
   },
   "source": [
    "We can then plot the distribution of the samples, to see the most frequent bitstrings sampled."
   ]
  },
  {
   "cell_type": "code",
   "execution_count": 13,
   "id": "0f1b880e",
   "metadata": {
    "execution": {
     "iopub.execute_input": "2023-10-31T09:29:12.926956Z",
     "iopub.status.busy": "2023-10-31T09:29:12.926546Z",
     "iopub.status.idle": "2023-10-31T09:29:12.938950Z",
     "shell.execute_reply": "2023-10-31T09:29:12.934468Z"
    },
    "papermill": {
     "duration": 0.046698,
     "end_time": "2023-10-31T09:29:12.944991",
     "exception": false,
     "start_time": "2023-10-31T09:29:12.898293",
     "status": "completed"
    },
    "tags": []
   },
   "outputs": [],
   "source": [
    "def plot_distribution(C):\n",
    "    C = dict(sorted(C.items(), key=lambda item: item[1], reverse=True))\n",
    "    indexes = [\"01011\", \"00111\"]  # QUBO solutions\n",
    "    color_dict = {key: \"r\" if key in indexes else \"g\" for key in C}\n",
    "    plt.figure(figsize=(12, 6))\n",
    "    plt.xlabel(\"bitstrings\")\n",
    "    plt.ylabel(\"counts\")\n",
    "    plt.bar(C.keys(), C.values(), width=0.5, color=color_dict.values())\n",
    "    plt.xticks(rotation=\"vertical\")\n",
    "    plt.show()"
   ]
  },
  {
   "cell_type": "code",
   "execution_count": 14,
   "id": "7850697b",
   "metadata": {
    "execution": {
     "iopub.execute_input": "2023-10-31T09:29:13.016757Z",
     "iopub.status.busy": "2023-10-31T09:29:13.016333Z",
     "iopub.status.idle": "2023-10-31T09:29:13.463745Z",
     "shell.execute_reply": "2023-10-31T09:29:13.462731Z"
    },
    "papermill": {
     "duration": 0.484522,
     "end_time": "2023-10-31T09:29:13.466310",
     "exception": false,
     "start_time": "2023-10-31T09:29:12.981788",
     "status": "completed"
    },
    "tags": []
   },
   "outputs": [
    {
     "data": {
      "image/png": "[encoded data removed]",
      "text/plain": [
       "<Figure size 1200x600 with 1 Axes>"
      ]
     },
     "metadata": {},
     "output_type": "display_data"
    }
   ],
   "source": [
    "plot_distribution(example_dict)"
   ]
  },
  {
   "cell_type": "markdown",
   "id": "11903aca",
   "metadata": {
    "papermill": {
     "duration": 0.076928,
     "end_time": "2023-10-31T09:29:13.590421",
     "exception": false,
     "start_time": "2023-10-31T09:29:13.513493",
     "status": "completed"
    },
    "tags": []
   },
   "source": [
    "The bitstrings `01011` and `00111` (in red) correspond to the two optimal solutions (calculated at the beginning of the notebook). The goal of QAOA is to choregraph interferences between the basis states, in order to maximize the frequency of the optimal solution states. "
   ]
  },
  {
   "cell_type": "markdown",
   "id": "9e3e00af",
   "metadata": {
    "papermill": {
     "duration": 0.078642,
     "end_time": "2023-10-31T09:29:13.737632",
     "exception": false,
     "start_time": "2023-10-31T09:29:13.658990",
     "status": "completed"
    },
    "tags": []
   },
   "source": [
    "## 3. Optimization "
   ]
  },
  {
   "cell_type": "markdown",
   "id": "b86964f1",
   "metadata": {
    "papermill": {
     "duration": 0.055913,
     "end_time": "2023-10-31T09:29:13.857412",
     "exception": false,
     "start_time": "2023-10-31T09:29:13.801499",
     "status": "completed"
    },
    "tags": []
   },
   "source": [
    "We estimate the cost of a sampled state vector by making an average over the samples. This is done by taking the corresponding bitstring ${\\bf z}=(z_1, \\ldots, z_N)$ and calculating\n",
    "\n",
    "$$\n",
    "C({\\bf z}) = {\\bf z}^\\top \\cdot Q \\cdot {\\bf z}\n",
    "$$\n",
    "\n",
    "Determining the cost of a given bitstring takes polynomial time. The average estimate is then used in the classical loop to optimize the variational parameters $\\tau$ and $t$."
   ]
  },
  {
   "cell_type": "code",
   "execution_count": 15,
   "id": "507c9ad2",
   "metadata": {
    "execution": {
     "iopub.execute_input": "2023-10-31T09:29:13.914592Z",
     "iopub.status.busy": "2023-10-31T09:29:13.914194Z",
     "iopub.status.idle": "2023-10-31T09:29:13.922836Z",
     "shell.execute_reply": "2023-10-31T09:29:13.921536Z"
    },
    "papermill": {
     "duration": 0.037623,
     "end_time": "2023-10-31T09:29:13.925504",
     "exception": false,
     "start_time": "2023-10-31T09:29:13.887881",
     "status": "completed"
    },
    "tags": []
   },
   "outputs": [],
   "source": [
    "def get_cost_colouring(bitstring, Q):\n",
    "    z = np.array(list(bitstring), dtype=int)\n",
    "    cost = z.T @ Q @ z\n",
    "    return cost\n",
    "\n",
    "\n",
    "def get_cost(counter, Q):\n",
    "    cost = sum(counter[key] * get_cost_colouring(key, Q) for key in counter)\n",
    "    return cost / sum(counter.values())  # Divide by total samples"
   ]
  },
  {
   "cell_type": "markdown",
   "id": "922f7148",
   "metadata": {
    "papermill": {
     "duration": 0.021651,
     "end_time": "2023-10-31T09:29:13.967691",
     "exception": false,
     "start_time": "2023-10-31T09:29:13.946040",
     "status": "completed"
    },
    "tags": []
   },
   "source": [
    "To perform a minimization loop, we define the following function that will be called at each step by SciPy. `*args` enables to pass the QUBO value, and `params` contains the trial value to score, which changes at each step."
   ]
  },
  {
   "cell_type": "code",
   "execution_count": 16,
   "id": "3ba3780d",
   "metadata": {
    "execution": {
     "iopub.execute_input": "2023-10-31T09:29:14.011061Z",
     "iopub.status.busy": "2023-10-31T09:29:14.010652Z",
     "iopub.status.idle": "2023-10-31T09:29:14.016513Z",
     "shell.execute_reply": "2023-10-31T09:29:14.015491Z"
    },
    "papermill": {
     "duration": 0.038317,
     "end_time": "2023-10-31T09:29:14.028107",
     "exception": false,
     "start_time": "2023-10-31T09:29:13.989790",
     "status": "completed"
    },
    "tags": []
   },
   "outputs": [],
   "source": [
    "def func(param, *args):\n",
    "    Q = args[0]\n",
    "    C = quantum_loop(param)\n",
    "    cost = get_cost(C, Q)\n",
    "    return cost"
   ]
  },
  {
   "cell_type": "markdown",
   "id": "d0ea3997",
   "metadata": {
    "papermill": {
     "duration": 0.044954,
     "end_time": "2023-10-31T09:29:14.116466",
     "exception": false,
     "start_time": "2023-10-31T09:29:14.071512",
     "status": "completed"
    },
    "tags": []
   },
   "source": [
    "### QAOA for depth $p = 2$"
   ]
  },
  {
   "cell_type": "markdown",
   "id": "a67822dc",
   "metadata": {
    "papermill": {
     "duration": 0.022688,
     "end_time": "2023-10-31T09:29:14.169771",
     "exception": false,
     "start_time": "2023-10-31T09:29:14.147083",
     "status": "completed"
    },
    "tags": []
   },
   "source": [
    "We now use a classical optimizer `minimize` in order to find the best variational parameters. This function takes as arguments `func`, the QUBO $Q$ and an initial point `x0` for the simplex in Nelder-Mead minimization. As the optimizer might get trapped in local minima, we repeat the optimization 20 times and select the parameters that yield the best approximation ratio."
   ]
  },
  {
   "cell_type": "code",
   "execution_count": 17,
   "id": "63031157",
   "metadata": {
    "execution": {
     "iopub.execute_input": "2023-10-31T09:29:14.297478Z",
     "iopub.status.busy": "2023-10-31T09:29:14.296647Z",
     "iopub.status.idle": "2023-10-31T09:31:01.934373Z",
     "shell.execute_reply": "2023-10-31T09:31:01.933543Z"
    },
    "papermill": {
     "duration": 107.689841,
     "end_time": "2023-10-31T09:31:01.937228",
     "exception": false,
     "start_time": "2023-10-31T09:29:14.247387",
     "status": "completed"
    },
    "tags": []
   },
   "outputs": [],
   "source": [
    "scores = []\n",
    "params = []\n",
    "for repetition in range(20):\n",
    "    guess = {\n",
    "        \"t\": np.random.uniform(1, 10, LAYERS),\n",
    "        \"s\": np.random.uniform(1, 10, LAYERS),\n",
    "    }\n",
    "\n",
    "    try:\n",
    "        res = minimize(\n",
    "            func,\n",
    "            args=Q,\n",
    "            x0=np.r_[guess[\"t\"], guess[\"s\"]],\n",
    "            method=\"Nelder-Mead\",\n",
    "            tol=1e-5,\n",
    "            options={\"maxiter\": 10},\n",
    "        )\n",
    "        scores.append(res.fun)\n",
    "        params.append(res.x)\n",
    "    except Exception as e:\n",
    "        pass"
   ]
  },
  {
   "cell_type": "markdown",
   "id": "873e2fce",
   "metadata": {
    "papermill": {
     "duration": 0.020489,
     "end_time": "2023-10-31T09:31:01.978313",
     "exception": false,
     "start_time": "2023-10-31T09:31:01.957824",
     "status": "completed"
    },
    "tags": []
   },
   "source": [
    "We can now plot the sample that we woud obtain using the optimal variational parameters."
   ]
  },
  {
   "cell_type": "code",
   "execution_count": 18,
   "id": "9751ae64",
   "metadata": {
    "execution": {
     "iopub.execute_input": "2023-10-31T09:31:02.021738Z",
     "iopub.status.busy": "2023-10-31T09:31:02.021114Z",
     "iopub.status.idle": "2023-10-31T09:31:02.508050Z",
     "shell.execute_reply": "2023-10-31T09:31:02.507082Z"
    },
    "papermill": {
     "duration": 0.511748,
     "end_time": "2023-10-31T09:31:02.510663",
     "exception": false,
     "start_time": "2023-10-31T09:31:01.998915",
     "status": "completed"
    },
    "tags": []
   },
   "outputs": [
    {
     "data": {
      "image/png": "[encoded data removed]",
      "text/plain": [
       "<Figure size 1200x600 with 1 Axes>"
      ]
     },
     "metadata": {},
     "output_type": "display_data"
    }
   ],
   "source": [
    "optimal_count_dict = quantum_loop(params[np.argmin(scores)])\n",
    "plot_distribution(optimal_count_dict)"
   ]
  },
  {
   "cell_type": "markdown",
   "id": "3870df2a",
   "metadata": {
    "papermill": {
     "duration": 0.021335,
     "end_time": "2023-10-31T09:31:02.554069",
     "exception": false,
     "start_time": "2023-10-31T09:31:02.532734",
     "status": "completed"
    },
    "tags": []
   },
   "source": [
    "QAOA is capable of finding good variational parameters $\\tau$ and $t$. Now, sampling from this final state $|\\psi(t_{f})\\rangle$ will return both optimal strings with high probability."
   ]
  },
  {
   "cell_type": "markdown",
   "id": "e2bba801",
   "metadata": {
    "papermill": {
     "duration": 0.021747,
     "end_time": "2023-10-31T09:31:02.597640",
     "exception": false,
     "start_time": "2023-10-31T09:31:02.575893",
     "status": "completed"
    },
    "tags": []
   },
   "source": [
    "However, using QAOA to solve the problem is not the best idea; it's difficult to yield a >90% quality solution without going to high depths of the QAOA, implying that the growing closed-loop optimization can rapidly become expensive, with no guarantee of convergence. We therefore propose another approach called the Quantum Adiabatic Algorithm (QAA). This fast, reliant and exclusively analog method shows optimal convergence to the solution."
   ]
  },
  {
   "cell_type": "markdown",
   "id": "8c4564ad",
   "metadata": {
    "papermill": {
     "duration": 0.020838,
     "end_time": "2023-10-31T09:31:02.639728",
     "exception": false,
     "start_time": "2023-10-31T09:31:02.618890",
     "status": "completed"
    },
    "tags": []
   },
   "source": [
    "## Quantum Adiabatic Algorithm"
   ]
  },
  {
   "cell_type": "markdown",
   "id": "147ee616",
   "metadata": {
    "papermill": {
     "duration": 0.021266,
     "end_time": "2023-10-31T09:31:02.682337",
     "exception": false,
     "start_time": "2023-10-31T09:31:02.661071",
     "status": "completed"
    },
    "tags": []
   },
   "source": [
    "The idea behind the adiabatic algorithm (see [Albash, Lidar, 2018](https://arxiv.org/pdf/1611.04471.pdf)) is to slowly evolve the system from an easy-to-prepare groundstate to the groundstate of $H_Q$. If done slowly enough, the system of atoms stays in the instantaneous ground-state.\n",
    "\n",
    "In our case, we continuously vary the parameters $\\Omega(t), \\delta(t)$ in time, starting with $\\Omega(0)=0, \\delta(0)<0$ and ending with $\\Omega(0)=0, \\delta>0$. The ground-state of $H(0)$ corresponds to the initial state $|00000\\rangle$ and the ground-state of $H(t_f)$ corresponds to the ground-state of $H_Q$."
   ]
  },
  {
   "cell_type": "markdown",
   "id": "cdab98ea",
   "metadata": {
    "papermill": {
     "duration": 0.020993,
     "end_time": "2023-10-31T09:31:02.724777",
     "exception": false,
     "start_time": "2023-10-31T09:31:02.703784",
     "status": "completed"
    },
    "tags": []
   },
   "source": [
    "The Rydberg blockade radius is directly linked to the Rabi frequency $\\Omega$ and is obtained using `Chadoq2.rydberg_blockade_radius()`. In this notebook, $\\Omega$ is initially fixed to a frequency of 1 rad/µs. We can therefore build the adjacency matrix $A$ of $G$ in the following way:"
   ]
  },
  {
   "cell_type": "markdown",
   "id": "f8fb8d88",
   "metadata": {
    "papermill": {
     "duration": 0.020804,
     "end_time": "2023-10-31T09:31:02.766562",
     "exception": false,
     "start_time": "2023-10-31T09:31:02.745758",
     "status": "completed"
    },
    "tags": []
   },
   "source": [
    "To ensure that we are not exciting the system to states that are too excited, we keep $\\Omega \\in [0, \\Omega_{\\text{max}}]$, and choose $\\Omega_{\\text{max}}$ as the median of the values of Q to ensures that the adiabatic path is efficient."
   ]
  },
  {
   "cell_type": "code",
   "execution_count": 19,
   "id": "9ebcf2d5",
   "metadata": {
    "execution": {
     "iopub.execute_input": "2023-10-31T09:31:02.810417Z",
     "iopub.status.busy": "2023-10-31T09:31:02.809848Z",
     "iopub.status.idle": "2023-10-31T09:31:02.816924Z",
     "shell.execute_reply": "2023-10-31T09:31:02.816090Z"
    },
    "papermill": {
     "duration": 0.031461,
     "end_time": "2023-10-31T09:31:02.819340",
     "exception": false,
     "start_time": "2023-10-31T09:31:02.787879",
     "status": "completed"
    },
    "tags": []
   },
   "outputs": [],
   "source": [
    "# We choose a median value between the min and the max\n",
    "Omega = np.median(Q[Q > 0].flatten())\n",
    "delta_0 = -5  # just has to be negative\n",
    "delta_f = -delta_0  # just has to be positive\n",
    "T = 4000  # time in ns, we choose a time long enough to ensure the propagation of information in the system"
   ]
  },
  {
   "cell_type": "code",
   "execution_count": 20,
   "id": "3de44b8f",
   "metadata": {
    "execution": {
     "iopub.execute_input": "2023-10-31T09:31:02.848302Z",
     "iopub.status.busy": "2023-10-31T09:31:02.847889Z",
     "iopub.status.idle": "2023-10-31T09:31:03.849014Z",
     "shell.execute_reply": "2023-10-31T09:31:03.848077Z"
    },
    "papermill": {
     "duration": 1.0188,
     "end_time": "2023-10-31T09:31:03.852536",
     "exception": false,
     "start_time": "2023-10-31T09:31:02.833736",
     "status": "completed"
    },
    "tags": []
   },
   "outputs": [
    {
     "data": {
      "image/png": "[encoded data removed]",
      "text/plain": [
       "<Figure size 2000x400 with 3 Axes>"
      ]
     },
     "metadata": {},
     "output_type": "display_data"
    }
   ],
   "source": [
    "adiabatic_pulse = Pulse(\n",
    "    InterpolatedWaveform(T, [1e-9, Omega, 1e-9]),\n",
    "    InterpolatedWaveform(T, [delta_0, 0, delta_f]),\n",
    "    0,\n",
    ")\n",
    "seq = Sequence(reg, Chadoq2)\n",
    "seq.declare_channel(\"ising\", \"rydberg_global\")\n",
    "seq.add(adiabatic_pulse, \"ising\")\n",
    "seq.draw()"
   ]
  },
  {
   "cell_type": "code",
   "execution_count": 21,
   "id": "f66756ea",
   "metadata": {
    "execution": {
     "iopub.execute_input": "2023-10-31T09:31:03.898704Z",
     "iopub.status.busy": "2023-10-31T09:31:03.898320Z",
     "iopub.status.idle": "2023-10-31T09:31:04.625952Z",
     "shell.execute_reply": "2023-10-31T09:31:04.625226Z"
    },
    "papermill": {
     "duration": 0.75368,
     "end_time": "2023-10-31T09:31:04.628353",
     "exception": false,
     "start_time": "2023-10-31T09:31:03.874673",
     "status": "completed"
    },
    "tags": []
   },
   "outputs": [],
   "source": [
    "simul = QutipEmulator.from_sequence(seq)\n",
    "results = simul.run()\n",
    "final = results.get_final_state()\n",
    "count_dict = results.sample_final_state()"
   ]
  },
  {
   "cell_type": "code",
   "execution_count": 22,
   "id": "f4ad6e9c",
   "metadata": {
    "execution": {
     "iopub.execute_input": "2023-10-31T09:31:04.674478Z",
     "iopub.status.busy": "2023-10-31T09:31:04.673687Z",
     "iopub.status.idle": "2023-10-31T09:31:04.938446Z",
     "shell.execute_reply": "2023-10-31T09:31:04.937616Z"
    },
    "papermill": {
     "duration": 0.290549,
     "end_time": "2023-10-31T09:31:04.940885",
     "exception": false,
     "start_time": "2023-10-31T09:31:04.650336",
     "status": "completed"
    },
    "tags": []
   },
   "outputs": [
    {
     "data": {
      "image/png": "[encoded data removed]",
      "text/plain": [
       "<Figure size 1200x600 with 1 Axes>"
      ]
     },
     "metadata": {},
     "output_type": "display_data"
    }
   ],
   "source": [
    "plot_distribution(count_dict)"
   ]
  },
  {
   "cell_type": "markdown",
   "id": "fd0cc86b",
   "metadata": {
    "papermill": {
     "duration": 0.023353,
     "end_time": "2023-10-31T09:31:04.987468",
     "exception": false,
     "start_time": "2023-10-31T09:31:04.964115",
     "status": "completed"
    },
    "tags": []
   },
   "source": [
    "See how fast and performant this method is! In only a few micro-seconds, we find an excellent solution."
   ]
  },
  {
   "cell_type": "markdown",
   "id": "134d1804",
   "metadata": {
    "papermill": {
     "duration": 0.022751,
     "end_time": "2023-10-31T09:31:05.033747",
     "exception": false,
     "start_time": "2023-10-31T09:31:05.010996",
     "status": "completed"
    },
    "tags": []
   },
   "source": [
    "### How does the time evolution affect the quality of the results?"
   ]
  },
  {
   "cell_type": "code",
   "execution_count": 23,
   "id": "c317390e",
   "metadata": {
    "execution": {
     "iopub.execute_input": "2023-10-31T09:31:05.081755Z",
     "iopub.status.busy": "2023-10-31T09:31:05.080788Z",
     "iopub.status.idle": "2023-10-31T09:31:13.359310Z",
     "shell.execute_reply": "2023-10-31T09:31:13.358563Z"
    },
    "papermill": {
     "duration": 8.305072,
     "end_time": "2023-10-31T09:31:13.361639",
     "exception": false,
     "start_time": "2023-10-31T09:31:05.056567",
     "status": "completed"
    },
    "tags": []
   },
   "outputs": [],
   "source": [
    "cost = []\n",
    "for T in 1000 * np.linspace(1, 10, 10):\n",
    "    seq = Sequence(reg, Chadoq2)\n",
    "    seq.declare_channel(\"ising\", \"rydberg_global\")\n",
    "    adiabatic_pulse = Pulse(\n",
    "        InterpolatedWaveform(T, [1e-9, Omega, 1e-9]),\n",
    "        InterpolatedWaveform(T, [delta_0, 0, delta_f]),\n",
    "        0,\n",
    "    )\n",
    "    seq.add(adiabatic_pulse, \"ising\")\n",
    "    simul = QutipEmulator.from_sequence(seq)\n",
    "    results = simul.run()\n",
    "    final = results.get_final_state()\n",
    "    count_dict = results.sample_final_state()\n",
    "    cost.append(get_cost(count_dict, Q) / 3)"
   ]
  },
  {
   "cell_type": "code",
   "execution_count": 24,
   "id": "a09114fb",
   "metadata": {
    "execution": {
     "iopub.execute_input": "2023-10-31T09:31:13.394240Z",
     "iopub.status.busy": "2023-10-31T09:31:13.393698Z",
     "iopub.status.idle": "2023-10-31T09:31:13.679003Z",
     "shell.execute_reply": "2023-10-31T09:31:13.678225Z"
    },
    "papermill": {
     "duration": 0.304794,
     "end_time": "2023-10-31T09:31:13.682110",
     "exception": false,
     "start_time": "2023-10-31T09:31:13.377316",
     "status": "completed"
    },
    "tags": []
   },
   "outputs": [
    {
     "data": {
      "image/png": "[encoded data removed]",
      "text/plain": [
       "<Figure size 1200x600 with 1 Axes>"
      ]
     },
     "metadata": {},
     "output_type": "display_data"
    }
   ],
   "source": [
    "plt.figure(figsize=(12, 6))\n",
    "plt.plot(range(1, 11), np.array(cost), \"--o\")\n",
    "plt.xlabel(\"total time evolution (µs)\", fontsize=14)\n",
    "plt.ylabel(\"cost\", fontsize=14)\n",
    "plt.show()"
   ]
  }
 ],
 "metadata": {
  "celltoolbar": "Tags",
  "interpreter": {
   "hash": "949777d72b0d2535278d3dc13498b2535136f6dfe0678499012e853ee9abcab1"
  },
  "kernelspec": {
   "display_name": "pulser-ovh",
   "language": "python",
   "name": "pulser-ovh"
  },
  "language_info": {
   "codemirror_mode": {
    "name": "ipython",
    "version": 3
   },
   "file_extension": ".py",
   "mimetype": "text/x-python",
   "name": "python",
   "nbconvert_exporter": "python",
   "pygments_lexer": "ipython3",
   "version": "3.11.5"
  },
  "papermill": {
   "duration": 130.410838,
   "end_time": "2023-10-31T09:31:14.231771",
   "exception": null,
   "input_path": "/tmp/tmpmogxqvmp.ipynb",
   "output_path": "6. Other applications/6.1. QAOA and QAA to solve a QUBO problem.ipynb",
   "parameters": {
    "product": "./6. Other applications/6.1. QAOA and QAA to solve a QUBO problem.ipynb"
   },
   "start_time": "2023-10-31T09:29:03.820933"
  },
  "vscode": {
   "interpreter": {
    "hash": "e088768f7ff7b4294439f8ed10f7eed9e3b885124bc20d9d06cc2a37b1883330"
   }
  }
 },
 "nbformat": 4,
 "nbformat_minor": 5
}