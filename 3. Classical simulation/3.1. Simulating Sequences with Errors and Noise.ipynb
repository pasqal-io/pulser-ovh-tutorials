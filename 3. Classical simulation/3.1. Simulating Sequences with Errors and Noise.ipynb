{
 "cells": [
  {
   "cell_type": "code",
   "execution_count": 1,
   "id": "9d3cfe13",
   "metadata": {
    "execution": {
     "iopub.execute_input": "2023-10-31T09:29:15.180976Z",
     "iopub.status.busy": "2023-10-31T09:29:15.180583Z",
     "iopub.status.idle": "2023-10-31T09:29:15.188887Z",
     "shell.execute_reply": "2023-10-31T09:29:15.187847Z"
    },
    "papermill": {
     "duration": 0.039772,
     "end_time": "2023-10-31T09:29:15.191658",
     "exception": false,
     "start_time": "2023-10-31T09:29:15.151886",
     "status": "completed"
    },
    "tags": [
     "parameters"
    ]
   },
   "outputs": [],
   "source": [
    "# add default values for parameters here"
   ]
  },
  {
   "cell_type": "code",
   "execution_count": 2,
   "id": "236736d5",
   "metadata": {
    "execution": {
     "iopub.execute_input": "2023-10-31T09:29:15.246001Z",
     "iopub.status.busy": "2023-10-31T09:29:15.245619Z",
     "iopub.status.idle": "2023-10-31T09:29:15.259135Z",
     "shell.execute_reply": "2023-10-31T09:29:15.255009Z"
    },
    "papermill": {
     "duration": 0.050313,
     "end_time": "2023-10-31T09:29:15.262008",
     "exception": false,
     "start_time": "2023-10-31T09:29:15.211695",
     "status": "completed"
    },
    "tags": [
     "injected-parameters"
    ]
   },
   "outputs": [],
   "source": [
    "# Parameters\n",
    "product = \"./3. Classical simulation/3.1. Simulating Sequences with Errors and Noise.ipynb\"\n"
   ]
  },
  {
   "cell_type": "markdown",
   "id": "ae77b105",
   "metadata": {
    "papermill": {
     "duration": 0.026975,
     "end_time": "2023-10-31T09:29:15.314094",
     "exception": false,
     "start_time": "2023-10-31T09:29:15.287119",
     "status": "completed"
    },
    "tags": []
   },
   "source": [
    "# Simulations with Noise and Errors"
   ]
  },
  {
   "cell_type": "markdown",
   "id": "30b97537",
   "metadata": {
    "papermill": {
     "duration": 0.01494,
     "end_time": "2023-10-31T09:29:15.343664",
     "exception": false,
     "start_time": "2023-10-31T09:29:15.328724",
     "status": "completed"
    },
    "tags": []
   },
   "source": [
    "## Introduction\n",
    "This notebook is the first in a series of tutorials on the use of the `pulser-simulation` module to simulate pulse sequences with noise and errors. These are an unavoidable part of a real quantum system, and a good simulation of a pulse sequence should be able to reproduce them accurately. A detailed explanation of these phenomena can be found in the following [reference](https://arxiv.org/abs/1802.10424).\n",
    "\n",
    "Currently, `pulser-simulation` supports _noises_ for the laser pulses and _errors_ for the state preparation and measurement stages:\n",
    "\n",
    "### 1. SPAM (_State Preparation And Measurement_) errors:\n",
    "\n",
    "- **State Preparation errors**: The initial state preparation can fail to trap all the atoms in the ground state $\\ket{g}$. We model this by the probability $\\eta$ of _not_ having a given atom during processing.\n",
    "- **Measurement errors**: In addition, the probabilities $\\epsilon, \\epsilon '$ are linked to detection errors. The first one is the probability of detecting an atom in the ground state $\\ket{g}$ as if it were in the excited state $\\ket{r}$ (\"false positives\"), and the second one is the probability of detecting an atom in the excited state $\\ket{r}$ as if it were in the ground state $\\ket{g}$ (\"false negatives\").\n",
    "\n",
    "### 2. Laser noises:\n",
    "The fluctuations of the properties of the lasers affect their effectiveness in addressing the desired transitions between atomic levels:\n",
    "\n",
    "- **Doppler damping**: The atoms in the register are cooled to a temperature $T \\sim 50\\mu K$, which is low but still non-zero. Therefore, the laser frequency they experience is Doppler-shifted due to thermal motion. This can be seen as a shift in the detuning frequency of the laser.\n",
    "- **Waist of the laser**: For global pulses, the laser amplitude has a Gaussian profile and atoms at the border of the waist feel a slightly lower amplitude than those at the focus.\n",
    "- **Amplitude fluctuations**: Fluctuations in the laser amplitude from pulse to pulse. \n",
    "\n",
    "### 3. Effective noise channels:\n",
    "\n",
    "More generally, we can include effective noise channels in our simulation. These can represent the aggregate of different noise sources, as well as an interaction with an environment. To include these in our simulations, we use the Lindblad master equation, an evolution equation for the _density matrix_ $\\rho$ of the system. Some introductory lecture notes on the topic can be found [here](http://theory.caltech.edu/~preskill/ph219/chap3_15.pdf). `pulser-simulation` includes the following noise channels:\n",
    "\n",
    "- **Dephasing channel**: Implements a decay in the _coherence_ or _interference_ terms (the off-diagonal terms in $\\rho$). It applies random $z$-rotations on each qubit according to a given probability $p$, the dephasing probability.\n",
    "- **Depolarizing channel**: A more general type of noise in which $\\rho$ loses information due to interactions with the environment. This is represented as an evolution towards the completely mixed state $\\rho \\rightarrow \\frac{\\mathbb{I}}{2}$, effectively erasing the coherence in $\\rho$ with a probability $p$.\n",
    "- **Custom effective noise channel**: we can also include custom noise channels by providing the Lindblad operators and their coefficients.\n"
   ]
  },
  {
   "cell_type": "code",
   "execution_count": 3,
   "id": "7c18b917",
   "metadata": {
    "execution": {
     "iopub.execute_input": "2023-10-31T09:29:15.416944Z",
     "iopub.status.busy": "2023-10-31T09:29:15.416563Z",
     "iopub.status.idle": "2023-10-31T09:29:19.166660Z",
     "shell.execute_reply": "2023-10-31T09:29:19.165495Z"
    },
    "papermill": {
     "duration": 3.780927,
     "end_time": "2023-10-31T09:29:19.172679",
     "exception": false,
     "start_time": "2023-10-31T09:29:15.391752",
     "status": "completed"
    },
    "tags": []
   },
   "outputs": [],
   "source": [
    "import numpy as np\n",
    "import matplotlib.pyplot as plt\n",
    "import qutip\n",
    "\n",
    "from pulser import Register, Pulse, Sequence\n",
    "from pulser_simulation import SimConfig, QutipEmulator\n",
    "from pulser.devices import Chadoq2"
   ]
  },
  {
   "cell_type": "markdown",
   "id": "1d85aae8",
   "metadata": {
    "papermill": {
     "duration": 0.047063,
     "end_time": "2023-10-31T09:29:19.262844",
     "exception": false,
     "start_time": "2023-10-31T09:29:19.215781",
     "status": "completed"
    },
    "tags": []
   },
   "source": [
    "## Single atom noisy simulations"
   ]
  },
  {
   "cell_type": "markdown",
   "id": "1b176884",
   "metadata": {
    "papermill": {
     "duration": 0.032675,
     "end_time": "2023-10-31T09:29:19.328953",
     "exception": false,
     "start_time": "2023-10-31T09:29:19.296278",
     "status": "completed"
    },
    "tags": []
   },
   "source": [
    "### Sequence preparation"
   ]
  },
  {
   "cell_type": "markdown",
   "id": "33161547",
   "metadata": {
    "papermill": {
     "duration": 0.02519,
     "end_time": "2023-10-31T09:29:19.388814",
     "exception": false,
     "start_time": "2023-10-31T09:29:19.363624",
     "status": "completed"
    },
    "tags": []
   },
   "source": [
    "We prepare a single atom."
   ]
  },
  {
   "cell_type": "code",
   "execution_count": 4,
   "id": "3d7d7cc9",
   "metadata": {
    "execution": {
     "iopub.execute_input": "2023-10-31T09:29:19.424552Z",
     "iopub.status.busy": "2023-10-31T09:29:19.424042Z",
     "iopub.status.idle": "2023-10-31T09:29:19.430009Z",
     "shell.execute_reply": "2023-10-31T09:29:19.428853Z"
    },
    "papermill": {
     "duration": 0.026457,
     "end_time": "2023-10-31T09:29:19.432515",
     "exception": false,
     "start_time": "2023-10-31T09:29:19.406058",
     "status": "completed"
    },
    "tags": []
   },
   "outputs": [],
   "source": [
    "reg = Register.from_coordinates([(0, 0)], prefix=\"q\")"
   ]
  },
  {
   "cell_type": "markdown",
   "id": "f13e1344",
   "metadata": {
    "papermill": {
     "duration": 0.031667,
     "end_time": "2023-10-31T09:29:19.489751",
     "exception": false,
     "start_time": "2023-10-31T09:29:19.458084",
     "status": "completed"
    },
    "tags": []
   },
   "source": [
    "We act on this atom with a Constant Pulse, such that it oscillates between the ground state and excited Rydberg state (Rabi oscillations):"
   ]
  },
  {
   "cell_type": "code",
   "execution_count": 5,
   "id": "c2009533",
   "metadata": {
    "execution": {
     "iopub.execute_input": "2023-10-31T09:29:19.572872Z",
     "iopub.status.busy": "2023-10-31T09:29:19.572465Z",
     "iopub.status.idle": "2023-10-31T09:29:21.243477Z",
     "shell.execute_reply": "2023-10-31T09:29:21.241370Z"
    },
    "papermill": {
     "duration": 1.709774,
     "end_time": "2023-10-31T09:29:21.246845",
     "exception": false,
     "start_time": "2023-10-31T09:29:19.537071",
     "status": "completed"
    },
    "scrolled": true,
    "tags": []
   },
   "outputs": [
    {
     "data": {
      "image/png": "[encoded data removed]",
      "text/plain": [
       "<Figure size 2000x300 with 2 Axes>"
      ]
     },
     "metadata": {},
     "output_type": "display_data"
    }
   ],
   "source": [
    "seq = Sequence(reg, Chadoq2)\n",
    "seq.declare_channel(\"ch0\", \"rydberg_global\")\n",
    "duration = 2500\n",
    "pulse = Pulse.ConstantPulse(duration, 2 * np.pi, 0.0, 0.0)\n",
    "seq.add(pulse, \"ch0\")\n",
    "seq.draw()"
   ]
  },
  {
   "cell_type": "markdown",
   "id": "760469a9",
   "metadata": {
    "papermill": {
     "duration": 0.025019,
     "end_time": "2023-10-31T09:29:21.289702",
     "exception": false,
     "start_time": "2023-10-31T09:29:21.264683",
     "status": "completed"
    },
    "tags": []
   },
   "source": [
    "In order to characterize simulation results, we designed a dedicated class, the `SimulationResults` class. It has two child classes, the `CoherentResults` for when the final state can be represented as a state vector or density matrix and `NoisyResults` when it can only be provided as a probability distribution of final states.\n",
    "\n",
    "In the following, we run a noiseless simulation to obtain a `CoherentResults` object in `clean_res`. This object allows to get useful information on the simulation parameters, the simulation results and more."
   ]
  },
  {
   "cell_type": "code",
   "execution_count": 6,
   "id": "153622b8",
   "metadata": {
    "execution": {
     "iopub.execute_input": "2023-10-31T09:29:21.328375Z",
     "iopub.status.busy": "2023-10-31T09:29:21.327860Z",
     "iopub.status.idle": "2023-10-31T09:29:21.412876Z",
     "shell.execute_reply": "2023-10-31T09:29:21.411185Z"
    },
    "papermill": {
     "duration": 0.109935,
     "end_time": "2023-10-31T09:29:21.416906",
     "exception": false,
     "start_time": "2023-10-31T09:29:21.306971",
     "status": "completed"
    },
    "tags": []
   },
   "outputs": [],
   "source": [
    "sim = QutipEmulator.from_sequence(seq, sampling_rate=0.05)\n",
    "clean_res = sim.run()"
   ]
  },
  {
   "cell_type": "markdown",
   "id": "8cf60247",
   "metadata": {
    "papermill": {
     "duration": 0.026543,
     "end_time": "2023-10-31T09:29:21.465482",
     "exception": false,
     "start_time": "2023-10-31T09:29:21.438939",
     "status": "completed"
    },
    "tags": []
   },
   "source": [
    "We can for example plot the expectation values of an observable across time"
   ]
  },
  {
   "cell_type": "code",
   "execution_count": 7,
   "id": "bc74a5df",
   "metadata": {
    "execution": {
     "iopub.execute_input": "2023-10-31T09:29:21.500968Z",
     "iopub.status.busy": "2023-10-31T09:29:21.500533Z",
     "iopub.status.idle": "2023-10-31T09:29:21.506490Z",
     "shell.execute_reply": "2023-10-31T09:29:21.505445Z"
    },
    "papermill": {
     "duration": 0.036577,
     "end_time": "2023-10-31T09:29:21.520484",
     "exception": false,
     "start_time": "2023-10-31T09:29:21.483907",
     "status": "completed"
    },
    "tags": []
   },
   "outputs": [],
   "source": [
    "# Define Rydberg state observable\n",
    "obs = qutip.basis(2, 0).proj()"
   ]
  },
  {
   "cell_type": "code",
   "execution_count": 8,
   "id": "e6691fc8",
   "metadata": {
    "execution": {
     "iopub.execute_input": "2023-10-31T09:29:21.564561Z",
     "iopub.status.busy": "2023-10-31T09:29:21.564135Z",
     "iopub.status.idle": "2023-10-31T09:29:21.979170Z",
     "shell.execute_reply": "2023-10-31T09:29:21.978106Z"
    },
    "papermill": {
     "duration": 0.436824,
     "end_time": "2023-10-31T09:29:21.982067",
     "exception": false,
     "start_time": "2023-10-31T09:29:21.545243",
     "status": "completed"
    },
    "tags": []
   },
   "outputs": [
    {
     "data": {
      "image/png": "[encoded data removed]",
      "text/plain": [
       "<Figure size 400x300 with 1 Axes>"
      ]
     },
     "metadata": {},
     "output_type": "display_data"
    }
   ],
   "source": [
    "plt.figure(figsize=(4, 3))\n",
    "plt.plot(clean_res._sim_times, clean_res.expect([obs])[0])\n",
    "plt.xlabel(r\"Time ($\\mu s$)\")\n",
    "plt.ylabel(r\"Population in $|r\\rangle$\")\n",
    "plt.show()"
   ]
  },
  {
   "cell_type": "markdown",
   "id": "1521b6c7",
   "metadata": {
    "papermill": {
     "duration": 0.046339,
     "end_time": "2023-10-31T09:29:22.058258",
     "exception": false,
     "start_time": "2023-10-31T09:29:22.011919",
     "status": "completed"
    },
    "tags": []
   },
   "source": [
    "### The SimConfig object"
   ]
  },
  {
   "cell_type": "markdown",
   "id": "42f31610",
   "metadata": {
    "papermill": {
     "duration": 0.032652,
     "end_time": "2023-10-31T09:29:22.150039",
     "exception": false,
     "start_time": "2023-10-31T09:29:22.117387",
     "status": "completed"
    },
    "tags": []
   },
   "source": [
    "Each simulation has an associated `SimConfig` object, which encapsulates parameters such as noise types, the temperature of the register and so on. You can view it at any time using the `show_config()` method:"
   ]
  },
  {
   "cell_type": "code",
   "execution_count": 9,
   "id": "b3154d19",
   "metadata": {
    "execution": {
     "iopub.execute_input": "2023-10-31T09:29:22.190264Z",
     "iopub.status.busy": "2023-10-31T09:29:22.189705Z",
     "iopub.status.idle": "2023-10-31T09:29:22.197796Z",
     "shell.execute_reply": "2023-10-31T09:29:22.196257Z"
    },
    "papermill": {
     "duration": 0.032118,
     "end_time": "2023-10-31T09:29:22.200337",
     "exception": false,
     "start_time": "2023-10-31T09:29:22.168219",
     "status": "completed"
    },
    "tags": []
   },
   "outputs": [
    {
     "name": "stdout",
     "output_type": "stream",
     "text": [
      "Options:\n",
      "----------\n",
      "Number of runs:        15\n",
      "Samples per run:       5\n"
     ]
    }
   ],
   "source": [
    "sim.show_config()"
   ]
  },
  {
   "cell_type": "markdown",
   "id": "98b70a17",
   "metadata": {
    "papermill": {
     "duration": 0.016916,
     "end_time": "2023-10-31T09:29:22.233505",
     "exception": false,
     "start_time": "2023-10-31T09:29:22.216589",
     "status": "completed"
    },
    "tags": []
   },
   "source": [
    "When creating a new `SimConfig`, you can choose several parameters such as the number of runs and the number of delivered samples per run through the fields `'runs'` and `'samples_per_run'` respectively. The number of samples per run has no physical interpretation, this is used simply to cut down the calculation time by acquiring more shots without resampling the noise parameters."
   ]
  },
  {
   "cell_type": "markdown",
   "id": "3768c085",
   "metadata": {
    "papermill": {
     "duration": 0.018249,
     "end_time": "2023-10-31T09:29:22.268645",
     "exception": false,
     "start_time": "2023-10-31T09:29:22.250396",
     "status": "completed"
    },
    "tags": []
   },
   "source": [
    "### SPAM noise use case\n",
    "\n",
    "We will use as a toy example the `SPAM` noise and add it to our simulation in order to describe the different objects used for noisy simulations."
   ]
  },
  {
   "cell_type": "markdown",
   "id": "d2340eeb",
   "metadata": {
    "papermill": {
     "duration": 0.017046,
     "end_time": "2023-10-31T09:29:22.302697",
     "exception": false,
     "start_time": "2023-10-31T09:29:22.285651",
     "status": "completed"
    },
    "tags": []
   },
   "source": [
    "To do so, we can create a new `SimConfig` object and assign it to the `config` field of `sim` via the `Simulation.set_config` setter. We pass noise types as a tuple of strings to the `SimConfig` object created."
   ]
  },
  {
   "cell_type": "markdown",
   "id": "41b0dbc3",
   "metadata": {
    "papermill": {
     "duration": 0.036372,
     "end_time": "2023-10-31T09:29:22.387986",
     "exception": false,
     "start_time": "2023-10-31T09:29:22.351614",
     "status": "completed"
    },
    "tags": []
   },
   "source": [
    "You can list the different types of noises supported for each basis by calling `Simconfig.supported_noises` as follows:"
   ]
  },
  {
   "cell_type": "code",
   "execution_count": 10,
   "id": "5d5213e9",
   "metadata": {
    "execution": {
     "iopub.execute_input": "2023-10-31T09:29:22.482998Z",
     "iopub.status.busy": "2023-10-31T09:29:22.481889Z",
     "iopub.status.idle": "2023-10-31T09:29:22.489833Z",
     "shell.execute_reply": "2023-10-31T09:29:22.488724Z"
    },
    "papermill": {
     "duration": 0.07515,
     "end_time": "2023-10-31T09:29:22.521131",
     "exception": false,
     "start_time": "2023-10-31T09:29:22.445981",
     "status": "completed"
    },
    "tags": []
   },
   "outputs": [
    {
     "data": {
      "text/plain": [
       "{'ising': {'SPAM',\n",
       "  'amplitude',\n",
       "  'dephasing',\n",
       "  'depolarizing',\n",
       "  'doppler',\n",
       "  'eff_noise'},\n",
       " 'XY': {'SPAM'}}"
      ]
     },
     "execution_count": 10,
     "metadata": {},
     "output_type": "execute_result"
    }
   ],
   "source": [
    "sim.config.supported_noises"
   ]
  },
  {
   "cell_type": "markdown",
   "id": "403ece94",
   "metadata": {
    "papermill": {
     "duration": 0.056128,
     "end_time": "2023-10-31T09:29:22.655303",
     "exception": false,
     "start_time": "2023-10-31T09:29:22.599175",
     "status": "completed"
    },
    "tags": []
   },
   "source": [
    "By default, all config classes are in the `ising` mode, allowing a wide range of noises. However, for some applications, we need to operate in the `XY` mode, where only the SPAM noise is available for the moment."
   ]
  },
  {
   "cell_type": "markdown",
   "id": "a25899cd",
   "metadata": {
    "papermill": {
     "duration": 0.016742,
     "end_time": "2023-10-31T09:29:22.694496",
     "exception": false,
     "start_time": "2023-10-31T09:29:22.677754",
     "status": "completed"
    },
    "tags": []
   },
   "source": [
    "Let's come back to our toy example. We add `\"SPAM\"` noise to our clean simulation, select 30 different realizations of the state taking each time 5 samples per run:"
   ]
  },
  {
   "cell_type": "code",
   "execution_count": 11,
   "id": "3e71d914",
   "metadata": {
    "execution": {
     "iopub.execute_input": "2023-10-31T09:29:22.730203Z",
     "iopub.status.busy": "2023-10-31T09:29:22.729797Z",
     "iopub.status.idle": "2023-10-31T09:29:22.754801Z",
     "shell.execute_reply": "2023-10-31T09:29:22.753509Z"
    },
    "papermill": {
     "duration": 0.046205,
     "end_time": "2023-10-31T09:29:22.757550",
     "exception": false,
     "start_time": "2023-10-31T09:29:22.711345",
     "status": "completed"
    },
    "tags": []
   },
   "outputs": [],
   "source": [
    "config_spam = SimConfig(noise=(\"SPAM\"), runs=30, samples_per_run=5)\n",
    "sim.set_config(config_spam)"
   ]
  },
  {
   "cell_type": "markdown",
   "id": "5e593773",
   "metadata": {
    "papermill": {
     "duration": 0.018598,
     "end_time": "2023-10-31T09:29:22.793228",
     "exception": false,
     "start_time": "2023-10-31T09:29:22.774630",
     "status": "completed"
    },
    "tags": []
   },
   "source": [
    "The configuration is updated, the current parameters of the SPAM errors should be included:"
   ]
  },
  {
   "cell_type": "code",
   "execution_count": 12,
   "id": "32a55641",
   "metadata": {
    "execution": {
     "iopub.execute_input": "2023-10-31T09:29:22.829503Z",
     "iopub.status.busy": "2023-10-31T09:29:22.828617Z",
     "iopub.status.idle": "2023-10-31T09:29:22.835003Z",
     "shell.execute_reply": "2023-10-31T09:29:22.833950Z"
    },
    "papermill": {
     "duration": 0.027689,
     "end_time": "2023-10-31T09:29:22.837869",
     "exception": false,
     "start_time": "2023-10-31T09:29:22.810180",
     "status": "completed"
    },
    "tags": []
   },
   "outputs": [
    {
     "name": "stdout",
     "output_type": "stream",
     "text": [
      "Options:\n",
      "----------\n",
      "Number of runs:        30\n",
      "Samples per run:       5\n",
      "Noise types:           SPAM\n",
      "SPAM dictionary:       {'eta': 0.005, 'epsilon': 0.01, 'epsilon_prime': 0.05}\n"
     ]
    }
   ],
   "source": [
    "sim.show_config()"
   ]
  },
  {
   "cell_type": "markdown",
   "id": "e4012d4f",
   "metadata": {
    "papermill": {
     "duration": 0.016945,
     "end_time": "2023-10-31T09:29:22.871697",
     "exception": false,
     "start_time": "2023-10-31T09:29:22.854752",
     "status": "completed"
    },
    "tags": []
   },
   "source": [
    "The `SimConfig.spam_dict` is the spam parameters dictionary where `eta` is the probability of a badly prepared state, `epsilon` the false positive probability and `epsilon_prime` the false negative one."
   ]
  },
  {
   "cell_type": "markdown",
   "id": "98002d0a",
   "metadata": {
    "papermill": {
     "duration": 0.018193,
     "end_time": "2023-10-31T09:29:22.907972",
     "exception": false,
     "start_time": "2023-10-31T09:29:22.889779",
     "status": "completed"
    },
    "tags": []
   },
   "source": [
    "When dealing with a `SimConfig` object with different noise parameters from the config in `Simulation.config`, you can \"add\" both configurations together, obtaining a single `SimConfig` with all noises from both configurations - on the other hand, the `runs` and `samples_per_run` will always be updated. This adds simulation parameters to noises that weren't available in the former `Simulation.config`. Noises specified in both `SimConfigs` will keep the noise parameters in `Simulation.config`. Try it out with `Simulation.add_config`:"
   ]
  },
  {
   "cell_type": "code",
   "execution_count": 13,
   "id": "a1776d9a",
   "metadata": {
    "execution": {
     "iopub.execute_input": "2023-10-31T09:29:22.964471Z",
     "iopub.status.busy": "2023-10-31T09:29:22.963781Z",
     "iopub.status.idle": "2023-10-31T09:29:22.988827Z",
     "shell.execute_reply": "2023-10-31T09:29:22.987677Z"
    },
    "papermill": {
     "duration": 0.065279,
     "end_time": "2023-10-31T09:29:22.991681",
     "exception": false,
     "start_time": "2023-10-31T09:29:22.926402",
     "status": "completed"
    },
    "tags": []
   },
   "outputs": [
    {
     "name": "stdout",
     "output_type": "stream",
     "text": [
      "Options:\n",
      "----------\n",
      "Number of runs:        50\n",
      "Samples per run:       5\n",
      "Noise types:           dephasing, SPAM, doppler\n",
      "SPAM dictionary:       {'eta': 0.005, 'epsilon': 0.01, 'epsilon_prime': 0.05}\n",
      "Temperature:           1000.0µK\n",
      "Dephasing probability: 0.05\n"
     ]
    }
   ],
   "source": [
    "cfg2 = SimConfig(\n",
    "    noise=(\"SPAM\", \"dephasing\", \"doppler\"),\n",
    "    eta=0.8,\n",
    "    temperature=1000,\n",
    "    runs=50,\n",
    ")\n",
    "sim.add_config(cfg2)\n",
    "sim.show_config()"
   ]
  },
  {
   "cell_type": "markdown",
   "id": "dcfd158b",
   "metadata": {
    "papermill": {
     "duration": 0.049896,
     "end_time": "2023-10-31T09:29:23.068090",
     "exception": false,
     "start_time": "2023-10-31T09:29:23.018194",
     "status": "completed"
    },
    "tags": []
   },
   "source": [
    "We can observe that the `eta` parameter wasn't changed, since both `SimConfig` objects had `'SPAM'` as a noise model already."
   ]
  },
  {
   "cell_type": "markdown",
   "id": "e7b82653",
   "metadata": {
    "papermill": {
     "duration": 0.033191,
     "end_time": "2023-10-31T09:29:23.143376",
     "exception": false,
     "start_time": "2023-10-31T09:29:23.110185",
     "status": "completed"
    },
    "tags": []
   },
   "source": [
    "We created a noisy simulation using `set_config` and `add_config` methods of the the Simulation class. But it's not the only way, you can directly create a noisy simulation when you create your simulation object."
   ]
  },
  {
   "cell_type": "code",
   "execution_count": 14,
   "id": "08ae21c7",
   "metadata": {
    "execution": {
     "iopub.execute_input": "2023-10-31T09:29:23.253954Z",
     "iopub.status.busy": "2023-10-31T09:29:23.253577Z",
     "iopub.status.idle": "2023-10-31T09:29:23.290041Z",
     "shell.execute_reply": "2023-10-31T09:29:23.289022Z"
    },
    "papermill": {
     "duration": 0.108625,
     "end_time": "2023-10-31T09:29:23.292718",
     "exception": false,
     "start_time": "2023-10-31T09:29:23.184093",
     "status": "completed"
    },
    "tags": []
   },
   "outputs": [
    {
     "name": "stdout",
     "output_type": "stream",
     "text": [
      "Options:\n",
      "----------\n",
      "Number of runs:        50\n",
      "Samples per run:       5\n",
      "Noise types:           SPAM, dephasing, doppler\n",
      "SPAM dictionary:       {'eta': 0.005, 'epsilon': 0.01, 'epsilon_prime': 0.05}\n",
      "Temperature:           1000.0µK\n",
      "Dephasing probability: 0.05\n"
     ]
    }
   ],
   "source": [
    "sim = QutipEmulator.from_sequence(\n",
    "    seq,\n",
    "    sampling_rate=0.05,\n",
    "    config=SimConfig(\n",
    "        noise=(\"SPAM\", \"dephasing\", \"doppler\"),\n",
    "        temperature=1000,\n",
    "        runs=50,\n",
    "    ),\n",
    ")\n",
    "sim.show_config()"
   ]
  },
  {
   "cell_type": "markdown",
   "id": "07540280",
   "metadata": {
    "papermill": {
     "duration": 0.042463,
     "end_time": "2023-10-31T09:29:23.369409",
     "exception": false,
     "start_time": "2023-10-31T09:29:23.326946",
     "status": "completed"
    },
    "tags": []
   },
   "source": [
    "### Setting evaluation times"
   ]
  },
  {
   "cell_type": "markdown",
   "id": "0f0ad96c",
   "metadata": {
    "papermill": {
     "duration": 0.03291,
     "end_time": "2023-10-31T09:29:23.435803",
     "exception": false,
     "start_time": "2023-10-31T09:29:23.402893",
     "status": "completed"
    },
    "tags": []
   },
   "source": [
    "As a `Simulation` field, `evaluation_times` refers to the times at which you sample during your simulation. You can assign it different types of values:\n",
    "\n",
    "* A float between 0 and 1: indicating the fraction of the full time array at which you want to sample.\n",
    "* The string `'Full'` to evaluate every ns or `'Minimal'` to evaluate only at the start and the end.\n",
    "* A time list: if there are specific periods of times at which you want to sample. Only, make sure the list you use is a subset of the hamiltonian sample time list."
   ]
  },
  {
   "cell_type": "code",
   "execution_count": 15,
   "id": "ab58a385",
   "metadata": {
    "execution": {
     "iopub.execute_input": "2023-10-31T09:29:23.491858Z",
     "iopub.status.busy": "2023-10-31T09:29:23.491384Z",
     "iopub.status.idle": "2023-10-31T09:29:23.504118Z",
     "shell.execute_reply": "2023-10-31T09:29:23.499697Z"
    },
    "papermill": {
     "duration": 0.051424,
     "end_time": "2023-10-31T09:29:23.508206",
     "exception": false,
     "start_time": "2023-10-31T09:29:23.456782",
     "status": "completed"
    },
    "tags": []
   },
   "outputs": [],
   "source": [
    "sim.set_evaluation_times(0.5)"
   ]
  },
  {
   "cell_type": "code",
   "execution_count": 16,
   "id": "4d6bed2b",
   "metadata": {
    "execution": {
     "iopub.execute_input": "2023-10-31T09:29:23.560726Z",
     "iopub.status.busy": "2023-10-31T09:29:23.560104Z",
     "iopub.status.idle": "2023-10-31T09:29:28.837737Z",
     "shell.execute_reply": "2023-10-31T09:29:28.831709Z"
    },
    "papermill": {
     "duration": 5.304743,
     "end_time": "2023-10-31T09:29:28.841490",
     "exception": false,
     "start_time": "2023-10-31T09:29:23.536747",
     "status": "completed"
    },
    "tags": []
   },
   "outputs": [],
   "source": [
    "noisy_res = sim.run()"
   ]
  },
  {
   "cell_type": "markdown",
   "id": "6952f2de",
   "metadata": {
    "papermill": {
     "duration": 0.065027,
     "end_time": "2023-10-31T09:29:28.934087",
     "exception": false,
     "start_time": "2023-10-31T09:29:28.869060",
     "status": "completed"
    },
    "tags": []
   },
   "source": [
    "We get a `NoisyResults` object from our noisy simulation. This object represents the final result as a probability distribution over the sampled bitstrings, rather than a quantum state `QObj` in the `CleanResults` case."
   ]
  },
  {
   "cell_type": "markdown",
   "id": "0376db90",
   "metadata": {
    "papermill": {
     "duration": 0.046274,
     "end_time": "2023-10-31T09:29:29.047141",
     "exception": false,
     "start_time": "2023-10-31T09:29:29.000867",
     "status": "completed"
    },
    "tags": []
   },
   "source": [
    "### Plotting noisy and clean results"
   ]
  },
  {
   "cell_type": "markdown",
   "id": "eeca3f29",
   "metadata": {
    "papermill": {
     "duration": 0.067543,
     "end_time": "2023-10-31T09:29:29.151357",
     "exception": false,
     "start_time": "2023-10-31T09:29:29.083814",
     "status": "completed"
    },
    "tags": []
   },
   "source": [
    "The new `res` instance has similar methods to the usual `SimResults` object. For example, we can calculate expectation values. "
   ]
  },
  {
   "cell_type": "markdown",
   "id": "6574e41f",
   "metadata": {
    "papermill": {
     "duration": 0.049511,
     "end_time": "2023-10-31T09:29:29.256374",
     "exception": false,
     "start_time": "2023-10-31T09:29:29.206863",
     "status": "completed"
    },
    "tags": []
   },
   "source": [
    "Below, the comparison between the clean and noise simulations."
   ]
  },
  {
   "cell_type": "code",
   "execution_count": 17,
   "id": "0cc488c9",
   "metadata": {
    "execution": {
     "iopub.execute_input": "2023-10-31T09:29:29.346867Z",
     "iopub.status.busy": "2023-10-31T09:29:29.346249Z",
     "iopub.status.idle": "2023-10-31T09:29:30.446054Z",
     "shell.execute_reply": "2023-10-31T09:29:30.444265Z"
    },
    "papermill": {
     "duration": 1.14149,
     "end_time": "2023-10-31T09:29:30.448623",
     "exception": false,
     "start_time": "2023-10-31T09:29:29.307133",
     "status": "completed"
    },
    "tags": []
   },
   "outputs": [
    {
     "data": {
      "image/png": "[encoded data removed]",
      "text/plain": [
       "<Figure size 400x300 with 1 Axes>"
      ]
     },
     "metadata": {},
     "output_type": "display_data"
    }
   ],
   "source": [
    "plt.figure(figsize=(4, 3))\n",
    "plt.plot(noisy_res._sim_times, noisy_res.expect([obs])[0], label=\"noisy\")\n",
    "plt.plot(clean_res._sim_times, clean_res.expect([obs])[0], label=\"clean\")\n",
    "plt.xlabel(r\"Time ($\\mu s$)\")\n",
    "plt.ylabel(r\"Population in $|r\\rangle$\")\n",
    "plt.legend(bbox_to_anchor=(1.05, 1), loc=\"upper left\", borderaxespad=0.0)\n",
    "plt.show()"
   ]
  },
  {
   "cell_type": "markdown",
   "id": "ae062720",
   "metadata": {
    "papermill": {
     "duration": 0.040027,
     "end_time": "2023-10-31T09:29:30.521557",
     "exception": false,
     "start_time": "2023-10-31T09:29:30.481530",
     "status": "completed"
    },
    "tags": []
   },
   "source": [
    "You can also use the `SimResults.plot(obs)` method to plot expectation values of a given observable. Here we compute the `sigma_z` local operator expectation values. Error bars are activated by default for noise simulations but if you don't want them you can set to False the field `error_bars`."
   ]
  },
  {
   "cell_type": "markdown",
   "id": "19e166bb",
   "metadata": {
    "papermill": {
     "duration": 0.12964,
     "end_time": "2023-10-31T09:29:30.713757",
     "exception": false,
     "start_time": "2023-10-31T09:29:30.584117",
     "status": "completed"
    },
    "tags": []
   },
   "source": [
    "Be wary that computing the expectation value of non-diagonal operators will raise an error, as `NoisyResults` bitstrings are already projected on the $Z$ basis."
   ]
  },
  {
   "cell_type": "code",
   "execution_count": 18,
   "id": "c1eefb3c",
   "metadata": {
    "execution": {
     "iopub.execute_input": "2023-10-31T09:29:30.866854Z",
     "iopub.status.busy": "2023-10-31T09:29:30.865946Z",
     "iopub.status.idle": "2023-10-31T09:29:31.753681Z",
     "shell.execute_reply": "2023-10-31T09:29:31.752669Z"
    },
    "papermill": {
     "duration": 0.986141,
     "end_time": "2023-10-31T09:29:31.756528",
     "exception": false,
     "start_time": "2023-10-31T09:29:30.770387",
     "status": "completed"
    },
    "scrolled": true,
    "tags": []
   },
   "outputs": [
    {
     "data": {
      "image/png": "[encoded data removed]",
      "text/plain": [
       "<Figure size 400x300 with 1 Axes>"
      ]
     },
     "metadata": {},
     "output_type": "display_data"
    }
   ],
   "source": [
    "obs = qutip.sigmaz()\n",
    "plt.figure(figsize=(4, 3))\n",
    "noisy_res.plot(obs, fmt=\".\")"
   ]
  },
  {
   "cell_type": "markdown",
   "id": "9d570053",
   "metadata": {
    "papermill": {
     "duration": 0.049318,
     "end_time": "2023-10-31T09:29:31.837003",
     "exception": false,
     "start_time": "2023-10-31T09:29:31.787685",
     "status": "completed"
    },
    "tags": []
   },
   "source": [
    "Now you have the basic knowledge to tackle noise simulations. In the following tutorials, we will see in more detail simulations with [SPAM errors](spam.nblink), [laser noise](laser_noise.nblink) and [effective noise channels](kraus_ops.nblink). Enjoy!"
   ]
  }
 ],
 "metadata": {
  "kernelspec": {
   "display_name": "pulser-ovh",
   "language": "python",
   "name": "pulser-ovh"
  },
  "language_info": {
   "codemirror_mode": {
    "name": "ipython",
    "version": 3
   },
   "file_extension": ".py",
   "mimetype": "text/x-python",
   "name": "python",
   "nbconvert_exporter": "python",
   "pygments_lexer": "ipython3",
   "version": "3.11.5"
  },
  "papermill": {
   "duration": 21.212629,
   "end_time": "2023-10-31T09:29:33.127358",
   "exception": null,
   "input_path": "/tmp/tmp8tqa9zf1.ipynb",
   "output_path": "3. Classical simulation/3.1. Simulating Sequences with Errors and Noise.ipynb",
   "parameters": {
    "product": "./3. Classical simulation/3.1. Simulating Sequences with Errors and Noise.ipynb"
   },
   "start_time": "2023-10-31T09:29:11.914729"
  }
 },
 "nbformat": 4,
 "nbformat_minor": 5
}