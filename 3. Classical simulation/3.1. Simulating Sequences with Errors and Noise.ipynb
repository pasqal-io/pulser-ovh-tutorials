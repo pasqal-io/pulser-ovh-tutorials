{
 "cells": [
  {
   "cell_type": "markdown",
   "id": "ae77b105",
   "metadata": {
    "papermill": {
     "duration": 0.01359,
     "end_time": "2024-02-14T12:48:20.132567",
     "exception": false,
     "start_time": "2024-02-14T12:48:20.118977",
     "status": "completed"
    },
    "tags": []
   },
   "source": [
    "# Simulations with Noise and Errors"
   ]
  },
  {
   "cell_type": "markdown",
   "id": "30b97537",
   "metadata": {
    "papermill": {
     "duration": 0.007327,
     "end_time": "2024-02-14T12:48:20.149576",
     "exception": false,
     "start_time": "2024-02-14T12:48:20.142249",
     "status": "completed"
    },
    "tags": []
   },
   "source": [
    "## Introduction\n",
    "This notebook is the first in a series of tutorials on the use of the `pulser-simulation` module to simulate pulse sequences with noise and errors. These are an unavoidable part of a real quantum system, and a good simulation of a pulse sequence should be able to reproduce them accurately. A detailed explanation of these phenomena can be found in the following [reference](https://arxiv.org/abs/1802.10424).\n",
    "\n",
    "Currently, `pulser-simulation` supports _noises_ for the laser pulses and _errors_ for the state preparation and measurement stages:\n",
    "\n",
    "### 1. SPAM (_State Preparation And Measurement_) errors:\n",
    "\n",
    "- **State Preparation errors**: The initial state preparation can fail to trap all the atoms in the ground state $\\ket{g}$. We model this by the probability $\\eta$ of _not_ having a given atom during processing.\n",
    "- **Measurement errors**: In addition, the probabilities $\\epsilon, \\epsilon '$ are linked to detection errors. The first one is the probability of detecting an atom in the ground state $\\ket{g}$ as if it were in the excited state $\\ket{r}$ (\"false positives\"), and the second one is the probability of detecting an atom in the excited state $\\ket{r}$ as if it were in the ground state $\\ket{g}$ (\"false negatives\").\n",
    "\n",
    "### 2. Laser noises:\n",
    "The fluctuations of the properties of the lasers affect their effectiveness in addressing the desired transitions between atomic levels:\n",
    "\n",
    "- **Doppler damping**: The atoms in the register are cooled to a temperature $T \\sim 50\\mu K$, which is low but still non-zero. Therefore, the laser frequency they experience is Doppler-shifted due to thermal motion. This can be seen as a shift in the detuning frequency of the laser.\n",
    "- **Waist of the laser**: For global pulses, the laser amplitude has a Gaussian profile and atoms at the border of the waist feel a slightly lower amplitude than those at the focus.\n",
    "- **Amplitude fluctuations**: Fluctuations in the laser amplitude from pulse to pulse. \n",
    "\n",
    "### 3. Effective noise channels:\n",
    "\n",
    "More generally, we can include effective noise channels in our simulation. These can represent the aggregate of different noise sources, as well as an interaction with an environment. To include these in our simulations, we use the Lindblad master equation, an evolution equation for the _density matrix_ $\\rho$ of the system. Some introductory lecture notes on the topic can be found [here](http://theory.caltech.edu/~preskill/ph219/chap3_15.pdf). `pulser-simulation` includes the following noise channels:\n",
    "\n",
    "- **Dephasing channel**: Implements a decay in the _coherence_ or _interference_ terms (the off-diagonal terms in $\\rho$). It applies random $z$-rotations on each qubit according to a given probability $p$, the dephasing probability.\n",
    "- **Depolarizing channel**: A more general type of noise in which $\\rho$ loses information due to interactions with the environment. This is represented as an evolution towards the completely mixed state $\\rho \\rightarrow \\frac{\\mathbb{I}}{2}$, effectively erasing the coherence in $\\rho$ with a probability $p$.\n",
    "- **Custom effective noise channel**: we can also include custom noise channels by providing the Lindblad operators and their coefficients.\n"
   ]
  },
  {
   "cell_type": "code",
   "execution_count": 1,
   "id": "7c18b917",
   "metadata": {
    "execution": {
     "iopub.execute_input": "2024-02-14T12:48:20.163283Z",
     "iopub.status.busy": "2024-02-14T12:48:20.162876Z",
     "iopub.status.idle": "2024-02-14T12:48:20.864909Z",
     "shell.execute_reply": "2024-02-14T12:48:20.864560Z"
    },
    "papermill": {
     "duration": 0.709509,
     "end_time": "2024-02-14T12:48:20.865817",
     "exception": false,
     "start_time": "2024-02-14T12:48:20.156308",
     "status": "completed"
    },
    "ploomber": {
     "timestamp_end": 1707912158.443219,
     "timestamp_start": 1707912158.442894
    },
    "tags": []
   },
   "outputs": [],
   "source": [
    "import numpy as np\n",
    "import matplotlib.pyplot as plt\n",
    "import qutip\n",
    "\n",
    "from pulser import Register, Pulse, Sequence\n",
    "from pulser_simulation import SimConfig, QutipEmulator\n",
    "from pulser.devices import Chadoq2"
   ]
  },
  {
   "cell_type": "markdown",
   "id": "1d85aae8",
   "metadata": {
    "papermill": {
     "duration": 0.002096,
     "end_time": "2024-02-14T12:48:20.870152",
     "exception": false,
     "start_time": "2024-02-14T12:48:20.868056",
     "status": "completed"
    },
    "tags": []
   },
   "source": [
    "## Single atom noisy simulations"
   ]
  },
  {
   "cell_type": "markdown",
   "id": "1b176884",
   "metadata": {
    "papermill": {
     "duration": 0.001979,
     "end_time": "2024-02-14T12:48:20.874098",
     "exception": false,
     "start_time": "2024-02-14T12:48:20.872119",
     "status": "completed"
    },
    "tags": []
   },
   "source": [
    "### Sequence preparation"
   ]
  },
  {
   "cell_type": "markdown",
   "id": "33161547",
   "metadata": {
    "papermill": {
     "duration": 0.001996,
     "end_time": "2024-02-14T12:48:20.878064",
     "exception": false,
     "start_time": "2024-02-14T12:48:20.876068",
     "status": "completed"
    },
    "tags": []
   },
   "source": [
    "We prepare a single atom."
   ]
  },
  {
   "cell_type": "code",
   "execution_count": 2,
   "id": "3d7d7cc9",
   "metadata": {
    "execution": {
     "iopub.execute_input": "2024-02-14T12:48:20.882710Z",
     "iopub.status.busy": "2024-02-14T12:48:20.882508Z",
     "iopub.status.idle": "2024-02-14T12:48:20.884405Z",
     "shell.execute_reply": "2024-02-14T12:48:20.884185Z"
    },
    "papermill": {
     "duration": 0.005105,
     "end_time": "2024-02-14T12:48:20.885139",
     "exception": false,
     "start_time": "2024-02-14T12:48:20.880034",
     "status": "completed"
    },
    "ploomber": {
     "timestamp_end": 1707912158.448184,
     "timestamp_start": 1707912158.447867
    },
    "tags": []
   },
   "outputs": [],
   "source": [
    "reg = Register.from_coordinates([(0, 0)], prefix=\"q\")"
   ]
  },
  {
   "cell_type": "markdown",
   "id": "f13e1344",
   "metadata": {
    "papermill": {
     "duration": 0.002041,
     "end_time": "2024-02-14T12:48:20.889314",
     "exception": false,
     "start_time": "2024-02-14T12:48:20.887273",
     "status": "completed"
    },
    "tags": []
   },
   "source": [
    "We act on this atom with a Constant Pulse, such that it oscillates between the ground state and excited Rydberg state (Rabi oscillations):"
   ]
  },
  {
   "cell_type": "code",
   "execution_count": 3,
   "id": "c2009533",
   "metadata": {
    "execution": {
     "iopub.execute_input": "2024-02-14T12:48:20.893866Z",
     "iopub.status.busy": "2024-02-14T12:48:20.893767Z",
     "iopub.status.idle": "2024-02-14T12:48:21.080330Z",
     "shell.execute_reply": "2024-02-14T12:48:21.079605Z"
    },
    "papermill": {
     "duration": 0.190613,
     "end_time": "2024-02-14T12:48:21.081859",
     "exception": false,
     "start_time": "2024-02-14T12:48:20.891246",
     "status": "completed"
    },
    "ploomber": {
     "timestamp_end": 1707912158.549419,
     "timestamp_start": 1707912158.452294
    },
    "scrolled": true,
    "tags": []
   },
   "outputs": [
    {
     "data": {
      "image/png": "[encoded data removed]",
      "text/plain": [
       "<Figure size 2000x300 with 2 Axes>"
      ]
     },
     "metadata": {},
     "output_type": "display_data"
    }
   ],
   "source": [
    "seq = Sequence(reg, Chadoq2)\n",
    "seq.declare_channel(\"ch0\", \"rydberg_global\")\n",
    "duration = 2500\n",
    "pulse = Pulse.ConstantPulse(duration, 2 * np.pi, 0.0, 0.0)\n",
    "seq.add(pulse, \"ch0\")\n",
    "seq.draw()"
   ]
  },
  {
   "cell_type": "markdown",
   "id": "760469a9",
   "metadata": {
    "papermill": {
     "duration": 0.002544,
     "end_time": "2024-02-14T12:48:21.092303",
     "exception": false,
     "start_time": "2024-02-14T12:48:21.089759",
     "status": "completed"
    },
    "tags": []
   },
   "source": [
    "In order to characterize simulation results, we designed a dedicated class, the `SimulationResults` class. It has two child classes, the `CoherentResults` for when the final state can be represented as a state vector or density matrix and `NoisyResults` when it can only be provided as a probability distribution of final states.\n",
    "\n",
    "In the following, we run a noiseless simulation to obtain a `CoherentResults` object in `clean_res`. This object allows to get useful information on the simulation parameters, the simulation results and more."
   ]
  },
  {
   "cell_type": "code",
   "execution_count": 4,
   "id": "153622b8",
   "metadata": {
    "execution": {
     "iopub.execute_input": "2024-02-14T12:48:21.100074Z",
     "iopub.status.busy": "2024-02-14T12:48:21.098998Z",
     "iopub.status.idle": "2024-02-14T12:48:21.117115Z",
     "shell.execute_reply": "2024-02-14T12:48:21.115841Z"
    },
    "papermill": {
     "duration": 0.024294,
     "end_time": "2024-02-14T12:48:21.118859",
     "exception": false,
     "start_time": "2024-02-14T12:48:21.094565",
     "status": "completed"
    },
    "ploomber": {
     "timestamp_end": 1707912158.559596,
     "timestamp_start": 1707912158.554259
    },
    "tags": []
   },
   "outputs": [],
   "source": [
    "sim = QutipEmulator.from_sequence(seq, sampling_rate=0.05)\n",
    "clean_res = sim.run()"
   ]
  },
  {
   "cell_type": "markdown",
   "id": "8cf60247",
   "metadata": {
    "papermill": {
     "duration": 0.002367,
     "end_time": "2024-02-14T12:48:21.123954",
     "exception": false,
     "start_time": "2024-02-14T12:48:21.121587",
     "status": "completed"
    },
    "tags": []
   },
   "source": [
    "We can for example plot the expectation values of an observable across time"
   ]
  },
  {
   "cell_type": "code",
   "execution_count": 5,
   "id": "bc74a5df",
   "metadata": {
    "execution": {
     "iopub.execute_input": "2024-02-14T12:48:21.135842Z",
     "iopub.status.busy": "2024-02-14T12:48:21.135591Z",
     "iopub.status.idle": "2024-02-14T12:48:21.143706Z",
     "shell.execute_reply": "2024-02-14T12:48:21.140761Z"
    },
    "papermill": {
     "duration": 0.01544,
     "end_time": "2024-02-14T12:48:21.145258",
     "exception": false,
     "start_time": "2024-02-14T12:48:21.129818",
     "status": "completed"
    },
    "ploomber": {
     "timestamp_end": 1707912158.564095,
     "timestamp_start": 1707912158.563902
    },
    "tags": []
   },
   "outputs": [],
   "source": [
    "# Define Rydberg state observable\n",
    "obs = qutip.basis(2, 0).proj()"
   ]
  },
  {
   "cell_type": "code",
   "execution_count": 6,
   "id": "e6691fc8",
   "metadata": {
    "execution": {
     "iopub.execute_input": "2024-02-14T12:48:21.160361Z",
     "iopub.status.busy": "2024-02-14T12:48:21.159706Z",
     "iopub.status.idle": "2024-02-14T12:48:21.213966Z",
     "shell.execute_reply": "2024-02-14T12:48:21.213741Z"
    },
    "papermill": {
     "duration": 0.063999,
     "end_time": "2024-02-14T12:48:21.214747",
     "exception": false,
     "start_time": "2024-02-14T12:48:21.150748",
     "status": "completed"
    },
    "ploomber": {
     "timestamp_end": 1707912158.608413,
     "timestamp_start": 1707912158.568334
    },
    "tags": []
   },
   "outputs": [
    {
     "data": {
      "image/png": "[encoded data removed]",
      "text/plain": [
       "<Figure size 400x300 with 1 Axes>"
      ]
     },
     "metadata": {},
     "output_type": "display_data"
    }
   ],
   "source": [
    "plt.figure(figsize=(4, 3))\n",
    "plt.plot(clean_res._sim_times, clean_res.expect([obs])[0])\n",
    "plt.xlabel(r\"Time ($\\mu s$)\")\n",
    "plt.ylabel(r\"Population in $|r\\rangle$\")\n",
    "plt.show()"
   ]
  },
  {
   "cell_type": "markdown",
   "id": "1521b6c7",
   "metadata": {
    "papermill": {
     "duration": 0.002307,
     "end_time": "2024-02-14T12:48:21.219541",
     "exception": false,
     "start_time": "2024-02-14T12:48:21.217234",
     "status": "completed"
    },
    "tags": []
   },
   "source": [
    "### The SimConfig object"
   ]
  },
  {
   "cell_type": "markdown",
   "id": "42f31610",
   "metadata": {
    "papermill": {
     "duration": 0.002273,
     "end_time": "2024-02-14T12:48:21.224042",
     "exception": false,
     "start_time": "2024-02-14T12:48:21.221769",
     "status": "completed"
    },
    "tags": []
   },
   "source": [
    "Each simulation has an associated `SimConfig` object, which encapsulates parameters such as noise types, the temperature of the register and so on. You can view it at any time using the `show_config()` method:"
   ]
  },
  {
   "cell_type": "code",
   "execution_count": 7,
   "id": "b3154d19",
   "metadata": {
    "execution": {
     "iopub.execute_input": "2024-02-14T12:48:21.229255Z",
     "iopub.status.busy": "2024-02-14T12:48:21.229155Z",
     "iopub.status.idle": "2024-02-14T12:48:21.230897Z",
     "shell.execute_reply": "2024-02-14T12:48:21.230681Z"
    },
    "papermill": {
     "duration": 0.005175,
     "end_time": "2024-02-14T12:48:21.231578",
     "exception": false,
     "start_time": "2024-02-14T12:48:21.226403",
     "status": "completed"
    },
    "ploomber": {
     "timestamp_end": 1707912158.613337,
     "timestamp_start": 1707912158.613173
    },
    "tags": []
   },
   "outputs": [
    {
     "name": "stdout",
     "output_type": "stream",
     "text": [
      "Options:\n",
      "----------\n",
      "Number of runs:        15\n",
      "Samples per run:       5\n"
     ]
    }
   ],
   "source": [
    "sim.show_config()"
   ]
  },
  {
   "cell_type": "markdown",
   "id": "98b70a17",
   "metadata": {
    "papermill": {
     "duration": 0.002269,
     "end_time": "2024-02-14T12:48:21.236113",
     "exception": false,
     "start_time": "2024-02-14T12:48:21.233844",
     "status": "completed"
    },
    "tags": []
   },
   "source": [
    "When creating a new `SimConfig`, you can choose several parameters such as the number of runs and the number of delivered samples per run through the fields `'runs'` and `'samples_per_run'` respectively. The number of samples per run has no physical interpretation, this is used simply to cut down the calculation time by acquiring more shots without resampling the noise parameters."
   ]
  },
  {
   "cell_type": "markdown",
   "id": "3768c085",
   "metadata": {
    "papermill": {
     "duration": 0.002264,
     "end_time": "2024-02-14T12:48:21.240611",
     "exception": false,
     "start_time": "2024-02-14T12:48:21.238347",
     "status": "completed"
    },
    "tags": []
   },
   "source": [
    "### SPAM noise use case\n",
    "\n",
    "We will use as a toy example the `SPAM` noise and add it to our simulation in order to describe the different objects used for noisy simulations."
   ]
  },
  {
   "cell_type": "markdown",
   "id": "d2340eeb",
   "metadata": {
    "papermill": {
     "duration": 0.002258,
     "end_time": "2024-02-14T12:48:21.245094",
     "exception": false,
     "start_time": "2024-02-14T12:48:21.242836",
     "status": "completed"
    },
    "tags": []
   },
   "source": [
    "To do so, we can create a new `SimConfig` object and assign it to the `config` field of `sim` via the `Simulation.set_config` setter. We pass noise types as a tuple of strings to the `SimConfig` object created."
   ]
  },
  {
   "cell_type": "markdown",
   "id": "41b0dbc3",
   "metadata": {
    "papermill": {
     "duration": 0.002264,
     "end_time": "2024-02-14T12:48:21.249599",
     "exception": false,
     "start_time": "2024-02-14T12:48:21.247335",
     "status": "completed"
    },
    "tags": []
   },
   "source": [
    "You can list the different types of noises supported for each basis by calling `Simconfig.supported_noises` as follows:"
   ]
  },
  {
   "cell_type": "code",
   "execution_count": 8,
   "id": "5d5213e9",
   "metadata": {
    "execution": {
     "iopub.execute_input": "2024-02-14T12:48:21.254526Z",
     "iopub.status.busy": "2024-02-14T12:48:21.254443Z",
     "iopub.status.idle": "2024-02-14T12:48:21.256373Z",
     "shell.execute_reply": "2024-02-14T12:48:21.256181Z"
    },
    "papermill": {
     "duration": 0.005192,
     "end_time": "2024-02-14T12:48:21.257026",
     "exception": false,
     "start_time": "2024-02-14T12:48:21.251834",
     "status": "completed"
    },
    "ploomber": {
     "timestamp_end": 1707912158.618336,
     "timestamp_start": 1707912158.617941
    },
    "tags": []
   },
   "outputs": [
    {
     "data": {
      "text/plain": [
       "{'ising': {'SPAM',\n",
       "  'amplitude',\n",
       "  'dephasing',\n",
       "  'depolarizing',\n",
       "  'doppler',\n",
       "  'eff_noise'},\n",
       " 'XY': {'SPAM'}}"
      ]
     },
     "execution_count": 8,
     "metadata": {},
     "output_type": "execute_result"
    }
   ],
   "source": [
    "sim.config.supported_noises"
   ]
  },
  {
   "cell_type": "markdown",
   "id": "403ece94",
   "metadata": {
    "papermill": {
     "duration": 0.002364,
     "end_time": "2024-02-14T12:48:21.261849",
     "exception": false,
     "start_time": "2024-02-14T12:48:21.259485",
     "status": "completed"
    },
    "tags": []
   },
   "source": [
    "By default, all config classes are in the `ising` mode, allowing a wide range of noises. However, for some applications, we need to operate in the `XY` mode, where only the SPAM noise is available for the moment."
   ]
  },
  {
   "cell_type": "markdown",
   "id": "a25899cd",
   "metadata": {
    "papermill": {
     "duration": 0.002297,
     "end_time": "2024-02-14T12:48:21.266405",
     "exception": false,
     "start_time": "2024-02-14T12:48:21.264108",
     "status": "completed"
    },
    "tags": []
   },
   "source": [
    "Let's come back to our toy example. We add `\"SPAM\"` noise to our clean simulation, select 30 different realizations of the state taking each time 5 samples per run:"
   ]
  },
  {
   "cell_type": "code",
   "execution_count": 9,
   "id": "3e71d914",
   "metadata": {
    "execution": {
     "iopub.execute_input": "2024-02-14T12:48:21.271368Z",
     "iopub.status.busy": "2024-02-14T12:48:21.271292Z",
     "iopub.status.idle": "2024-02-14T12:48:21.274037Z",
     "shell.execute_reply": "2024-02-14T12:48:21.273844Z"
    },
    "papermill": {
     "duration": 0.006025,
     "end_time": "2024-02-14T12:48:21.274681",
     "exception": false,
     "start_time": "2024-02-14T12:48:21.268656",
     "status": "completed"
    },
    "ploomber": {
     "timestamp_end": 1707912158.623843,
     "timestamp_start": 1707912158.622879
    },
    "tags": []
   },
   "outputs": [],
   "source": [
    "config_spam = SimConfig(noise=(\"SPAM\"), runs=30, samples_per_run=5)\n",
    "sim.set_config(config_spam)"
   ]
  },
  {
   "cell_type": "markdown",
   "id": "5e593773",
   "metadata": {
    "papermill": {
     "duration": 0.002307,
     "end_time": "2024-02-14T12:48:21.279310",
     "exception": false,
     "start_time": "2024-02-14T12:48:21.277003",
     "status": "completed"
    },
    "tags": []
   },
   "source": [
    "The configuration is updated, the current parameters of the SPAM errors should be included:"
   ]
  },
  {
   "cell_type": "code",
   "execution_count": 10,
   "id": "32a55641",
   "metadata": {
    "execution": {
     "iopub.execute_input": "2024-02-14T12:48:21.284447Z",
     "iopub.status.busy": "2024-02-14T12:48:21.284375Z",
     "iopub.status.idle": "2024-02-14T12:48:21.285870Z",
     "shell.execute_reply": "2024-02-14T12:48:21.285682Z"
    },
    "papermill": {
     "duration": 0.004796,
     "end_time": "2024-02-14T12:48:21.286511",
     "exception": false,
     "start_time": "2024-02-14T12:48:21.281715",
     "status": "completed"
    },
    "ploomber": {
     "timestamp_end": 1707912158.628504,
     "timestamp_start": 1707912158.628405
    },
    "tags": []
   },
   "outputs": [
    {
     "name": "stdout",
     "output_type": "stream",
     "text": [
      "Options:\n",
      "----------\n",
      "Number of runs:        30\n",
      "Samples per run:       5\n",
      "Noise types:           SPAM\n",
      "SPAM dictionary:       {'eta': 0.005, 'epsilon': 0.01, 'epsilon_prime': 0.05}\n"
     ]
    }
   ],
   "source": [
    "sim.show_config()"
   ]
  },
  {
   "cell_type": "markdown",
   "id": "e4012d4f",
   "metadata": {
    "papermill": {
     "duration": 0.002338,
     "end_time": "2024-02-14T12:48:21.291197",
     "exception": false,
     "start_time": "2024-02-14T12:48:21.288859",
     "status": "completed"
    },
    "tags": []
   },
   "source": [
    "The `SimConfig.spam_dict` is the spam parameters dictionary where `eta` is the probability of a badly prepared state, `epsilon` the false positive probability and `epsilon_prime` the false negative one."
   ]
  },
  {
   "cell_type": "markdown",
   "id": "98002d0a",
   "metadata": {
    "papermill": {
     "duration": 0.002331,
     "end_time": "2024-02-14T12:48:21.295806",
     "exception": false,
     "start_time": "2024-02-14T12:48:21.293475",
     "status": "completed"
    },
    "tags": []
   },
   "source": [
    "When dealing with a `SimConfig` object with different noise parameters from the config in `Simulation.config`, you can \"add\" both configurations together, obtaining a single `SimConfig` with all noises from both configurations - on the other hand, the `runs` and `samples_per_run` will always be updated. This adds simulation parameters to noises that weren't available in the former `Simulation.config`. Noises specified in both `SimConfigs` will keep the noise parameters in `Simulation.config`. Try it out with `Simulation.add_config`:"
   ]
  },
  {
   "cell_type": "code",
   "execution_count": 11,
   "id": "a1776d9a",
   "metadata": {
    "execution": {
     "iopub.execute_input": "2024-02-14T12:48:21.300787Z",
     "iopub.status.busy": "2024-02-14T12:48:21.300715Z",
     "iopub.status.idle": "2024-02-14T12:48:21.303968Z",
     "shell.execute_reply": "2024-02-14T12:48:21.303757Z"
    },
    "papermill": {
     "duration": 0.006507,
     "end_time": "2024-02-14T12:48:21.304587",
     "exception": false,
     "start_time": "2024-02-14T12:48:21.298080",
     "status": "completed"
    },
    "ploomber": {
     "timestamp_end": 1707912158.634453,
     "timestamp_start": 1707912158.633141
    },
    "tags": []
   },
   "outputs": [
    {
     "name": "stdout",
     "output_type": "stream",
     "text": [
      "Options:\n",
      "----------\n",
      "Number of runs:        50\n",
      "Samples per run:       5\n",
      "Noise types:           doppler, dephasing, SPAM\n",
      "SPAM dictionary:       {'eta': 0.005, 'epsilon': 0.01, 'epsilon_prime': 0.05}\n",
      "Temperature:           1000.0µK\n",
      "Dephasing probability: 0.05\n"
     ]
    }
   ],
   "source": [
    "cfg2 = SimConfig(\n",
    "    noise=(\"SPAM\", \"dephasing\", \"doppler\"),\n",
    "    eta=0.8,\n",
    "    temperature=1000,\n",
    "    runs=50,\n",
    ")\n",
    "sim.add_config(cfg2)\n",
    "sim.show_config()"
   ]
  },
  {
   "cell_type": "markdown",
   "id": "dcfd158b",
   "metadata": {
    "papermill": {
     "duration": 0.002373,
     "end_time": "2024-02-14T12:48:21.309346",
     "exception": false,
     "start_time": "2024-02-14T12:48:21.306973",
     "status": "completed"
    },
    "tags": []
   },
   "source": [
    "We can observe that the `eta` parameter wasn't changed, since both `SimConfig` objects had `'SPAM'` as a noise model already."
   ]
  },
  {
   "cell_type": "markdown",
   "id": "e7b82653",
   "metadata": {
    "papermill": {
     "duration": 0.002416,
     "end_time": "2024-02-14T12:48:21.314153",
     "exception": false,
     "start_time": "2024-02-14T12:48:21.311737",
     "status": "completed"
    },
    "tags": []
   },
   "source": [
    "We created a noisy simulation using `set_config` and `add_config` methods of the the Simulation class. But it's not the only way, you can directly create a noisy simulation when you create your simulation object."
   ]
  },
  {
   "cell_type": "code",
   "execution_count": 12,
   "id": "08ae21c7",
   "metadata": {
    "execution": {
     "iopub.execute_input": "2024-02-14T12:48:21.319278Z",
     "iopub.status.busy": "2024-02-14T12:48:21.319200Z",
     "iopub.status.idle": "2024-02-14T12:48:21.322910Z",
     "shell.execute_reply": "2024-02-14T12:48:21.322716Z"
    },
    "papermill": {
     "duration": 0.007091,
     "end_time": "2024-02-14T12:48:21.323571",
     "exception": false,
     "start_time": "2024-02-14T12:48:21.316480",
     "status": "completed"
    },
    "ploomber": {
     "timestamp_end": 1707912158.64107,
     "timestamp_start": 1707912158.639322
    },
    "tags": []
   },
   "outputs": [
    {
     "name": "stdout",
     "output_type": "stream",
     "text": [
      "Options:\n",
      "----------\n",
      "Number of runs:        50\n",
      "Samples per run:       5\n",
      "Noise types:           SPAM, dephasing, doppler\n",
      "SPAM dictionary:       {'eta': 0.005, 'epsilon': 0.01, 'epsilon_prime': 0.05}\n",
      "Temperature:           1000.0µK\n",
      "Dephasing probability: 0.05\n"
     ]
    }
   ],
   "source": [
    "sim = QutipEmulator.from_sequence(\n",
    "    seq,\n",
    "    sampling_rate=0.05,\n",
    "    config=SimConfig(\n",
    "        noise=(\"SPAM\", \"dephasing\", \"doppler\"),\n",
    "        temperature=1000,\n",
    "        runs=50,\n",
    "    ),\n",
    ")\n",
    "sim.show_config()"
   ]
  },
  {
   "cell_type": "markdown",
   "id": "07540280",
   "metadata": {
    "papermill": {
     "duration": 0.002395,
     "end_time": "2024-02-14T12:48:21.328434",
     "exception": false,
     "start_time": "2024-02-14T12:48:21.326039",
     "status": "completed"
    },
    "tags": []
   },
   "source": [
    "### Setting evaluation times"
   ]
  },
  {
   "cell_type": "markdown",
   "id": "0f0ad96c",
   "metadata": {
    "papermill": {
     "duration": 0.002417,
     "end_time": "2024-02-14T12:48:21.333284",
     "exception": false,
     "start_time": "2024-02-14T12:48:21.330867",
     "status": "completed"
    },
    "tags": []
   },
   "source": [
    "As a `Simulation` field, `evaluation_times` refers to the times at which you sample during your simulation. You can assign it different types of values:\n",
    "\n",
    "* A float between 0 and 1: indicating the fraction of the full time array at which you want to sample.\n",
    "* The string `'Full'` to evaluate every ns or `'Minimal'` to evaluate only at the start and the end.\n",
    "* A time list: if there are specific periods of times at which you want to sample. Only, make sure the list you use is a subset of the hamiltonian sample time list."
   ]
  },
  {
   "cell_type": "code",
   "execution_count": 13,
   "id": "ab58a385",
   "metadata": {
    "execution": {
     "iopub.execute_input": "2024-02-14T12:48:21.338388Z",
     "iopub.status.busy": "2024-02-14T12:48:21.338314Z",
     "iopub.status.idle": "2024-02-14T12:48:21.339820Z",
     "shell.execute_reply": "2024-02-14T12:48:21.339620Z"
    },
    "papermill": {
     "duration": 0.004878,
     "end_time": "2024-02-14T12:48:21.340484",
     "exception": false,
     "start_time": "2024-02-14T12:48:21.335606",
     "status": "completed"
    },
    "ploomber": {
     "timestamp_end": 1707912158.646123,
     "timestamp_start": 1707912158.646002
    },
    "tags": []
   },
   "outputs": [],
   "source": [
    "sim.set_evaluation_times(0.5)"
   ]
  },
  {
   "cell_type": "code",
   "execution_count": 14,
   "id": "4d6bed2b",
   "metadata": {
    "execution": {
     "iopub.execute_input": "2024-02-14T12:48:21.345686Z",
     "iopub.status.busy": "2024-02-14T12:48:21.345610Z",
     "iopub.status.idle": "2024-02-14T12:48:21.602123Z",
     "shell.execute_reply": "2024-02-14T12:48:21.601810Z"
    },
    "papermill": {
     "duration": 0.260024,
     "end_time": "2024-02-14T12:48:21.602925",
     "exception": false,
     "start_time": "2024-02-14T12:48:21.342901",
     "status": "completed"
    },
    "ploomber": {
     "timestamp_end": 1707912158.913762,
     "timestamp_start": 1707912158.650964
    },
    "tags": []
   },
   "outputs": [],
   "source": [
    "noisy_res = sim.run()"
   ]
  },
  {
   "cell_type": "markdown",
   "id": "6952f2de",
   "metadata": {
    "papermill": {
     "duration": 0.002297,
     "end_time": "2024-02-14T12:48:21.607613",
     "exception": false,
     "start_time": "2024-02-14T12:48:21.605316",
     "status": "completed"
    },
    "tags": []
   },
   "source": [
    "We get a `NoisyResults` object from our noisy simulation. This object represents the final result as a probability distribution over the sampled bitstrings, rather than a quantum state `QObj` in the `CleanResults` case."
   ]
  },
  {
   "cell_type": "markdown",
   "id": "0376db90",
   "metadata": {
    "papermill": {
     "duration": 0.002298,
     "end_time": "2024-02-14T12:48:21.612249",
     "exception": false,
     "start_time": "2024-02-14T12:48:21.609951",
     "status": "completed"
    },
    "tags": []
   },
   "source": [
    "### Plotting noisy and clean results"
   ]
  },
  {
   "cell_type": "markdown",
   "id": "eeca3f29",
   "metadata": {
    "papermill": {
     "duration": 0.002325,
     "end_time": "2024-02-14T12:48:21.616858",
     "exception": false,
     "start_time": "2024-02-14T12:48:21.614533",
     "status": "completed"
    },
    "tags": []
   },
   "source": [
    "The new `res` instance has similar methods to the usual `SimResults` object. For example, we can calculate expectation values. "
   ]
  },
  {
   "cell_type": "markdown",
   "id": "6574e41f",
   "metadata": {
    "papermill": {
     "duration": 0.002313,
     "end_time": "2024-02-14T12:48:21.621453",
     "exception": false,
     "start_time": "2024-02-14T12:48:21.619140",
     "status": "completed"
    },
    "tags": []
   },
   "source": [
    "Below, the comparison between the clean and noise simulations."
   ]
  },
  {
   "cell_type": "code",
   "execution_count": 15,
   "id": "0cc488c9",
   "metadata": {
    "execution": {
     "iopub.execute_input": "2024-02-14T12:48:21.626606Z",
     "iopub.status.busy": "2024-02-14T12:48:21.626517Z",
     "iopub.status.idle": "2024-02-14T12:48:21.687670Z",
     "shell.execute_reply": "2024-02-14T12:48:21.687438Z"
    },
    "papermill": {
     "duration": 0.064624,
     "end_time": "2024-02-14T12:48:21.688425",
     "exception": false,
     "start_time": "2024-02-14T12:48:21.623801",
     "status": "completed"
    },
    "ploomber": {
     "timestamp_end": 1707912158.9792,
     "timestamp_start": 1707912158.918957
    },
    "tags": []
   },
   "outputs": [
    {
     "data": {
      "image/png": "[encoded data removed]",
      "text/plain": [
       "<Figure size 400x300 with 1 Axes>"
      ]
     },
     "metadata": {},
     "output_type": "display_data"
    }
   ],
   "source": [
    "plt.figure(figsize=(4, 3))\n",
    "plt.plot(noisy_res._sim_times, noisy_res.expect([obs])[0], label=\"noisy\")\n",
    "plt.plot(clean_res._sim_times, clean_res.expect([obs])[0], label=\"clean\")\n",
    "plt.xlabel(r\"Time ($\\mu s$)\")\n",
    "plt.ylabel(r\"Population in $|r\\rangle$\")\n",
    "plt.legend(bbox_to_anchor=(1.05, 1), loc=\"upper left\", borderaxespad=0.0)\n",
    "plt.show()"
   ]
  },
  {
   "cell_type": "markdown",
   "id": "ae062720",
   "metadata": {
    "papermill": {
     "duration": 0.002604,
     "end_time": "2024-02-14T12:48:21.693785",
     "exception": false,
     "start_time": "2024-02-14T12:48:21.691181",
     "status": "completed"
    },
    "tags": []
   },
   "source": [
    "You can also use the `SimResults.plot(obs)` method to plot expectation values of a given observable. Here we compute the `sigma_z` local operator expectation values. Error bars are activated by default for noise simulations but if you don't want them you can set to False the field `error_bars`."
   ]
  },
  {
   "cell_type": "markdown",
   "id": "19e166bb",
   "metadata": {
    "papermill": {
     "duration": 0.002515,
     "end_time": "2024-02-14T12:48:21.698812",
     "exception": false,
     "start_time": "2024-02-14T12:48:21.696297",
     "status": "completed"
    },
    "tags": []
   },
   "source": [
    "Be wary that computing the expectation value of non-diagonal operators will raise an error, as `NoisyResults` bitstrings are already projected on the $Z$ basis."
   ]
  },
  {
   "cell_type": "code",
   "execution_count": 16,
   "id": "c1eefb3c",
   "metadata": {
    "execution": {
     "iopub.execute_input": "2024-02-14T12:48:21.704246Z",
     "iopub.status.busy": "2024-02-14T12:48:21.704160Z",
     "iopub.status.idle": "2024-02-14T12:48:21.749279Z",
     "shell.execute_reply": "2024-02-14T12:48:21.749077Z"
    },
    "papermill": {
     "duration": 0.048755,
     "end_time": "2024-02-14T12:48:21.750024",
     "exception": false,
     "start_time": "2024-02-14T12:48:21.701269",
     "status": "completed"
    },
    "ploomber": {
     "timestamp_end": 1707912159.024405,
     "timestamp_start": 1707912158.984979
    },
    "scrolled": true,
    "tags": []
   },
   "outputs": [
    {
     "data": {
      "image/png": "[encoded data removed]",
      "text/plain": [
       "<Figure size 400x300 with 1 Axes>"
      ]
     },
     "metadata": {},
     "output_type": "display_data"
    }
   ],
   "source": [
    "obs = qutip.sigmaz()\n",
    "plt.figure(figsize=(4, 3))\n",
    "noisy_res.plot(obs, fmt=\".\")"
   ]
  },
  {
   "cell_type": "markdown",
   "id": "9d570053",
   "metadata": {
    "papermill": {
     "duration": 0.002624,
     "end_time": "2024-02-14T12:48:21.755548",
     "exception": false,
     "start_time": "2024-02-14T12:48:21.752924",
     "status": "completed"
    },
    "tags": []
   },
   "source": [
    "Now you have the basic knowledge to tackle noise simulations. In the following tutorials, we will see in more detail simulations with [SPAM errors](spam.nblink), [laser noise](laser_noise.nblink) and [effective noise channels](kraus_ops.nblink). Enjoy!"
   ]
  }
 ],
 "metadata": {
  "kernelspec": {
   "display_name": "pulser-ovh",
   "language": "python",
   "name": "pulser-ovh"
  },
  "language_info": {
   "codemirror_mode": {
    "name": "ipython",
    "version": 3
   },
   "file_extension": ".py",
   "mimetype": "text/x-python",
   "name": "python",
   "nbconvert_exporter": "python",
   "pygments_lexer": "ipython3",
   "version": "3.11.7"
  },
  "papermill": {
   "duration": 2.410239,
   "end_time": "2024-02-14T12:48:21.975657",
   "exception": null,
   "input_path": "./3. Classical simulation/3.1. Simulating Sequences with Errors and Noise.ipynb",
   "output_path": "./3. Classical simulation/3.1. Simulating Sequences with Errors and Noise.ipynb",
   "parameters": {
    "product": "./3. Classical simulation/3.1. Simulating Sequences with Errors and Noise.ipynb"
   },
   "start_time": "2024-02-14T12:48:19.565418"
  }
 },
 "nbformat": 4,
 "nbformat_minor": 5
}