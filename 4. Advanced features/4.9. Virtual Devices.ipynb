{
 "cells": [
  {
   "cell_type": "code",
   "execution_count": 1,
   "id": "7e318f08",
   "metadata": {
    "execution": {
     "iopub.execute_input": "2023-10-31T09:29:03.004876Z",
     "iopub.status.busy": "2023-10-31T09:29:03.003938Z",
     "iopub.status.idle": "2023-10-31T09:29:03.011090Z",
     "shell.execute_reply": "2023-10-31T09:29:03.009603Z"
    },
    "papermill": {
     "duration": 0.022511,
     "end_time": "2023-10-31T09:29:03.014450",
     "exception": false,
     "start_time": "2023-10-31T09:29:02.991939",
     "status": "completed"
    },
    "tags": [
     "parameters"
    ]
   },
   "outputs": [],
   "source": [
    "# add default values for parameters here"
   ]
  },
  {
   "cell_type": "code",
   "execution_count": 2,
   "id": "dba73881",
   "metadata": {
    "execution": {
     "iopub.execute_input": "2023-10-31T09:29:03.054041Z",
     "iopub.status.busy": "2023-10-31T09:29:03.053676Z",
     "iopub.status.idle": "2023-10-31T09:29:03.082183Z",
     "shell.execute_reply": "2023-10-31T09:29:03.064587Z"
    },
    "papermill": {
     "duration": 0.055467,
     "end_time": "2023-10-31T09:29:03.084730",
     "exception": false,
     "start_time": "2023-10-31T09:29:03.029263",
     "status": "completed"
    },
    "tags": [
     "injected-parameters"
    ]
   },
   "outputs": [],
   "source": [
    "# Parameters\n",
    "product = \"./4. Advanced features/4.9. Virtual Devices.ipynb\"\n"
   ]
  },
  {
   "cell_type": "markdown",
   "id": "2ef68ddb",
   "metadata": {
    "papermill": {
     "duration": 0.009141,
     "end_time": "2023-10-31T09:29:03.103392",
     "exception": false,
     "start_time": "2023-10-31T09:29:03.094251",
     "status": "completed"
    },
    "tags": []
   },
   "source": [
    "# Devices and Virtual Devices"
   ]
  },
  {
   "cell_type": "code",
   "execution_count": 3,
   "id": "ae778016",
   "metadata": {
    "execution": {
     "iopub.execute_input": "2023-10-31T09:29:03.156232Z",
     "iopub.status.busy": "2023-10-31T09:29:03.155859Z",
     "iopub.status.idle": "2023-10-31T09:29:05.349163Z",
     "shell.execute_reply": "2023-10-31T09:29:05.347959Z"
    },
    "papermill": {
     "duration": 2.206267,
     "end_time": "2023-10-31T09:29:05.352691",
     "exception": false,
     "start_time": "2023-10-31T09:29:03.146424",
     "status": "completed"
    },
    "tags": []
   },
   "outputs": [],
   "source": [
    "import numpy as np\n",
    "from dataclasses import replace\n",
    "from pulser.devices import Device, VirtualDevice, Chadoq2, MockDevice\n",
    "from pulser.channels import Rydberg, Raman, Microwave\n",
    "from pulser import Pulse, Sequence, Register"
   ]
  },
  {
   "cell_type": "markdown",
   "id": "7b46ef34",
   "metadata": {
    "papermill": {
     "duration": 0.009433,
     "end_time": "2023-10-31T09:29:05.371625",
     "exception": false,
     "start_time": "2023-10-31T09:29:05.362192",
     "status": "completed"
    },
    "tags": []
   },
   "source": [
    "## Physical devices"
   ]
  },
  {
   "cell_type": "markdown",
   "id": "336efa79",
   "metadata": {
    "papermill": {
     "duration": 0.009943,
     "end_time": "2023-10-31T09:29:05.393115",
     "exception": false,
     "start_time": "2023-10-31T09:29:05.383172",
     "status": "completed"
    },
    "tags": []
   },
   "source": [
    "To perform any computation using Pulser, it is necessary to choose a device. For convenience, some examples of typical physical devices are included and can be accessed via `pulser.devices`.  \n",
    "These devices are instances of the `Device` class. They are constrained by physical considerations and all their parameters are defined.\n",
    "\n",
    "As an example, we present below the specifications of the physical device `Chadoq2`, which can be accessed via the `Device.print_specs()` method."
   ]
  },
  {
   "cell_type": "code",
   "execution_count": 4,
   "id": "b0f98af0",
   "metadata": {
    "execution": {
     "iopub.execute_input": "2023-10-31T09:29:05.413619Z",
     "iopub.status.busy": "2023-10-31T09:29:05.413211Z",
     "iopub.status.idle": "2023-10-31T09:29:05.421543Z",
     "shell.execute_reply": "2023-10-31T09:29:05.419966Z"
    },
    "papermill": {
     "duration": 0.026367,
     "end_time": "2023-10-31T09:29:05.428813",
     "exception": false,
     "start_time": "2023-10-31T09:29:05.402446",
     "status": "completed"
    },
    "tags": []
   },
   "outputs": [
    {
     "name": "stdout",
     "output_type": "stream",
     "text": [
      "----------------------\n",
      "Chadoq2 Specifications\n",
      "----------------------\n",
      "\n",
      "Register parameters:\n",
      " - Dimensions: 2D\n",
      " - Rydberg level: 70\n",
      " - Maximum number of atoms: 100\n",
      " - Maximum distance from origin: 50 μm\n",
      " - Minimum distance between neighbouring atoms: 4 μm\n",
      " - Maximum layout filling fraction: 0.5\n",
      " - SLM Mask: Yes\n",
      "\n",
      "Channels:\n",
      " - 'rydberg_global': Rydberg.Global(Max Absolute Detuning: 125.66370614359172 rad/µs, Max Amplitude: 15.707963267948966 rad/µs, Clock period: 4 ns, Minimum pulse duration: 16 ns, Maximum pulse duration: 67108864 ns, Basis: 'ground-rydberg')\n",
      " - 'rydberg_local': Rydberg.Local(Max Absolute Detuning: 125.66370614359172 rad/µs, Max Amplitude: 62.83185307179586 rad/µs, Minimum retarget time: 220 ns, Fixed retarget time: 0 ns, Max targets: 1, Clock period: 4 ns, Minimum pulse duration: 16 ns, Maximum pulse duration: 67108864 ns, Basis: 'ground-rydberg')\n",
      " - 'raman_local': Raman.Local(Max Absolute Detuning: 125.66370614359172 rad/µs, Max Amplitude: 62.83185307179586 rad/µs, Minimum retarget time: 220 ns, Fixed retarget time: 0 ns, Max targets: 1, Clock period: 4 ns, Minimum pulse duration: 16 ns, Maximum pulse duration: 67108864 ns, Basis: 'digital')\n",
      " - 'dmm_0': DMM.Global(Max Absolute Detuning: None, Max Amplitude: 0, Clock period: 4 ns, Minimum pulse duration: 16 ns, Maximum pulse duration: 67108864 ns, Basis: 'ground-rydberg')\n"
     ]
    }
   ],
   "source": [
    "# Display Chadoq2's specifications\n",
    "Chadoq2.print_specs()"
   ]
  },
  {
   "cell_type": "markdown",
   "id": "5b829f4f",
   "metadata": {
    "papermill": {
     "duration": 0.009519,
     "end_time": "2023-10-31T09:29:05.448054",
     "exception": false,
     "start_time": "2023-10-31T09:29:05.438535",
     "status": "completed"
    },
    "tags": []
   },
   "source": [
    "## Virtual Devices"
   ]
  },
  {
   "cell_type": "markdown",
   "id": "6d35554c",
   "metadata": {
    "papermill": {
     "duration": 0.009721,
     "end_time": "2023-10-31T09:29:05.467276",
     "exception": false,
     "start_time": "2023-10-31T09:29:05.457555",
     "status": "completed"
    },
    "tags": []
   },
   "source": [
    "### Converting a Device into a Virtual Device"
   ]
  },
  {
   "cell_type": "markdown",
   "id": "34942b03",
   "metadata": {
    "papermill": {
     "duration": 0.009524,
     "end_time": "2023-10-31T09:29:05.486953",
     "exception": false,
     "start_time": "2023-10-31T09:29:05.477429",
     "status": "completed"
    },
    "tags": []
   },
   "source": [
    "However, we sometimes want to perform the computations on a more permissive device, a device that would have more dimensions or more atoms for instance, or more types of channels. This can be done on an emulator behaving like a device. The `VirtualDevice` class is useful to define such an emulator, a virtual device.\n",
    "\n",
    "Let's start by configuring a virtual device having the same parameters as `Chadoq2`. To do this, we use the `Device.to_virtual()` method that creates a virtual device from a physical one. "
   ]
  },
  {
   "cell_type": "code",
   "execution_count": 5,
   "id": "c234fc57",
   "metadata": {
    "execution": {
     "iopub.execute_input": "2023-10-31T09:29:05.509533Z",
     "iopub.status.busy": "2023-10-31T09:29:05.509189Z",
     "iopub.status.idle": "2023-10-31T09:29:05.514855Z",
     "shell.execute_reply": "2023-10-31T09:29:05.513968Z"
    },
    "papermill": {
     "duration": 0.022881,
     "end_time": "2023-10-31T09:29:05.520805",
     "exception": false,
     "start_time": "2023-10-31T09:29:05.497924",
     "status": "completed"
    },
    "tags": []
   },
   "outputs": [
    {
     "name": "stdout",
     "output_type": "stream",
     "text": [
      "VirtualDevice(name='Chadoq2', dimensions=2, rydberg_level=70, min_atom_distance=4, max_atom_num=100, max_radial_distance=50, interaction_coeff_xy=None, supports_slm_mask=True, max_layout_filling=0.5, max_sequence_duration=None, max_runs=None, reusable_channels=False, channel_ids=('rydberg_global', 'rydberg_local', 'raman_local'), channel_objects=(Rydberg.Global(Max Absolute Detuning: 125.66370614359172 rad/µs, Max Amplitude: 15.707963267948966 rad/µs, Clock period: 4 ns, Minimum pulse duration: 16 ns, Maximum pulse duration: 67108864 ns, Basis: 'ground-rydberg'), Rydberg.Local(Max Absolute Detuning: 125.66370614359172 rad/µs, Max Amplitude: 62.83185307179586 rad/µs, Minimum retarget time: 220 ns, Fixed retarget time: 0 ns, Max targets: 1, Clock period: 4 ns, Minimum pulse duration: 16 ns, Maximum pulse duration: 67108864 ns, Basis: 'ground-rydberg'), Raman.Local(Max Absolute Detuning: 125.66370614359172 rad/µs, Max Amplitude: 62.83185307179586 rad/µs, Minimum retarget time: 220 ns, Fixed retarget time: 0 ns, Max targets: 1, Clock period: 4 ns, Minimum pulse duration: 16 ns, Maximum pulse duration: 67108864 ns, Basis: 'digital')), dmm_objects=(DMM.Global(Max Absolute Detuning: None, Max Amplitude: 0, Clock period: 4 ns, Minimum pulse duration: 16 ns, Maximum pulse duration: 67108864 ns, Basis: 'ground-rydberg'),))\n"
     ]
    }
   ],
   "source": [
    "# Converting the Device object in a VirtualDevice object\n",
    "VirtualChadoq = Chadoq2.to_virtual()\n",
    "print(VirtualChadoq)"
   ]
  },
  {
   "cell_type": "markdown",
   "id": "a8fbf4b7",
   "metadata": {
    "papermill": {
     "duration": 0.010559,
     "end_time": "2023-10-31T09:29:05.541541",
     "exception": false,
     "start_time": "2023-10-31T09:29:05.530982",
     "status": "completed"
    },
    "tags": []
   },
   "source": [
    "### Changing parameters of a virtual device with `dataclasses.replace()`"
   ]
  },
  {
   "cell_type": "markdown",
   "id": "8c761913",
   "metadata": {
    "papermill": {
     "duration": 0.016723,
     "end_time": "2023-10-31T09:29:05.568420",
     "exception": false,
     "start_time": "2023-10-31T09:29:05.551697",
     "status": "completed"
    },
    "tags": []
   },
   "source": [
    "As proposed earlier, a virtual device gives us the possibility to modify the parameters of a physical device. The function `dataclasses.replace()` can be used to create a new `VirtualDevice` having some parameters changed.  \n",
    "For example, simulations can be run on a virtual device having the same properties as `Chadoq2` but allowing working in 3 dimensions."
   ]
  },
  {
   "cell_type": "code",
   "execution_count": 6,
   "id": "884de902",
   "metadata": {
    "execution": {
     "iopub.execute_input": "2023-10-31T09:29:05.593169Z",
     "iopub.status.busy": "2023-10-31T09:29:05.592768Z",
     "iopub.status.idle": "2023-10-31T09:29:05.598541Z",
     "shell.execute_reply": "2023-10-31T09:29:05.597576Z"
    },
    "papermill": {
     "duration": 0.02458,
     "end_time": "2023-10-31T09:29:05.604933",
     "exception": false,
     "start_time": "2023-10-31T09:29:05.580353",
     "status": "completed"
    },
    "tags": []
   },
   "outputs": [
    {
     "name": "stdout",
     "output_type": "stream",
     "text": [
      "VirtualDevice(name='Chadoq2', dimensions=3, rydberg_level=70, min_atom_distance=4, max_atom_num=100, max_radial_distance=50, interaction_coeff_xy=None, supports_slm_mask=True, max_layout_filling=0.5, max_sequence_duration=None, max_runs=None, reusable_channels=False, channel_ids=('rydberg_global', 'rydberg_local', 'raman_local'), channel_objects=(Rydberg.Global(Max Absolute Detuning: 125.66370614359172 rad/µs, Max Amplitude: 15.707963267948966 rad/µs, Clock period: 4 ns, Minimum pulse duration: 16 ns, Maximum pulse duration: 67108864 ns, Basis: 'ground-rydberg'), Rydberg.Local(Max Absolute Detuning: 125.66370614359172 rad/µs, Max Amplitude: 62.83185307179586 rad/µs, Minimum retarget time: 220 ns, Fixed retarget time: 0 ns, Max targets: 1, Clock period: 4 ns, Minimum pulse duration: 16 ns, Maximum pulse duration: 67108864 ns, Basis: 'ground-rydberg'), Raman.Local(Max Absolute Detuning: 125.66370614359172 rad/µs, Max Amplitude: 62.83185307179586 rad/µs, Minimum retarget time: 220 ns, Fixed retarget time: 0 ns, Max targets: 1, Clock period: 4 ns, Minimum pulse duration: 16 ns, Maximum pulse duration: 67108864 ns, Basis: 'digital')), dmm_objects=(DMM.Global(Max Absolute Detuning: None, Max Amplitude: 0, Clock period: 4 ns, Minimum pulse duration: 16 ns, Maximum pulse duration: 67108864 ns, Basis: 'ground-rydberg'),))\n"
     ]
    }
   ],
   "source": [
    "# Adding a dimension to the emulator\n",
    "VirtualChadoq3D = replace(VirtualChadoq, dimensions=3)\n",
    "print(VirtualChadoq3D)"
   ]
  },
  {
   "cell_type": "markdown",
   "id": "d20b4577",
   "metadata": {
    "papermill": {
     "duration": 0.013039,
     "end_time": "2023-10-31T09:29:05.645324",
     "exception": false,
     "start_time": "2023-10-31T09:29:05.632285",
     "status": "completed"
    },
    "tags": []
   },
   "source": [
    "### Unrealistic parameters of a virtual device"
   ]
  },
  {
   "cell_type": "markdown",
   "id": "fd3001b3",
   "metadata": {
    "papermill": {
     "duration": 0.013342,
     "end_time": "2023-10-31T09:29:05.674612",
     "exception": false,
     "start_time": "2023-10-31T09:29:05.661270",
     "status": "completed"
    },
    "tags": []
   },
   "source": [
    "Among the parameters defined in a `VirtualDevice`, some are called unrealistic as they do not refer to something physically implementable.  \n",
    "For instance, it is possible to change the Rydberg level used in the simulation or to call a channel multiple times in the same sequence. Modifying the Rydberg level has an impact on the coefficient $C_6$ (see [here](https://github.com/pasqal-io/Pulser/blob/develop/pulser-core/pulser/devices/interaction_coefficients/C6_coeffs.json) for the correspondance between the Rydberg level and $C_6$ coefficient)."
   ]
  },
  {
   "cell_type": "code",
   "execution_count": 7,
   "id": "920e1912",
   "metadata": {
    "execution": {
     "iopub.execute_input": "2023-10-31T09:29:05.699537Z",
     "iopub.status.busy": "2023-10-31T09:29:05.699155Z",
     "iopub.status.idle": "2023-10-31T09:29:05.705995Z",
     "shell.execute_reply": "2023-10-31T09:29:05.705190Z"
    },
    "papermill": {
     "duration": 0.027455,
     "end_time": "2023-10-31T09:29:05.712193",
     "exception": false,
     "start_time": "2023-10-31T09:29:05.684738",
     "status": "completed"
    },
    "tags": []
   },
   "outputs": [
    {
     "name": "stdout",
     "output_type": "stream",
     "text": [
      "VirtualDevice(name='Chadoq2', dimensions=3, rydberg_level=61, min_atom_distance=4, max_atom_num=100, max_radial_distance=50, interaction_coeff_xy=None, supports_slm_mask=True, max_layout_filling=0.5, max_sequence_duration=None, max_runs=None, reusable_channels=False, channel_ids=('rydberg_global', 'rydberg_local', 'raman_local'), channel_objects=(Rydberg.Global(Max Absolute Detuning: 125.66370614359172 rad/µs, Max Amplitude: 15.707963267948966 rad/µs, Clock period: 4 ns, Minimum pulse duration: 16 ns, Maximum pulse duration: 67108864 ns, Basis: 'ground-rydberg'), Rydberg.Local(Max Absolute Detuning: 125.66370614359172 rad/µs, Max Amplitude: 62.83185307179586 rad/µs, Minimum retarget time: 220 ns, Fixed retarget time: 0 ns, Max targets: 1, Clock period: 4 ns, Minimum pulse duration: 16 ns, Maximum pulse duration: 67108864 ns, Basis: 'ground-rydberg'), Raman.Local(Max Absolute Detuning: 125.66370614359172 rad/µs, Max Amplitude: 62.83185307179586 rad/µs, Minimum retarget time: 220 ns, Fixed retarget time: 0 ns, Max targets: 1, Clock period: 4 ns, Minimum pulse duration: 16 ns, Maximum pulse duration: 67108864 ns, Basis: 'digital')), dmm_objects=(DMM.Global(Max Absolute Detuning: None, Max Amplitude: 0, Clock period: 4 ns, Minimum pulse duration: 16 ns, Maximum pulse duration: 67108864 ns, Basis: 'ground-rydberg'),))\n"
     ]
    }
   ],
   "source": [
    "# Changing the Rydberg level\n",
    "VirtualChadoq3D.change_rydberg_level(61)\n",
    "print(VirtualChadoq3D)"
   ]
  },
  {
   "cell_type": "code",
   "execution_count": 8,
   "id": "61286729",
   "metadata": {
    "execution": {
     "iopub.execute_input": "2023-10-31T09:29:05.748570Z",
     "iopub.status.busy": "2023-10-31T09:29:05.748154Z",
     "iopub.status.idle": "2023-10-31T09:29:05.756917Z",
     "shell.execute_reply": "2023-10-31T09:29:05.756057Z"
    },
    "papermill": {
     "duration": 0.025989,
     "end_time": "2023-10-31T09:29:05.762710",
     "exception": false,
     "start_time": "2023-10-31T09:29:05.736721",
     "status": "completed"
    },
    "tags": []
   },
   "outputs": [
    {
     "name": "stdout",
     "output_type": "stream",
     "text": [
      "{'ch0': Raman.Local(Max Absolute Detuning: 125.66370614359172 rad/µs, Max Amplitude: 62.83185307179586 rad/µs, Minimum retarget time: 220 ns, Fixed retarget time: 0 ns, Max targets: 1, Clock period: 4 ns, Minimum pulse duration: 16 ns, Maximum pulse duration: 67108864 ns, Basis: 'digital'), 'ch1': Raman.Local(Max Absolute Detuning: 125.66370614359172 rad/µs, Max Amplitude: 62.83185307179586 rad/µs, Minimum retarget time: 220 ns, Fixed retarget time: 0 ns, Max targets: 1, Clock period: 4 ns, Minimum pulse duration: 16 ns, Maximum pulse duration: 67108864 ns, Basis: 'digital')}\n"
     ]
    }
   ],
   "source": [
    "# Enable the multiple declaration of a channel in a sequence\n",
    "VirtualChadoq3D = replace(VirtualChadoq3D, reusable_channels=True)\n",
    "# Creating a square register\n",
    "reg = Register.square(4, spacing=5)  # 4x4 array with atoms 5 um apart\n",
    "# Building a sequence with the register and the virtual device\n",
    "seq = Sequence(reg, VirtualChadoq3D)\n",
    "# Declare twice the channel \"ram_loc\"\n",
    "seq.declare_channel(\"ch0\", \"raman_local\")\n",
    "seq.declare_channel(\"ch1\", \"raman_local\")\n",
    "# Show the declared channels\n",
    "print(seq.declared_channels)"
   ]
  },
  {
   "cell_type": "markdown",
   "id": "25a144f0",
   "metadata": {
    "papermill": {
     "duration": 0.010959,
     "end_time": "2023-10-31T09:29:05.783349",
     "exception": false,
     "start_time": "2023-10-31T09:29:05.772390",
     "status": "completed"
    },
    "tags": []
   },
   "source": [
    "### Building your own virtual device"
   ]
  },
  {
   "cell_type": "markdown",
   "id": "cfbab626",
   "metadata": {
    "papermill": {
     "duration": 0.01028,
     "end_time": "2023-10-31T09:29:05.804743",
     "exception": false,
     "start_time": "2023-10-31T09:29:05.794463",
     "status": "completed"
    },
    "tags": []
   },
   "source": [
    "More generally, the `VirtualDevice` class is more permissive than the `Device` class. In fact, some parameters can be left undefined and simpler devices can be built with a `VirtualDevice` instance. A virtual device only needs a `name`, a `dimension` and a `rydberg_level` to be initialized."
   ]
  },
  {
   "cell_type": "code",
   "execution_count": 9,
   "id": "17d40e64",
   "metadata": {
    "execution": {
     "iopub.execute_input": "2023-10-31T09:29:05.856815Z",
     "iopub.status.busy": "2023-10-31T09:29:05.855929Z",
     "iopub.status.idle": "2023-10-31T09:29:05.863889Z",
     "shell.execute_reply": "2023-10-31T09:29:05.862571Z"
    },
    "papermill": {
     "duration": 0.052051,
     "end_time": "2023-10-31T09:29:05.866359",
     "exception": false,
     "start_time": "2023-10-31T09:29:05.814308",
     "status": "completed"
    },
    "tags": []
   },
   "outputs": [
    {
     "name": "stdout",
     "output_type": "stream",
     "text": [
      "VirtualDevice(name='BasicMockDevice', dimensions=2, rydberg_level=61, min_atom_distance=0, max_atom_num=None, max_radial_distance=None, interaction_coeff_xy=None, supports_slm_mask=True, max_layout_filling=0.5, max_sequence_duration=None, max_runs=None, reusable_channels=True, channel_ids=(), channel_objects=(), dmm_objects=(DMM.Global(Max Absolute Detuning: None, Max Amplitude: 0, Clock period: 1 ns, Minimum pulse duration: 1 ns, Maximum pulse duration: 100000000 ns, Basis: 'ground-rydberg'),))\n"
     ]
    }
   ],
   "source": [
    "BasicVirtualDevice = VirtualDevice(\n",
    "    name=\"BasicMockDevice\",\n",
    "    dimensions=2,\n",
    "    rydberg_level=61,\n",
    ")\n",
    "print(BasicVirtualDevice)"
   ]
  },
  {
   "cell_type": "markdown",
   "id": "7ea19c3e",
   "metadata": {
    "papermill": {
     "duration": 0.023764,
     "end_time": "2023-10-31T09:29:05.900425",
     "exception": false,
     "start_time": "2023-10-31T09:29:05.876661",
     "status": "completed"
    },
    "tags": []
   },
   "source": [
    "### Defining the channels of your device"
   ]
  },
  {
   "cell_type": "markdown",
   "id": "58c88739",
   "metadata": {
    "papermill": {
     "duration": 0.024075,
     "end_time": "2023-10-31T09:29:05.948264",
     "exception": false,
     "start_time": "2023-10-31T09:29:05.924189",
     "status": "completed"
    },
    "tags": []
   },
   "source": [
    "Nevertheless, to perform computations, channels have to be defined. The channels enabled on the device are defined in `channel_objects`. Their IDs can be defined in `channel_ids`, but if no IDs are provided, they will be automatically generated as `{channeltype}_adressing`.  \n",
    "For example, the `Rydberg.Global` channel is automatically named `rydberg_global` in the specifications of `Chadoq2`."
   ]
  },
  {
   "cell_type": "code",
   "execution_count": 10,
   "id": "880e6cb7",
   "metadata": {
    "execution": {
     "iopub.execute_input": "2023-10-31T09:29:05.996669Z",
     "iopub.status.busy": "2023-10-31T09:29:05.996305Z",
     "iopub.status.idle": "2023-10-31T09:29:06.003417Z",
     "shell.execute_reply": "2023-10-31T09:29:06.002017Z"
    },
    "papermill": {
     "duration": 0.046454,
     "end_time": "2023-10-31T09:29:06.009916",
     "exception": false,
     "start_time": "2023-10-31T09:29:05.963462",
     "status": "completed"
    },
    "tags": []
   },
   "outputs": [
    {
     "name": "stdout",
     "output_type": "stream",
     "text": [
      "VirtualDevice(name='BasicMockDevice', dimensions=2, rydberg_level=61, min_atom_distance=0, max_atom_num=None, max_radial_distance=None, interaction_coeff_xy=None, supports_slm_mask=True, max_layout_filling=0.5, max_sequence_duration=None, max_runs=None, reusable_channels=True, channel_ids=('ryd_loc', 'ram_loc'), channel_objects=(Rydberg.Local(Max Absolute Detuning: None, Max Amplitude: None, Minimum retarget time: 0 ns, Fixed retarget time: 0 ns, Clock period: 1 ns, Minimum pulse duration: 1 ns, Basis: 'ground-rydberg'), Raman.Local(Max Absolute Detuning: None, Max Amplitude: None, Minimum retarget time: 0 ns, Fixed retarget time: 0 ns, Clock period: 1 ns, Minimum pulse duration: 1 ns, Basis: 'digital')), dmm_objects=(DMM.Global(Max Absolute Detuning: None, Max Amplitude: 0, Clock period: 1 ns, Minimum pulse duration: 1 ns, Maximum pulse duration: 100000000 ns, Basis: 'ground-rydberg'),))\n"
     ]
    }
   ],
   "source": [
    "# This basic device can be used for digital quantum computing\n",
    "DigitalQCVirtualDevice = replace(\n",
    "    BasicVirtualDevice,\n",
    "    channel_ids=(\n",
    "        \"ryd_loc\",\n",
    "        \"ram_loc\",\n",
    "    ),\n",
    "    channel_objects=(\n",
    "        Rydberg.Local(None, None, max_duration=None),\n",
    "        Raman.Local(None, None, max_duration=None),\n",
    "    ),\n",
    ")\n",
    "print(DigitalQCVirtualDevice)"
   ]
  },
  {
   "cell_type": "markdown",
   "id": "09e94c26",
   "metadata": {
    "papermill": {
     "duration": 0.022158,
     "end_time": "2023-10-31T09:29:06.073983",
     "exception": false,
     "start_time": "2023-10-31T09:29:06.051825",
     "status": "completed"
    },
    "tags": []
   },
   "source": [
    "### A built-in example of a virtual device: the `MockDevice`"
   ]
  },
  {
   "cell_type": "markdown",
   "id": "27e0999c",
   "metadata": {
    "papermill": {
     "duration": 0.014607,
     "end_time": "2023-10-31T09:29:06.113165",
     "exception": false,
     "start_time": "2023-10-31T09:29:06.098558",
     "status": "completed"
    },
    "tags": []
   },
   "source": [
    "Actually, there exists a virtual device having all the channels already implemented, with no constraints on the number of atoms, the distance between them. This virtual device is the `MockDevice`."
   ]
  },
  {
   "cell_type": "code",
   "execution_count": 11,
   "id": "978fbc60",
   "metadata": {
    "execution": {
     "iopub.execute_input": "2023-10-31T09:29:06.156967Z",
     "iopub.status.busy": "2023-10-31T09:29:06.156597Z",
     "iopub.status.idle": "2023-10-31T09:29:06.162872Z",
     "shell.execute_reply": "2023-10-31T09:29:06.161623Z"
    },
    "papermill": {
     "duration": 0.027831,
     "end_time": "2023-10-31T09:29:06.166752",
     "exception": false,
     "start_time": "2023-10-31T09:29:06.138921",
     "status": "completed"
    },
    "tags": []
   },
   "outputs": [
    {
     "name": "stdout",
     "output_type": "stream",
     "text": [
      "VirtualDevice(name='MyMockDevice', dimensions=3, rydberg_level=70, min_atom_distance=0.0, max_atom_num=None, max_radial_distance=None, interaction_coeff_xy=3700.0, supports_slm_mask=True, max_layout_filling=0.5, max_sequence_duration=None, max_runs=None, reusable_channels=True, channel_ids=('rydberg_global', 'rydberg_local', 'raman_global', 'raman_local', 'mw_global'), channel_objects=(Rydberg.Global(Max Absolute Detuning: None, Max Amplitude: None, Clock period: 1 ns, Minimum pulse duration: 1 ns, Basis: 'ground-rydberg'), Rydberg.Local(Max Absolute Detuning: None, Max Amplitude: None, Minimum retarget time: 0 ns, Fixed retarget time: 0 ns, Clock period: 1 ns, Minimum pulse duration: 1 ns, Basis: 'ground-rydberg'), Raman.Global(Max Absolute Detuning: None, Max Amplitude: None, Clock period: 1 ns, Minimum pulse duration: 1 ns, Basis: 'digital'), Raman.Local(Max Absolute Detuning: None, Max Amplitude: None, Minimum retarget time: 0 ns, Fixed retarget time: 0 ns, Clock period: 1 ns, Minimum pulse duration: 1 ns, Basis: 'digital'), Microwave.Global(Max Absolute Detuning: None, Max Amplitude: None, Clock period: 1 ns, Minimum pulse duration: 1 ns, Basis: 'XY')), dmm_objects=(DMM.Global(Max Absolute Detuning: None, Max Amplitude: 0, Clock period: 1 ns, Minimum pulse duration: 1 ns, Maximum pulse duration: 100000000 ns, Basis: 'ground-rydberg'),))\n"
     ]
    }
   ],
   "source": [
    "MyMockDevice = replace(MockDevice, name=\"MyMockDevice\")\n",
    "print(MyMockDevice)"
   ]
  }
 ],
 "metadata": {
  "kernelspec": {
   "display_name": "pulser-ovh",
   "language": "python",
   "name": "pulser-ovh"
  },
  "language_info": {
   "codemirror_mode": {
    "name": "ipython",
    "version": 3
   },
   "file_extension": ".py",
   "mimetype": "text/x-python",
   "name": "python",
   "nbconvert_exporter": "python",
   "pygments_lexer": "ipython3",
   "version": "3.11.5"
  },
  "papermill": {
   "duration": 6.148461,
   "end_time": "2023-10-31T09:29:06.924042",
   "exception": null,
   "input_path": "/tmp/tmpg0s9kwk2.ipynb",
   "output_path": "4. Advanced features/4.9. Virtual Devices.ipynb",
   "parameters": {
    "product": "./4. Advanced features/4.9. Virtual Devices.ipynb"
   },
   "start_time": "2023-10-31T09:29:00.775581"
  },
  "vscode": {
   "interpreter": {
    "hash": "d7befc2b7128012c20acd62dabd11e354c11719f07d398d865d9fdabfc55d6a7"
   }
  }
 },
 "nbformat": 4,
 "nbformat_minor": 5
}