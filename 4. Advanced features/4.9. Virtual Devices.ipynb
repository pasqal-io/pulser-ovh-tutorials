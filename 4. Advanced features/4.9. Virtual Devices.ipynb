{
 "cells": [
  {
   "cell_type": "markdown",
   "id": "2ef68ddb",
   "metadata": {
    "papermill": {
     "duration": 0.00699,
     "end_time": "2024-02-14T13:04:44.740204",
     "exception": false,
     "start_time": "2024-02-14T13:04:44.733214",
     "status": "completed"
    },
    "tags": []
   },
   "source": [
    "# Devices and Virtual Devices"
   ]
  },
  {
   "cell_type": "code",
   "execution_count": 1,
   "id": "ae778016",
   "metadata": {
    "execution": {
     "iopub.execute_input": "2024-02-14T13:04:44.751063Z",
     "iopub.status.busy": "2024-02-14T13:04:44.750497Z",
     "iopub.status.idle": "2024-02-14T13:04:45.292954Z",
     "shell.execute_reply": "2024-02-14T13:04:45.292456Z"
    },
    "papermill": {
     "duration": 0.548462,
     "end_time": "2024-02-14T13:04:45.294014",
     "exception": false,
     "start_time": "2024-02-14T13:04:44.745552",
     "status": "completed"
    },
    "tags": []
   },
   "outputs": [],
   "source": [
    "import numpy as np\n",
    "from dataclasses import replace\n",
    "from pulser.devices import Device, VirtualDevice, Chadoq2, MockDevice\n",
    "from pulser.channels import Rydberg, Raman, Microwave\n",
    "from pulser import Pulse, Sequence, Register"
   ]
  },
  {
   "cell_type": "markdown",
   "id": "7b46ef34",
   "metadata": {
    "papermill": {
     "duration": 0.001455,
     "end_time": "2024-02-14T13:04:45.296957",
     "exception": false,
     "start_time": "2024-02-14T13:04:45.295502",
     "status": "completed"
    },
    "tags": []
   },
   "source": [
    "## Physical devices"
   ]
  },
  {
   "cell_type": "markdown",
   "id": "336efa79",
   "metadata": {
    "papermill": {
     "duration": 0.001343,
     "end_time": "2024-02-14T13:04:45.299591",
     "exception": false,
     "start_time": "2024-02-14T13:04:45.298248",
     "status": "completed"
    },
    "tags": []
   },
   "source": [
    "To perform any computation using Pulser, it is necessary to choose a device. For convenience, some examples of typical physical devices are included and can be accessed via `pulser.devices`.  \n",
    "These devices are instances of the `Device` class. They are constrained by physical considerations and all their parameters are defined.\n",
    "\n",
    "As an example, we present below the specifications of the physical device `Chadoq2`, which can be accessed via the `Device.print_specs()` method."
   ]
  },
  {
   "cell_type": "code",
   "execution_count": 2,
   "id": "b0f98af0",
   "metadata": {
    "execution": {
     "iopub.execute_input": "2024-02-14T13:04:45.302730Z",
     "iopub.status.busy": "2024-02-14T13:04:45.302510Z",
     "iopub.status.idle": "2024-02-14T13:04:45.304524Z",
     "shell.execute_reply": "2024-02-14T13:04:45.304294Z"
    },
    "papermill": {
     "duration": 0.004397,
     "end_time": "2024-02-14T13:04:45.305230",
     "exception": false,
     "start_time": "2024-02-14T13:04:45.300833",
     "status": "completed"
    },
    "tags": []
   },
   "outputs": [
    {
     "name": "stdout",
     "output_type": "stream",
     "text": [
      "----------------------\n",
      "Chadoq2 Specifications\n",
      "----------------------\n",
      "\n",
      "Register parameters:\n",
      " - Dimensions: 2D\n",
      " - Rydberg level: 70\n",
      " - Maximum number of atoms: 100\n",
      " - Maximum distance from origin: 50 μm\n",
      " - Minimum distance between neighbouring atoms: 4 μm\n",
      " - Maximum layout filling fraction: 0.5\n",
      " - SLM Mask: Yes\n",
      "\n",
      "Channels:\n",
      " - 'rydberg_global': Rydberg.Global(Max Absolute Detuning: 125.66370614359172 rad/µs, Max Amplitude: 15.707963267948966 rad/µs, Clock period: 4 ns, Minimum pulse duration: 16 ns, Maximum pulse duration: 67108864 ns, Basis: 'ground-rydberg')\n",
      " - 'rydberg_local': Rydberg.Local(Max Absolute Detuning: 125.66370614359172 rad/µs, Max Amplitude: 62.83185307179586 rad/µs, Minimum retarget time: 220 ns, Fixed retarget time: 0 ns, Max targets: 1, Clock period: 4 ns, Minimum pulse duration: 16 ns, Maximum pulse duration: 67108864 ns, Basis: 'ground-rydberg')\n",
      " - 'raman_local': Raman.Local(Max Absolute Detuning: 125.66370614359172 rad/µs, Max Amplitude: 62.83185307179586 rad/µs, Minimum retarget time: 220 ns, Fixed retarget time: 0 ns, Max targets: 1, Clock period: 4 ns, Minimum pulse duration: 16 ns, Maximum pulse duration: 67108864 ns, Basis: 'digital')\n",
      " - 'dmm_0': DMM.Global(Max Absolute Detuning: None, Max Amplitude: 0, Clock period: 4 ns, Minimum pulse duration: 16 ns, Maximum pulse duration: 67108864 ns, Basis: 'ground-rydberg')\n"
     ]
    }
   ],
   "source": [
    "# Display Chadoq2's specifications\n",
    "Chadoq2.print_specs()"
   ]
  },
  {
   "cell_type": "markdown",
   "id": "5b829f4f",
   "metadata": {
    "papermill": {
     "duration": 0.001197,
     "end_time": "2024-02-14T13:04:45.307723",
     "exception": false,
     "start_time": "2024-02-14T13:04:45.306526",
     "status": "completed"
    },
    "tags": []
   },
   "source": [
    "## Virtual Devices"
   ]
  },
  {
   "cell_type": "markdown",
   "id": "6d35554c",
   "metadata": {
    "papermill": {
     "duration": 0.001184,
     "end_time": "2024-02-14T13:04:45.310193",
     "exception": false,
     "start_time": "2024-02-14T13:04:45.309009",
     "status": "completed"
    },
    "tags": []
   },
   "source": [
    "### Converting a Device into a Virtual Device"
   ]
  },
  {
   "cell_type": "markdown",
   "id": "34942b03",
   "metadata": {
    "papermill": {
     "duration": 0.001178,
     "end_time": "2024-02-14T13:04:45.312557",
     "exception": false,
     "start_time": "2024-02-14T13:04:45.311379",
     "status": "completed"
    },
    "tags": []
   },
   "source": [
    "However, we sometimes want to perform the computations on a more permissive device, a device that would have more dimensions or more atoms for instance, or more types of channels. This can be done on an emulator behaving like a device. The `VirtualDevice` class is useful to define such an emulator, a virtual device.\n",
    "\n",
    "Let's start by configuring a virtual device having the same parameters as `Chadoq2`. To do this, we use the `Device.to_virtual()` method that creates a virtual device from a physical one. "
   ]
  },
  {
   "cell_type": "code",
   "execution_count": 3,
   "id": "c234fc57",
   "metadata": {
    "execution": {
     "iopub.execute_input": "2024-02-14T13:04:45.315792Z",
     "iopub.status.busy": "2024-02-14T13:04:45.315692Z",
     "iopub.status.idle": "2024-02-14T13:04:45.317498Z",
     "shell.execute_reply": "2024-02-14T13:04:45.317290Z"
    },
    "papermill": {
     "duration": 0.004295,
     "end_time": "2024-02-14T13:04:45.318160",
     "exception": false,
     "start_time": "2024-02-14T13:04:45.313865",
     "status": "completed"
    },
    "tags": []
   },
   "outputs": [
    {
     "name": "stdout",
     "output_type": "stream",
     "text": [
      "VirtualDevice(name='Chadoq2', dimensions=2, rydberg_level=70, min_atom_distance=4, max_atom_num=100, max_radial_distance=50, interaction_coeff_xy=None, supports_slm_mask=True, max_layout_filling=0.5, max_sequence_duration=None, max_runs=None, reusable_channels=False, channel_ids=('rydberg_global', 'rydberg_local', 'raman_local'), channel_objects=(Rydberg.Global(Max Absolute Detuning: 125.66370614359172 rad/µs, Max Amplitude: 15.707963267948966 rad/µs, Clock period: 4 ns, Minimum pulse duration: 16 ns, Maximum pulse duration: 67108864 ns, Basis: 'ground-rydberg'), Rydberg.Local(Max Absolute Detuning: 125.66370614359172 rad/µs, Max Amplitude: 62.83185307179586 rad/µs, Minimum retarget time: 220 ns, Fixed retarget time: 0 ns, Max targets: 1, Clock period: 4 ns, Minimum pulse duration: 16 ns, Maximum pulse duration: 67108864 ns, Basis: 'ground-rydberg'), Raman.Local(Max Absolute Detuning: 125.66370614359172 rad/µs, Max Amplitude: 62.83185307179586 rad/µs, Minimum retarget time: 220 ns, Fixed retarget time: 0 ns, Max targets: 1, Clock period: 4 ns, Minimum pulse duration: 16 ns, Maximum pulse duration: 67108864 ns, Basis: 'digital')), dmm_objects=(DMM.Global(Max Absolute Detuning: None, Max Amplitude: 0, Clock period: 4 ns, Minimum pulse duration: 16 ns, Maximum pulse duration: 67108864 ns, Basis: 'ground-rydberg'),))\n"
     ]
    }
   ],
   "source": [
    "# Converting the Device object in a VirtualDevice object\n",
    "VirtualChadoq = Chadoq2.to_virtual()\n",
    "print(VirtualChadoq)"
   ]
  },
  {
   "cell_type": "markdown",
   "id": "a8fbf4b7",
   "metadata": {
    "papermill": {
     "duration": 0.001235,
     "end_time": "2024-02-14T13:04:45.320578",
     "exception": false,
     "start_time": "2024-02-14T13:04:45.319343",
     "status": "completed"
    },
    "tags": []
   },
   "source": [
    "### Changing parameters of a virtual device with `dataclasses.replace()`"
   ]
  },
  {
   "cell_type": "markdown",
   "id": "8c761913",
   "metadata": {
    "papermill": {
     "duration": 0.001231,
     "end_time": "2024-02-14T13:04:45.323117",
     "exception": false,
     "start_time": "2024-02-14T13:04:45.321886",
     "status": "completed"
    },
    "tags": []
   },
   "source": [
    "As proposed earlier, a virtual device gives us the possibility to modify the parameters of a physical device. The function `dataclasses.replace()` can be used to create a new `VirtualDevice` having some parameters changed.  \n",
    "For example, simulations can be run on a virtual device having the same properties as `Chadoq2` but allowing working in 3 dimensions."
   ]
  },
  {
   "cell_type": "code",
   "execution_count": 4,
   "id": "884de902",
   "metadata": {
    "execution": {
     "iopub.execute_input": "2024-02-14T13:04:45.326068Z",
     "iopub.status.busy": "2024-02-14T13:04:45.325980Z",
     "iopub.status.idle": "2024-02-14T13:04:45.327701Z",
     "shell.execute_reply": "2024-02-14T13:04:45.327464Z"
    },
    "papermill": {
     "duration": 0.004037,
     "end_time": "2024-02-14T13:04:45.328394",
     "exception": false,
     "start_time": "2024-02-14T13:04:45.324357",
     "status": "completed"
    },
    "tags": []
   },
   "outputs": [
    {
     "name": "stdout",
     "output_type": "stream",
     "text": [
      "VirtualDevice(name='Chadoq2', dimensions=3, rydberg_level=70, min_atom_distance=4, max_atom_num=100, max_radial_distance=50, interaction_coeff_xy=None, supports_slm_mask=True, max_layout_filling=0.5, max_sequence_duration=None, max_runs=None, reusable_channels=False, channel_ids=('rydberg_global', 'rydberg_local', 'raman_local'), channel_objects=(Rydberg.Global(Max Absolute Detuning: 125.66370614359172 rad/µs, Max Amplitude: 15.707963267948966 rad/µs, Clock period: 4 ns, Minimum pulse duration: 16 ns, Maximum pulse duration: 67108864 ns, Basis: 'ground-rydberg'), Rydberg.Local(Max Absolute Detuning: 125.66370614359172 rad/µs, Max Amplitude: 62.83185307179586 rad/µs, Minimum retarget time: 220 ns, Fixed retarget time: 0 ns, Max targets: 1, Clock period: 4 ns, Minimum pulse duration: 16 ns, Maximum pulse duration: 67108864 ns, Basis: 'ground-rydberg'), Raman.Local(Max Absolute Detuning: 125.66370614359172 rad/µs, Max Amplitude: 62.83185307179586 rad/µs, Minimum retarget time: 220 ns, Fixed retarget time: 0 ns, Max targets: 1, Clock period: 4 ns, Minimum pulse duration: 16 ns, Maximum pulse duration: 67108864 ns, Basis: 'digital')), dmm_objects=(DMM.Global(Max Absolute Detuning: None, Max Amplitude: 0, Clock period: 4 ns, Minimum pulse duration: 16 ns, Maximum pulse duration: 67108864 ns, Basis: 'ground-rydberg'),))\n"
     ]
    }
   ],
   "source": [
    "# Adding a dimension to the emulator\n",
    "VirtualChadoq3D = replace(VirtualChadoq, dimensions=3)\n",
    "print(VirtualChadoq3D)"
   ]
  },
  {
   "cell_type": "markdown",
   "id": "d20b4577",
   "metadata": {
    "papermill": {
     "duration": 0.001314,
     "end_time": "2024-02-14T13:04:45.331167",
     "exception": false,
     "start_time": "2024-02-14T13:04:45.329853",
     "status": "completed"
    },
    "tags": []
   },
   "source": [
    "### Unrealistic parameters of a virtual device"
   ]
  },
  {
   "cell_type": "markdown",
   "id": "fd3001b3",
   "metadata": {
    "papermill": {
     "duration": 0.0013,
     "end_time": "2024-02-14T13:04:45.333706",
     "exception": false,
     "start_time": "2024-02-14T13:04:45.332406",
     "status": "completed"
    },
    "tags": []
   },
   "source": [
    "Among the parameters defined in a `VirtualDevice`, some are called unrealistic as they do not refer to something physically implementable.  \n",
    "For instance, it is possible to change the Rydberg level used in the simulation or to call a channel multiple times in the same sequence. Modifying the Rydberg level has an impact on the coefficient $C_6$ (see [here](https://github.com/pasqal-io/Pulser/blob/develop/pulser-core/pulser/devices/interaction_coefficients/C6_coeffs.json) for the correspondance between the Rydberg level and $C_6$ coefficient)."
   ]
  },
  {
   "cell_type": "code",
   "execution_count": 5,
   "id": "920e1912",
   "metadata": {
    "execution": {
     "iopub.execute_input": "2024-02-14T13:04:45.336712Z",
     "iopub.status.busy": "2024-02-14T13:04:45.336615Z",
     "iopub.status.idle": "2024-02-14T13:04:45.338247Z",
     "shell.execute_reply": "2024-02-14T13:04:45.338056Z"
    },
    "papermill": {
     "duration": 0.003918,
     "end_time": "2024-02-14T13:04:45.338911",
     "exception": false,
     "start_time": "2024-02-14T13:04:45.334993",
     "status": "completed"
    },
    "tags": []
   },
   "outputs": [
    {
     "name": "stdout",
     "output_type": "stream",
     "text": [
      "VirtualDevice(name='Chadoq2', dimensions=3, rydberg_level=61, min_atom_distance=4, max_atom_num=100, max_radial_distance=50, interaction_coeff_xy=None, supports_slm_mask=True, max_layout_filling=0.5, max_sequence_duration=None, max_runs=None, reusable_channels=False, channel_ids=('rydberg_global', 'rydberg_local', 'raman_local'), channel_objects=(Rydberg.Global(Max Absolute Detuning: 125.66370614359172 rad/µs, Max Amplitude: 15.707963267948966 rad/µs, Clock period: 4 ns, Minimum pulse duration: 16 ns, Maximum pulse duration: 67108864 ns, Basis: 'ground-rydberg'), Rydberg.Local(Max Absolute Detuning: 125.66370614359172 rad/µs, Max Amplitude: 62.83185307179586 rad/µs, Minimum retarget time: 220 ns, Fixed retarget time: 0 ns, Max targets: 1, Clock period: 4 ns, Minimum pulse duration: 16 ns, Maximum pulse duration: 67108864 ns, Basis: 'ground-rydberg'), Raman.Local(Max Absolute Detuning: 125.66370614359172 rad/µs, Max Amplitude: 62.83185307179586 rad/µs, Minimum retarget time: 220 ns, Fixed retarget time: 0 ns, Max targets: 1, Clock period: 4 ns, Minimum pulse duration: 16 ns, Maximum pulse duration: 67108864 ns, Basis: 'digital')), dmm_objects=(DMM.Global(Max Absolute Detuning: None, Max Amplitude: 0, Clock period: 4 ns, Minimum pulse duration: 16 ns, Maximum pulse duration: 67108864 ns, Basis: 'ground-rydberg'),))\n"
     ]
    }
   ],
   "source": [
    "# Changing the Rydberg level\n",
    "VirtualChadoq3D.change_rydberg_level(61)\n",
    "print(VirtualChadoq3D)"
   ]
  },
  {
   "cell_type": "code",
   "execution_count": 6,
   "id": "61286729",
   "metadata": {
    "execution": {
     "iopub.execute_input": "2024-02-14T13:04:45.341912Z",
     "iopub.status.busy": "2024-02-14T13:04:45.341830Z",
     "iopub.status.idle": "2024-02-14T13:04:45.344221Z",
     "shell.execute_reply": "2024-02-14T13:04:45.344028Z"
    },
    "papermill": {
     "duration": 0.004678,
     "end_time": "2024-02-14T13:04:45.344898",
     "exception": false,
     "start_time": "2024-02-14T13:04:45.340220",
     "status": "completed"
    },
    "tags": []
   },
   "outputs": [
    {
     "name": "stdout",
     "output_type": "stream",
     "text": [
      "{'ch0': Raman.Local(Max Absolute Detuning: 125.66370614359172 rad/µs, Max Amplitude: 62.83185307179586 rad/µs, Minimum retarget time: 220 ns, Fixed retarget time: 0 ns, Max targets: 1, Clock period: 4 ns, Minimum pulse duration: 16 ns, Maximum pulse duration: 67108864 ns, Basis: 'digital'), 'ch1': Raman.Local(Max Absolute Detuning: 125.66370614359172 rad/µs, Max Amplitude: 62.83185307179586 rad/µs, Minimum retarget time: 220 ns, Fixed retarget time: 0 ns, Max targets: 1, Clock period: 4 ns, Minimum pulse duration: 16 ns, Maximum pulse duration: 67108864 ns, Basis: 'digital')}\n"
     ]
    }
   ],
   "source": [
    "# Enable the multiple declaration of a channel in a sequence\n",
    "VirtualChadoq3D = replace(VirtualChadoq3D, reusable_channels=True)\n",
    "# Creating a square register\n",
    "reg = Register.square(4, spacing=5)  # 4x4 array with atoms 5 um apart\n",
    "# Building a sequence with the register and the virtual device\n",
    "seq = Sequence(reg, VirtualChadoq3D)\n",
    "# Declare twice the channel \"ram_loc\"\n",
    "seq.declare_channel(\"ch0\", \"raman_local\")\n",
    "seq.declare_channel(\"ch1\", \"raman_local\")\n",
    "# Show the declared channels\n",
    "print(seq.declared_channels)"
   ]
  },
  {
   "cell_type": "markdown",
   "id": "25a144f0",
   "metadata": {
    "papermill": {
     "duration": 0.001282,
     "end_time": "2024-02-14T13:04:45.347592",
     "exception": false,
     "start_time": "2024-02-14T13:04:45.346310",
     "status": "completed"
    },
    "tags": []
   },
   "source": [
    "### Building your own virtual device"
   ]
  },
  {
   "cell_type": "markdown",
   "id": "cfbab626",
   "metadata": {
    "papermill": {
     "duration": 0.001471,
     "end_time": "2024-02-14T13:04:45.350316",
     "exception": false,
     "start_time": "2024-02-14T13:04:45.348845",
     "status": "completed"
    },
    "tags": []
   },
   "source": [
    "More generally, the `VirtualDevice` class is more permissive than the `Device` class. In fact, some parameters can be left undefined and simpler devices can be built with a `VirtualDevice` instance. A virtual device only needs a `name`, a `dimension` and a `rydberg_level` to be initialized."
   ]
  },
  {
   "cell_type": "code",
   "execution_count": 7,
   "id": "17d40e64",
   "metadata": {
    "execution": {
     "iopub.execute_input": "2024-02-14T13:04:45.353234Z",
     "iopub.status.busy": "2024-02-14T13:04:45.353156Z",
     "iopub.status.idle": "2024-02-14T13:04:45.354797Z",
     "shell.execute_reply": "2024-02-14T13:04:45.354590Z"
    },
    "papermill": {
     "duration": 0.003875,
     "end_time": "2024-02-14T13:04:45.355439",
     "exception": false,
     "start_time": "2024-02-14T13:04:45.351564",
     "status": "completed"
    },
    "tags": []
   },
   "outputs": [
    {
     "name": "stdout",
     "output_type": "stream",
     "text": [
      "VirtualDevice(name='BasicMockDevice', dimensions=2, rydberg_level=61, min_atom_distance=0, max_atom_num=None, max_radial_distance=None, interaction_coeff_xy=None, supports_slm_mask=True, max_layout_filling=0.5, max_sequence_duration=None, max_runs=None, reusable_channels=True, channel_ids=(), channel_objects=(), dmm_objects=(DMM.Global(Max Absolute Detuning: None, Max Amplitude: 0, Clock period: 1 ns, Minimum pulse duration: 1 ns, Maximum pulse duration: 100000000 ns, Basis: 'ground-rydberg'),))\n"
     ]
    }
   ],
   "source": [
    "BasicVirtualDevice = VirtualDevice(\n",
    "    name=\"BasicMockDevice\",\n",
    "    dimensions=2,\n",
    "    rydberg_level=61,\n",
    ")\n",
    "print(BasicVirtualDevice)"
   ]
  },
  {
   "cell_type": "markdown",
   "id": "7ea19c3e",
   "metadata": {
    "papermill": {
     "duration": 0.001354,
     "end_time": "2024-02-14T13:04:45.358136",
     "exception": false,
     "start_time": "2024-02-14T13:04:45.356782",
     "status": "completed"
    },
    "tags": []
   },
   "source": [
    "### Defining the channels of your device"
   ]
  },
  {
   "cell_type": "markdown",
   "id": "58c88739",
   "metadata": {
    "papermill": {
     "duration": 0.001321,
     "end_time": "2024-02-14T13:04:45.360723",
     "exception": false,
     "start_time": "2024-02-14T13:04:45.359402",
     "status": "completed"
    },
    "tags": []
   },
   "source": [
    "Nevertheless, to perform computations, channels have to be defined. The channels enabled on the device are defined in `channel_objects`. Their IDs can be defined in `channel_ids`, but if no IDs are provided, they will be automatically generated as `{channeltype}_adressing`.  \n",
    "For example, the `Rydberg.Global` channel is automatically named `rydberg_global` in the specifications of `Chadoq2`."
   ]
  },
  {
   "cell_type": "code",
   "execution_count": 8,
   "id": "880e6cb7",
   "metadata": {
    "execution": {
     "iopub.execute_input": "2024-02-14T13:04:45.363921Z",
     "iopub.status.busy": "2024-02-14T13:04:45.363830Z",
     "iopub.status.idle": "2024-02-14T13:04:45.365777Z",
     "shell.execute_reply": "2024-02-14T13:04:45.365577Z"
    },
    "papermill": {
     "duration": 0.004262,
     "end_time": "2024-02-14T13:04:45.366429",
     "exception": false,
     "start_time": "2024-02-14T13:04:45.362167",
     "status": "completed"
    },
    "tags": []
   },
   "outputs": [
    {
     "name": "stdout",
     "output_type": "stream",
     "text": [
      "VirtualDevice(name='BasicMockDevice', dimensions=2, rydberg_level=61, min_atom_distance=0, max_atom_num=None, max_radial_distance=None, interaction_coeff_xy=None, supports_slm_mask=True, max_layout_filling=0.5, max_sequence_duration=None, max_runs=None, reusable_channels=True, channel_ids=('ryd_loc', 'ram_loc'), channel_objects=(Rydberg.Local(Max Absolute Detuning: None, Max Amplitude: None, Minimum retarget time: 0 ns, Fixed retarget time: 0 ns, Clock period: 1 ns, Minimum pulse duration: 1 ns, Basis: 'ground-rydberg'), Raman.Local(Max Absolute Detuning: None, Max Amplitude: None, Minimum retarget time: 0 ns, Fixed retarget time: 0 ns, Clock period: 1 ns, Minimum pulse duration: 1 ns, Basis: 'digital')), dmm_objects=(DMM.Global(Max Absolute Detuning: None, Max Amplitude: 0, Clock period: 1 ns, Minimum pulse duration: 1 ns, Maximum pulse duration: 100000000 ns, Basis: 'ground-rydberg'),))\n"
     ]
    }
   ],
   "source": [
    "# This basic device can be used for digital quantum computing\n",
    "DigitalQCVirtualDevice = replace(\n",
    "    BasicVirtualDevice,\n",
    "    channel_ids=(\n",
    "        \"ryd_loc\",\n",
    "        \"ram_loc\",\n",
    "    ),\n",
    "    channel_objects=(\n",
    "        Rydberg.Local(None, None, max_duration=None),\n",
    "        Raman.Local(None, None, max_duration=None),\n",
    "    ),\n",
    ")\n",
    "print(DigitalQCVirtualDevice)"
   ]
  },
  {
   "cell_type": "markdown",
   "id": "09e94c26",
   "metadata": {
    "papermill": {
     "duration": 0.001362,
     "end_time": "2024-02-14T13:04:45.369392",
     "exception": false,
     "start_time": "2024-02-14T13:04:45.368030",
     "status": "completed"
    },
    "tags": []
   },
   "source": [
    "### A built-in example of a virtual device: the `MockDevice`"
   ]
  },
  {
   "cell_type": "markdown",
   "id": "27e0999c",
   "metadata": {
    "papermill": {
     "duration": 0.001377,
     "end_time": "2024-02-14T13:04:45.372082",
     "exception": false,
     "start_time": "2024-02-14T13:04:45.370705",
     "status": "completed"
    },
    "tags": []
   },
   "source": [
    "Actually, there exists a virtual device having all the channels already implemented, with no constraints on the number of atoms, the distance between them. This virtual device is the `MockDevice`."
   ]
  },
  {
   "cell_type": "code",
   "execution_count": 9,
   "id": "978fbc60",
   "metadata": {
    "execution": {
     "iopub.execute_input": "2024-02-14T13:04:45.375361Z",
     "iopub.status.busy": "2024-02-14T13:04:45.375272Z",
     "iopub.status.idle": "2024-02-14T13:04:45.376989Z",
     "shell.execute_reply": "2024-02-14T13:04:45.376772Z"
    },
    "papermill": {
     "duration": 0.004226,
     "end_time": "2024-02-14T13:04:45.377624",
     "exception": false,
     "start_time": "2024-02-14T13:04:45.373398",
     "status": "completed"
    },
    "tags": []
   },
   "outputs": [
    {
     "name": "stdout",
     "output_type": "stream",
     "text": [
      "VirtualDevice(name='MyMockDevice', dimensions=3, rydberg_level=70, min_atom_distance=0.0, max_atom_num=None, max_radial_distance=None, interaction_coeff_xy=3700.0, supports_slm_mask=True, max_layout_filling=0.5, max_sequence_duration=None, max_runs=None, reusable_channels=True, channel_ids=('rydberg_global', 'rydberg_local', 'raman_global', 'raman_local', 'mw_global'), channel_objects=(Rydberg.Global(Max Absolute Detuning: None, Max Amplitude: None, Clock period: 1 ns, Minimum pulse duration: 1 ns, Basis: 'ground-rydberg'), Rydberg.Local(Max Absolute Detuning: None, Max Amplitude: None, Minimum retarget time: 0 ns, Fixed retarget time: 0 ns, Clock period: 1 ns, Minimum pulse duration: 1 ns, Basis: 'ground-rydberg'), Raman.Global(Max Absolute Detuning: None, Max Amplitude: None, Clock period: 1 ns, Minimum pulse duration: 1 ns, Basis: 'digital'), Raman.Local(Max Absolute Detuning: None, Max Amplitude: None, Minimum retarget time: 0 ns, Fixed retarget time: 0 ns, Clock period: 1 ns, Minimum pulse duration: 1 ns, Basis: 'digital'), Microwave.Global(Max Absolute Detuning: None, Max Amplitude: None, Clock period: 1 ns, Minimum pulse duration: 1 ns, Basis: 'XY')), dmm_objects=(DMM.Global(Max Absolute Detuning: None, Max Amplitude: 0, Clock period: 1 ns, Minimum pulse duration: 1 ns, Maximum pulse duration: 100000000 ns, Basis: 'ground-rydberg'),))\n"
     ]
    }
   ],
   "source": [
    "MyMockDevice = replace(MockDevice, name=\"MyMockDevice\")\n",
    "print(MyMockDevice)"
   ]
  }
 ],
 "metadata": {
  "kernelspec": {
   "display_name": "pulser-ovh",
   "language": "python",
   "name": "pulser-ovh"
  },
  "language_info": {
   "codemirror_mode": {
    "name": "ipython",
    "version": 3
   },
   "file_extension": ".py",
   "mimetype": "text/x-python",
   "name": "python",
   "nbconvert_exporter": "python",
   "pygments_lexer": "ipython3",
   "version": "3.11.7"
  },
  "papermill": {
   "duration": 1.566584,
   "end_time": "2024-02-14T13:04:45.595963",
   "exception": null,
   "input_path": "./4. Advanced features/4.9. Virtual Devices.ipynb",
   "output_path": "./4. Advanced features/4.9. Virtual Devices.ipynb",
   "parameters": {
    "product": "./4. Advanced features/4.9. Virtual Devices.ipynb"
   },
   "start_time": "2024-02-14T13:04:44.029379"
  },
  "vscode": {
   "interpreter": {
    "hash": "d7befc2b7128012c20acd62dabd11e354c11719f07d398d865d9fdabfc55d6a7"
   }
  }
 },
 "nbformat": 4,
 "nbformat_minor": 5
}